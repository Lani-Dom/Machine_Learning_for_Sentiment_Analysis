{
 "cells": [
  {
   "cell_type": "markdown",
   "metadata": {},
   "source": [
    "# Clasificación Automatizada de Sentimientos en Reseñas de Películas"
   ]
  },
  {
   "cell_type": "markdown",
   "metadata": {},
   "source": [
    "-----"
   ]
  },
  {
   "cell_type": "markdown",
   "metadata": {},
   "source": [
    "## Overview"
   ]
  },
  {
   "cell_type": "markdown",
   "metadata": {},
   "source": [
    "### Descripción"
   ]
  },
  {
   "cell_type": "markdown",
   "metadata": {},
   "source": [
    "<div style=\"color: #196CC4;\">\n",
    "Este proyecto consiste en desarrollar un sistema automatizado para filtrar y categorizar reseñas de películas como positivas o negativas. Utilizando un conjunto de datos de reseñas de películas de IMDB con etiquetas predefinidas, se entrenará un modelo de aprendizaje automático para detectar automáticamente las críticas positivas y negativas. \n",
    " </div>"
   ]
  },
  {
   "cell_type": "markdown",
   "metadata": {},
   "source": [
    "### Objetivo"
   ]
  },
  {
   "cell_type": "markdown",
   "metadata": {},
   "source": [
    "<div style=\"color: #196CC4;\">\n",
    "El objetivo principal es implementar un sistema que logre una métrica F1 de al menos 0.85 en la clasificación de reseñas como positivas o negativas, a través del entrenamiento y evaluación de modelos de aprendizaje automático que puedan clasificar correctamente el contenido del texto de la reseña. Esto permitirá automatizar y optimizar el proceso de análisis de sentimientos en el contexto específico de críticas cinematográficas, proporcionando una herramienta útil para la comunidad de aficionados al cine.\n",
    " </div>"
   ]
  },
  {
   "cell_type": "markdown",
   "metadata": {},
   "source": [
    "### Recursos"
   ]
  },
  {
   "cell_type": "markdown",
   "metadata": {},
   "source": [
    "<div style=\"color: #196CC4;\">\n",
    "<b>Características</b><br>\n",
    "▶ tconst - Identificador único para cada título de película<br>\n",
    "▶ title_type - Tipo de título, como 'movie' o 'short', indicando la categoría del título<br>\n",
    "▶ primary_title - Título principal de la película<br>\n",
    "▶ original_title - Título original de la película, en el idioma original si es diferente al título principal<br>\n",
    "▶ start_year - Año de lanzamiento de la película<br>\n",
    "▶ end_year - Año de finalización de la película (generalmente \"\\N\" indica que no hay información disponible)<br>\n",
    "▶ runtime_minutes - Duración en minutos de la película<br>\n",
    "▶ is_adult - Indicador de si la película es para adultos (1) o no (0)<br>\n",
    "▶ genres - Géneros de la película<br>\n",
    "▶ average_rating - Calificación promedio de la película<br>\n",
    "▶ votes - Número de votos recibidos para la película<br>\n",
    "▶ review - Texto de la reseña de la película<br>\n",
    "▶ rating - Clasificación de la reseña (neg para negativa, pos para positiva)<br>\n",
    "▶ sp - ¿Quizás una abreviatura o código específico relacionado con la clasificación de la reseña?<br>\n",
    "▶ ds_part - Indicador de si la observación pertenece al conjunto de datos de entrenamiento ('train') o de prueba ('test')<br>\n",
    "▶ idx - Identificador de índice único para cada observación.![image.png](attachment:image.png)<br>\n",
    "\n",
    "<b>Objetivo</b><br>\n",
    "▶ pos - Indicador de si la reseña es positiva (1) o negativa (0)<br>\n",
    "</div>"
   ]
  },
  {
   "cell_type": "markdown",
   "metadata": {},
   "source": [
    "### Methodology"
   ]
  },
  {
   "cell_type": "markdown",
   "metadata": {},
   "source": [
    "<div style=\"color: #196CC4;\">\n",
    "<ol>\n",
    "<li>Inicialización y Análisis Exploratorio de Datos\n",
    "<ul>\n",
    "<li>Se importan librerías, módulos y el dataset: imdb_reviews.tsv</li>\n",
    "<li>Se realiza un análisis exploratorio de datos inicial, incluyendo correlaciones, valores faltantes, duplicados y sintaxis.</li>\n",
    "<li>Se limpia el dataset: se unifican los nombres de las columnas, se tratan los valores faltantes y se ajustan los tipos de datos.</li>\n",
    "<li>Análisis Exploratorio de Datos\n",
    "<ul>\n",
    "<li>Se calcula la estadística descriptiva.</li>\n",
    "<li>Se eliminan las filas con valores faltantes.</li>\n",
    "<li>Se simplifica el dataset, eliminando columnas irrelevantes.</li>\n",
    "<li>Se analiza la distribución de reseñas por película.</li>\n",
    "<li>Se visualiza la distribución de datos con gráficos KDE.</li>\n",
    "<li>Se analiza el equilibrio de las clases (positivo/negativo).</li>\n",
    "<li>Se compara la distribución de calificaciones en los conjuntos de entrenamiento y prueba.</li>\n",
    "<li>Se analiza la evolución de las reseñas positivas y negativas a lo largo del tiempo.</li>\n",
    "</ul>\n",
    "</li>\n",
    "</ul>\n",
    "</li>\n",
    "\n",
    "<li>Preparación de Datos\n",
    "<ul>\n",
    "<li>Se crea una función para evaluar el rendimiento de los modelos.</li>\n",
    "<li>Se normaliza el texto: minúsculas, eliminación de dígitos y signos de puntuación.</li>\n",
    "<li>Se divide el dataset en conjuntos de entrenamiento y prueba.</li>\n",
    "</ul>\n",
    "</li>\n",
    "\n",
    "<li>Análisis de Sentimiento con Modelos\n",
    "<ul>\n",
    "<li>Se utiliza un DummyClassifier como línea base.</li>\n",
    "<li>Modelo 1: NLTK + TF-IDF + Regresión Logística.</li>\n",
    "<li>Modelo 2: SpaCy + TF-IDF + Regresión Logística.</li>\n",
    "<li>Modelo 3: SpaCy + TF-IDF + LightGBM.</li>\n",
    "<li>Modelo 4: SpaCy + TF-IDF + Random Forest.</li>\n",
    "<li>Modelo 5: SpaCy + TF-IDF + Grid Search.</li>\n",
    "</ul>\n",
    "</li>\n",
    "\n",
    "<li>Evaluación del Modelo\n",
    "<ul>\n",
    "<li>Se comparan las métricas de rendimiento de todos los modelos (Accuracy, F1-Score, ROC AUC).</li>\n",
    "</ul>\n",
    "</li>\n",
    "\n",
    "<li>Análisis de Sentimiento con Nuevas Reseñas\n",
    "<ul>\n",
    "<li>Se utiliza un nuevo conjunto de reseñas para evaluar los modelos entrenados.</li>\n",
    "<li>Se seleccionan reseñas variadas.</li>\n",
    "<li>Se aplica la función de normalización a las nuevas reseñas.</li>\n",
    "<li>Se evalúan todos los modelos con las nuevas reseñas.</li>\n",
    "<li>Se realiza un análisis final de los resultados.</li>\n",
    "</ul>\n",
    "</li>\n",
    "\n",
    "<li>Conclusiones\n",
    "<ul>\n",
    "<li>Se analizan los resultados de los modelos.</li>\n",
    "<li>Se comparan las métricas de rendimiento.</li>\n",
    "<li>Se selecciona el mejor modelo y se resumen los resultados.</li>\n",
    "</ul>\n",
    "</li>\n",
    "</ol>\n",
    "</div>"
   ]
  },
  {
   "cell_type": "markdown",
   "metadata": {},
   "source": [
    "-----"
   ]
  },
  {
   "cell_type": "markdown",
   "metadata": {},
   "source": [
    "## Información general"
   ]
  },
  {
   "cell_type": "markdown",
   "metadata": {},
   "source": [
    "### Inicialización"
   ]
  },
  {
   "cell_type": "markdown",
   "metadata": {},
   "source": [
    "<div style=\"color: #196CC4;\">\n",
    "▶ Importación de bibliotecas y carga de datos\n",
    "</div>"
   ]
  },
  {
   "cell_type": "code",
   "execution_count": 1,
   "metadata": {},
   "outputs": [],
   "source": [
    "# Data analysis\n",
    "import pandas as pd\n",
    "\n",
    "# Numerical operations\n",
    "import numpy as np\n",
    "\n",
    "# Data visualization\n",
    "import matplotlib\n",
    "import matplotlib.pyplot as plt\n",
    "import matplotlib.dates as mdates\n",
    "\n",
    "# Attractive data visualization\n",
    "import seaborn as sns   \n",
    "\n",
    "# Maths\n",
    "import math\n",
    "\n",
    "# Metrics\n",
    "import sklearn.metrics as metrics\n",
    "from sklearn.metrics import accuracy_score, f1_score, roc_auc_score\n",
    "\n",
    "# Converting textual data into numerical features\n",
    "from sklearn.feature_extraction.text import TfidfVectorizer, CountVectorizer\n",
    "\n",
    "# Progress bar\n",
    "from tqdm.auto import tqdm\n",
    "\n",
    "# Regular expressions\n",
    "import re\n",
    "\n",
    "# Strings\n",
    "import string\n",
    "\n",
    "# Natural Language Processing (NLP)\n",
    "import nltk\n",
    "import spacy \n",
    "\n",
    "# Stopwords\n",
    "from nltk.corpus import stopwords\n",
    "\n",
    "# Models\n",
    "from lightgbm import LGBMClassifier\n",
    "import lightgbm as lgb\n",
    "from sklearn.dummy import DummyClassifier\n",
    "from sklearn.linear_model import LogisticRegression\n",
    "from sklearn.ensemble import RandomForestClassifier\n",
    "from sklearn.model_selection import GridSearchCV"
   ]
  },
  {
   "cell_type": "markdown",
   "metadata": {},
   "source": [
    "<div style=\"color: #196CC4;\">\n",
    "A continuación se muestra el entorno de visualización de gráficos:<br>\n",
    "    \n",
    "▶ <b>%matplotlib inline:</b> habilita la representación de gráficos de matplotlib directamente dentro del cuaderno (notebook) de Jupyter, en lugar de abrir una ventana emergente separada.<br>\n",
    "▶ <b>%config InlineBackend.figure_format = 'png':</b> configura el formato de las figuras generadas por matplotlib, renderizando en formato PNG. <br>\n",
    "▶ <b>plt.style.use('seaborn'):</b> establece el estilo de los gráficos generados con 'seaborn', que es un estilo de visualización más moderno y atractivo que los estilos predeterminados de matplotlib. \n",
    "    </div>"
   ]
  },
  {
   "cell_type": "code",
   "execution_count": 2,
   "metadata": {},
   "outputs": [],
   "source": [
    "# Inline data visualization\n",
    "%matplotlib inline\n",
    "\n",
    "# PNG visualization\n",
    "%config InlineBackend.figure_format = 'png'\n",
    "\n",
    "# Better quality for HiDPI\n",
    "# %config InlineBackend.figure_format = 'retina'\n",
    "\n",
    "# Modern visualization\n",
    "plt.style.use('seaborn-v0_8')"
   ]
  },
  {
   "cell_type": "markdown",
   "metadata": {},
   "source": [
    "<div style=\"color: #196CC4;\">\n",
    "A continuación se muestra el monitoreo de tiempo y recursos para completar operaciones complejas en grandes conjuntos de datos.<br>\n",
    "    \n",
    "▶ <b>Uso de tqdm:</b> barra de progreso visual durante iteraciones largas o realización de operaciones que pueden tomar mucho tiempo.<br>\n",
    "▶ <b>progress_apply en Pandas:</b> útil para operaciones que involucran manipulación intensiva de datos que podrían tomar un tiempo considerable. \n",
    "      </div>"
   ]
  },
  {
   "cell_type": "code",
   "execution_count": 3,
   "metadata": {},
   "outputs": [],
   "source": [
    "# Progress bar\n",
    "tqdm.pandas()"
   ]
  },
  {
   "cell_type": "code",
   "execution_count": 4,
   "metadata": {},
   "outputs": [],
   "source": [
    "# Import data\n",
    "df_reviews = pd.read_csv('datasets/imdb_reviews.tsv', sep='\\t', dtype={'votes': 'Int64'})\n",
    "\n",
    "# *Data provided by Andrew L. Maas, Raymond E. Daly, Peter T. Pham, Dan Huang, Andrew Y. Ng, and Christopher Potts. (2011). Learning Word Vectors for Sentiment Analysis. "
   ]
  },
  {
   "cell_type": "markdown",
   "metadata": {},
   "source": [
    "### Despliegue de dataset"
   ]
  },
  {
   "cell_type": "markdown",
   "metadata": {},
   "source": [
    "<div style=\"color: #196CC4;\">\n",
    "▶ Propiedades generales del Dataframe\n",
    "</div>"
   ]
  },
  {
   "cell_type": "code",
   "execution_count": 5,
   "metadata": {},
   "outputs": [
    {
     "name": "stdout",
     "output_type": "stream",
     "text": [
      "<class 'pandas.core.frame.DataFrame'>\n",
      "RangeIndex: 47331 entries, 0 to 47330\n",
      "Data columns (total 17 columns):\n",
      " #   Column           Non-Null Count  Dtype  \n",
      "---  ------           --------------  -----  \n",
      " 0   tconst           47331 non-null  object \n",
      " 1   title_type       47331 non-null  object \n",
      " 2   primary_title    47331 non-null  object \n",
      " 3   original_title   47331 non-null  object \n",
      " 4   start_year       47331 non-null  int64  \n",
      " 5   end_year         47331 non-null  object \n",
      " 6   runtime_minutes  47331 non-null  object \n",
      " 7   is_adult         47331 non-null  int64  \n",
      " 8   genres           47331 non-null  object \n",
      " 9   average_rating   47329 non-null  float64\n",
      " 10  votes            47329 non-null  Int64  \n",
      " 11  review           47331 non-null  object \n",
      " 12  rating           47331 non-null  int64  \n",
      " 13  sp               47331 non-null  object \n",
      " 14  pos              47331 non-null  int64  \n",
      " 15  ds_part          47331 non-null  object \n",
      " 16  idx              47331 non-null  int64  \n",
      "dtypes: Int64(1), float64(1), int64(5), object(10)\n",
      "memory usage: 6.2+ MB\n"
     ]
    }
   ],
   "source": [
    "# General Dataframe properties\n",
    "df_reviews.info()"
   ]
  },
  {
   "cell_type": "markdown",
   "metadata": {},
   "source": [
    "<div style=\"color: #196CC4;\">\n",
    "▶ Vistazo general del Dataframe\n",
    "</div>"
   ]
  },
  {
   "cell_type": "code",
   "execution_count": 6,
   "metadata": {
    "scrolled": true
   },
   "outputs": [
    {
     "data": {
      "text/html": [
       "<div>\n",
       "<style scoped>\n",
       "    .dataframe tbody tr th:only-of-type {\n",
       "        vertical-align: middle;\n",
       "    }\n",
       "\n",
       "    .dataframe tbody tr th {\n",
       "        vertical-align: top;\n",
       "    }\n",
       "\n",
       "    .dataframe thead th {\n",
       "        text-align: right;\n",
       "    }\n",
       "</style>\n",
       "<table border=\"1\" class=\"dataframe\">\n",
       "  <thead>\n",
       "    <tr style=\"text-align: right;\">\n",
       "      <th></th>\n",
       "      <th>tconst</th>\n",
       "      <th>title_type</th>\n",
       "      <th>primary_title</th>\n",
       "      <th>original_title</th>\n",
       "      <th>start_year</th>\n",
       "      <th>end_year</th>\n",
       "      <th>runtime_minutes</th>\n",
       "      <th>is_adult</th>\n",
       "      <th>genres</th>\n",
       "      <th>average_rating</th>\n",
       "      <th>votes</th>\n",
       "      <th>review</th>\n",
       "      <th>rating</th>\n",
       "      <th>sp</th>\n",
       "      <th>pos</th>\n",
       "      <th>ds_part</th>\n",
       "      <th>idx</th>\n",
       "    </tr>\n",
       "  </thead>\n",
       "  <tbody>\n",
       "    <tr>\n",
       "      <th>0</th>\n",
       "      <td>tt0068152</td>\n",
       "      <td>movie</td>\n",
       "      <td>$</td>\n",
       "      <td>$</td>\n",
       "      <td>1971</td>\n",
       "      <td>\\N</td>\n",
       "      <td>121</td>\n",
       "      <td>0</td>\n",
       "      <td>Comedy,Crime,Drama</td>\n",
       "      <td>6.3</td>\n",
       "      <td>2218</td>\n",
       "      <td>The pakage implies that Warren Beatty and Gold...</td>\n",
       "      <td>1</td>\n",
       "      <td>neg</td>\n",
       "      <td>0</td>\n",
       "      <td>train</td>\n",
       "      <td>8335</td>\n",
       "    </tr>\n",
       "    <tr>\n",
       "      <th>1</th>\n",
       "      <td>tt0068152</td>\n",
       "      <td>movie</td>\n",
       "      <td>$</td>\n",
       "      <td>$</td>\n",
       "      <td>1971</td>\n",
       "      <td>\\N</td>\n",
       "      <td>121</td>\n",
       "      <td>0</td>\n",
       "      <td>Comedy,Crime,Drama</td>\n",
       "      <td>6.3</td>\n",
       "      <td>2218</td>\n",
       "      <td>How the hell did they get this made?! Presenti...</td>\n",
       "      <td>1</td>\n",
       "      <td>neg</td>\n",
       "      <td>0</td>\n",
       "      <td>train</td>\n",
       "      <td>8336</td>\n",
       "    </tr>\n",
       "    <tr>\n",
       "      <th>2</th>\n",
       "      <td>tt0313150</td>\n",
       "      <td>short</td>\n",
       "      <td>'15'</td>\n",
       "      <td>'15'</td>\n",
       "      <td>2002</td>\n",
       "      <td>\\N</td>\n",
       "      <td>25</td>\n",
       "      <td>0</td>\n",
       "      <td>Comedy,Drama,Short</td>\n",
       "      <td>6.3</td>\n",
       "      <td>184</td>\n",
       "      <td>There is no real story the film seems more lik...</td>\n",
       "      <td>3</td>\n",
       "      <td>neg</td>\n",
       "      <td>0</td>\n",
       "      <td>test</td>\n",
       "      <td>2489</td>\n",
       "    </tr>\n",
       "    <tr>\n",
       "      <th>3</th>\n",
       "      <td>tt0313150</td>\n",
       "      <td>short</td>\n",
       "      <td>'15'</td>\n",
       "      <td>'15'</td>\n",
       "      <td>2002</td>\n",
       "      <td>\\N</td>\n",
       "      <td>25</td>\n",
       "      <td>0</td>\n",
       "      <td>Comedy,Drama,Short</td>\n",
       "      <td>6.3</td>\n",
       "      <td>184</td>\n",
       "      <td>Um .... a serious film about troubled teens in...</td>\n",
       "      <td>7</td>\n",
       "      <td>pos</td>\n",
       "      <td>1</td>\n",
       "      <td>test</td>\n",
       "      <td>9280</td>\n",
       "    </tr>\n",
       "    <tr>\n",
       "      <th>4</th>\n",
       "      <td>tt0313150</td>\n",
       "      <td>short</td>\n",
       "      <td>'15'</td>\n",
       "      <td>'15'</td>\n",
       "      <td>2002</td>\n",
       "      <td>\\N</td>\n",
       "      <td>25</td>\n",
       "      <td>0</td>\n",
       "      <td>Comedy,Drama,Short</td>\n",
       "      <td>6.3</td>\n",
       "      <td>184</td>\n",
       "      <td>I'm totally agree with GarryJohal from Singapo...</td>\n",
       "      <td>9</td>\n",
       "      <td>pos</td>\n",
       "      <td>1</td>\n",
       "      <td>test</td>\n",
       "      <td>9281</td>\n",
       "    </tr>\n",
       "    <tr>\n",
       "      <th>5</th>\n",
       "      <td>tt0313150</td>\n",
       "      <td>short</td>\n",
       "      <td>'15'</td>\n",
       "      <td>'15'</td>\n",
       "      <td>2002</td>\n",
       "      <td>\\N</td>\n",
       "      <td>25</td>\n",
       "      <td>0</td>\n",
       "      <td>Comedy,Drama,Short</td>\n",
       "      <td>6.3</td>\n",
       "      <td>184</td>\n",
       "      <td>This is the first movie I've seen from Singapo...</td>\n",
       "      <td>9</td>\n",
       "      <td>pos</td>\n",
       "      <td>1</td>\n",
       "      <td>test</td>\n",
       "      <td>9282</td>\n",
       "    </tr>\n",
       "    <tr>\n",
       "      <th>6</th>\n",
       "      <td>tt0313150</td>\n",
       "      <td>short</td>\n",
       "      <td>'15'</td>\n",
       "      <td>'15'</td>\n",
       "      <td>2002</td>\n",
       "      <td>\\N</td>\n",
       "      <td>25</td>\n",
       "      <td>0</td>\n",
       "      <td>Comedy,Drama,Short</td>\n",
       "      <td>6.3</td>\n",
       "      <td>184</td>\n",
       "      <td>Yes non-Singaporean's can't see what's the big...</td>\n",
       "      <td>9</td>\n",
       "      <td>pos</td>\n",
       "      <td>1</td>\n",
       "      <td>test</td>\n",
       "      <td>9283</td>\n",
       "    </tr>\n",
       "    <tr>\n",
       "      <th>7</th>\n",
       "      <td>tt0035958</td>\n",
       "      <td>movie</td>\n",
       "      <td>'Gung Ho!': The Story of Carlson's Makin Islan...</td>\n",
       "      <td>'Gung Ho!': The Story of Carlson's Makin Islan...</td>\n",
       "      <td>1943</td>\n",
       "      <td>\\N</td>\n",
       "      <td>88</td>\n",
       "      <td>0</td>\n",
       "      <td>Drama,History,War</td>\n",
       "      <td>6.1</td>\n",
       "      <td>1240</td>\n",
       "      <td>This true story of Carlson's Raiders is more o...</td>\n",
       "      <td>2</td>\n",
       "      <td>neg</td>\n",
       "      <td>0</td>\n",
       "      <td>train</td>\n",
       "      <td>9903</td>\n",
       "    </tr>\n",
       "    <tr>\n",
       "      <th>8</th>\n",
       "      <td>tt0035958</td>\n",
       "      <td>movie</td>\n",
       "      <td>'Gung Ho!': The Story of Carlson's Makin Islan...</td>\n",
       "      <td>'Gung Ho!': The Story of Carlson's Makin Islan...</td>\n",
       "      <td>1943</td>\n",
       "      <td>\\N</td>\n",
       "      <td>88</td>\n",
       "      <td>0</td>\n",
       "      <td>Drama,History,War</td>\n",
       "      <td>6.1</td>\n",
       "      <td>1240</td>\n",
       "      <td>Should have been titled 'Balderdash!' Little i...</td>\n",
       "      <td>2</td>\n",
       "      <td>neg</td>\n",
       "      <td>0</td>\n",
       "      <td>train</td>\n",
       "      <td>9905</td>\n",
       "    </tr>\n",
       "    <tr>\n",
       "      <th>9</th>\n",
       "      <td>tt0035958</td>\n",
       "      <td>movie</td>\n",
       "      <td>'Gung Ho!': The Story of Carlson's Makin Islan...</td>\n",
       "      <td>'Gung Ho!': The Story of Carlson's Makin Islan...</td>\n",
       "      <td>1943</td>\n",
       "      <td>\\N</td>\n",
       "      <td>88</td>\n",
       "      <td>0</td>\n",
       "      <td>Drama,History,War</td>\n",
       "      <td>6.1</td>\n",
       "      <td>1240</td>\n",
       "      <td>The movie 'Gung Ho!': The Story of Carlson's M...</td>\n",
       "      <td>4</td>\n",
       "      <td>neg</td>\n",
       "      <td>0</td>\n",
       "      <td>train</td>\n",
       "      <td>9904</td>\n",
       "    </tr>\n",
       "  </tbody>\n",
       "</table>\n",
       "</div>"
      ],
      "text/plain": [
       "      tconst title_type                                      primary_title  \\\n",
       "0  tt0068152      movie                                                  $   \n",
       "1  tt0068152      movie                                                  $   \n",
       "2  tt0313150      short                                               '15'   \n",
       "3  tt0313150      short                                               '15'   \n",
       "4  tt0313150      short                                               '15'   \n",
       "5  tt0313150      short                                               '15'   \n",
       "6  tt0313150      short                                               '15'   \n",
       "7  tt0035958      movie  'Gung Ho!': The Story of Carlson's Makin Islan...   \n",
       "8  tt0035958      movie  'Gung Ho!': The Story of Carlson's Makin Islan...   \n",
       "9  tt0035958      movie  'Gung Ho!': The Story of Carlson's Makin Islan...   \n",
       "\n",
       "                                      original_title  start_year end_year  \\\n",
       "0                                                  $        1971       \\N   \n",
       "1                                                  $        1971       \\N   \n",
       "2                                               '15'        2002       \\N   \n",
       "3                                               '15'        2002       \\N   \n",
       "4                                               '15'        2002       \\N   \n",
       "5                                               '15'        2002       \\N   \n",
       "6                                               '15'        2002       \\N   \n",
       "7  'Gung Ho!': The Story of Carlson's Makin Islan...        1943       \\N   \n",
       "8  'Gung Ho!': The Story of Carlson's Makin Islan...        1943       \\N   \n",
       "9  'Gung Ho!': The Story of Carlson's Makin Islan...        1943       \\N   \n",
       "\n",
       "  runtime_minutes  is_adult              genres  average_rating  votes  \\\n",
       "0             121         0  Comedy,Crime,Drama             6.3   2218   \n",
       "1             121         0  Comedy,Crime,Drama             6.3   2218   \n",
       "2              25         0  Comedy,Drama,Short             6.3    184   \n",
       "3              25         0  Comedy,Drama,Short             6.3    184   \n",
       "4              25         0  Comedy,Drama,Short             6.3    184   \n",
       "5              25         0  Comedy,Drama,Short             6.3    184   \n",
       "6              25         0  Comedy,Drama,Short             6.3    184   \n",
       "7              88         0   Drama,History,War             6.1   1240   \n",
       "8              88         0   Drama,History,War             6.1   1240   \n",
       "9              88         0   Drama,History,War             6.1   1240   \n",
       "\n",
       "                                              review  rating   sp  pos  \\\n",
       "0  The pakage implies that Warren Beatty and Gold...       1  neg    0   \n",
       "1  How the hell did they get this made?! Presenti...       1  neg    0   \n",
       "2  There is no real story the film seems more lik...       3  neg    0   \n",
       "3  Um .... a serious film about troubled teens in...       7  pos    1   \n",
       "4  I'm totally agree with GarryJohal from Singapo...       9  pos    1   \n",
       "5  This is the first movie I've seen from Singapo...       9  pos    1   \n",
       "6  Yes non-Singaporean's can't see what's the big...       9  pos    1   \n",
       "7  This true story of Carlson's Raiders is more o...       2  neg    0   \n",
       "8  Should have been titled 'Balderdash!' Little i...       2  neg    0   \n",
       "9  The movie 'Gung Ho!': The Story of Carlson's M...       4  neg    0   \n",
       "\n",
       "  ds_part   idx  \n",
       "0   train  8335  \n",
       "1   train  8336  \n",
       "2    test  2489  \n",
       "3    test  9280  \n",
       "4    test  9281  \n",
       "5    test  9282  \n",
       "6    test  9283  \n",
       "7   train  9903  \n",
       "8   train  9905  \n",
       "9   train  9904  "
      ]
     },
     "metadata": {},
     "output_type": "display_data"
    }
   ],
   "source": [
    "display(df_reviews.head(10))"
   ]
  },
  {
   "cell_type": "markdown",
   "metadata": {},
   "source": [
    "<div style=\"color: #196CC4;\">\n",
    "▶ Estadísticas descriptivas para los datos numéricos.\n",
    "</div>"
   ]
  },
  {
   "cell_type": "code",
   "execution_count": 7,
   "metadata": {},
   "outputs": [
    {
     "data": {
      "text/html": [
       "<div>\n",
       "<style scoped>\n",
       "    .dataframe tbody tr th:only-of-type {\n",
       "        vertical-align: middle;\n",
       "    }\n",
       "\n",
       "    .dataframe tbody tr th {\n",
       "        vertical-align: top;\n",
       "    }\n",
       "\n",
       "    .dataframe thead th {\n",
       "        text-align: right;\n",
       "    }\n",
       "</style>\n",
       "<table border=\"1\" class=\"dataframe\">\n",
       "  <thead>\n",
       "    <tr style=\"text-align: right;\">\n",
       "      <th></th>\n",
       "      <th>start_year</th>\n",
       "      <th>is_adult</th>\n",
       "      <th>average_rating</th>\n",
       "      <th>votes</th>\n",
       "      <th>rating</th>\n",
       "      <th>pos</th>\n",
       "      <th>idx</th>\n",
       "    </tr>\n",
       "  </thead>\n",
       "  <tbody>\n",
       "    <tr>\n",
       "      <th>count</th>\n",
       "      <td>47331.000000</td>\n",
       "      <td>47331.000000</td>\n",
       "      <td>47329.000000</td>\n",
       "      <td>47329.0</td>\n",
       "      <td>47331.000000</td>\n",
       "      <td>47331.000000</td>\n",
       "      <td>47331.000000</td>\n",
       "    </tr>\n",
       "    <tr>\n",
       "      <th>mean</th>\n",
       "      <td>1989.631235</td>\n",
       "      <td>0.001732</td>\n",
       "      <td>5.998278</td>\n",
       "      <td>25562.917323</td>\n",
       "      <td>5.484608</td>\n",
       "      <td>0.498954</td>\n",
       "      <td>6279.697999</td>\n",
       "    </tr>\n",
       "    <tr>\n",
       "      <th>std</th>\n",
       "      <td>19.600364</td>\n",
       "      <td>0.041587</td>\n",
       "      <td>1.494289</td>\n",
       "      <td>83670.039163</td>\n",
       "      <td>3.473109</td>\n",
       "      <td>0.500004</td>\n",
       "      <td>3605.702545</td>\n",
       "    </tr>\n",
       "    <tr>\n",
       "      <th>min</th>\n",
       "      <td>1894.000000</td>\n",
       "      <td>0.000000</td>\n",
       "      <td>1.400000</td>\n",
       "      <td>9.0</td>\n",
       "      <td>1.000000</td>\n",
       "      <td>0.000000</td>\n",
       "      <td>0.000000</td>\n",
       "    </tr>\n",
       "    <tr>\n",
       "      <th>25%</th>\n",
       "      <td>1982.000000</td>\n",
       "      <td>0.000000</td>\n",
       "      <td>5.100000</td>\n",
       "      <td>827.0</td>\n",
       "      <td>2.000000</td>\n",
       "      <td>0.000000</td>\n",
       "      <td>3162.000000</td>\n",
       "    </tr>\n",
       "    <tr>\n",
       "      <th>50%</th>\n",
       "      <td>1998.000000</td>\n",
       "      <td>0.000000</td>\n",
       "      <td>6.300000</td>\n",
       "      <td>3197.0</td>\n",
       "      <td>4.000000</td>\n",
       "      <td>0.000000</td>\n",
       "      <td>6299.000000</td>\n",
       "    </tr>\n",
       "    <tr>\n",
       "      <th>75%</th>\n",
       "      <td>2004.000000</td>\n",
       "      <td>0.000000</td>\n",
       "      <td>7.100000</td>\n",
       "      <td>13974.0</td>\n",
       "      <td>9.000000</td>\n",
       "      <td>1.000000</td>\n",
       "      <td>9412.000000</td>\n",
       "    </tr>\n",
       "    <tr>\n",
       "      <th>max</th>\n",
       "      <td>2010.000000</td>\n",
       "      <td>1.000000</td>\n",
       "      <td>9.700000</td>\n",
       "      <td>1739448.0</td>\n",
       "      <td>10.000000</td>\n",
       "      <td>1.000000</td>\n",
       "      <td>12499.000000</td>\n",
       "    </tr>\n",
       "  </tbody>\n",
       "</table>\n",
       "</div>"
      ],
      "text/plain": [
       "         start_year      is_adult  average_rating         votes        rating  \\\n",
       "count  47331.000000  47331.000000    47329.000000       47329.0  47331.000000   \n",
       "mean    1989.631235      0.001732        5.998278  25562.917323      5.484608   \n",
       "std       19.600364      0.041587        1.494289  83670.039163      3.473109   \n",
       "min     1894.000000      0.000000        1.400000           9.0      1.000000   \n",
       "25%     1982.000000      0.000000        5.100000         827.0      2.000000   \n",
       "50%     1998.000000      0.000000        6.300000        3197.0      4.000000   \n",
       "75%     2004.000000      0.000000        7.100000       13974.0      9.000000   \n",
       "max     2010.000000      1.000000        9.700000     1739448.0     10.000000   \n",
       "\n",
       "                pos           idx  \n",
       "count  47331.000000  47331.000000  \n",
       "mean       0.498954   6279.697999  \n",
       "std        0.500004   3605.702545  \n",
       "min        0.000000      0.000000  \n",
       "25%        0.000000   3162.000000  \n",
       "50%        0.000000   6299.000000  \n",
       "75%        1.000000   9412.000000  \n",
       "max        1.000000  12499.000000  "
      ]
     },
     "execution_count": 7,
     "metadata": {},
     "output_type": "execute_result"
    }
   ],
   "source": [
    "# Descriptive statistics\n",
    "df_reviews.describe()"
   ]
  },
  {
   "cell_type": "markdown",
   "metadata": {},
   "source": [
    "<div style=\"color: #196CC4;\">\n",
    "▶ Verificación de valores duplicados.\n",
    "</div>"
   ]
  },
  {
   "cell_type": "code",
   "execution_count": 8,
   "metadata": {},
   "outputs": [
    {
     "name": "stdout",
     "output_type": "stream",
     "text": [
      "Total de filas duplicadas:\n",
      "0\n"
     ]
    }
   ],
   "source": [
    "# Duplicated values\n",
    "review_duplicates = df_reviews.duplicated()\n",
    "\n",
    "# Sum of duplicated values\n",
    "total_review_duplicates = review_duplicates.sum()\n",
    "\n",
    "# Duplicated rows\n",
    "review_duplicates_rows = df_reviews[review_duplicates]\n",
    "\n",
    "# Display data\n",
    "print(\"Total de filas duplicadas:\")\n",
    "print(total_review_duplicates)\n",
    "#print()\n",
    "#print(\"Listado de aquellas filas duplicadas:\")\n",
    "#display(review_duplicates_rows)"
   ]
  },
  {
   "cell_type": "code",
   "execution_count": 9,
   "metadata": {},
   "outputs": [
    {
     "name": "stdout",
     "output_type": "stream",
     "text": [
      "Número de registros duplicados en 'review': 91\n"
     ]
    }
   ],
   "source": [
    "# Identify duplicates\n",
    "duplicates_reviews = df_reviews.duplicated(subset=['review'])\n",
    "\n",
    "# Sum\n",
    "num_duplicates_reviews = duplicates_reviews.sum()\n",
    "\n",
    "# Print\n",
    "print(f\"Número de registros duplicados en 'review': {num_duplicates_reviews}\")"
   ]
  },
  {
   "cell_type": "markdown",
   "metadata": {},
   "source": [
    "<div style=\"color: #196CC4;\">\n",
    "▶ Sabemos que la serie 'tconst' es el identificador único para cada título de película, por lo que a lo largo de los 47331 registros, filas o reseñas en este DataFrame, podemos identificar el número total de producciones que se están valorando \n",
    "</div>"
   ]
  },
  {
   "cell_type": "code",
   "execution_count": 10,
   "metadata": {},
   "outputs": [
    {
     "name": "stdout",
     "output_type": "stream",
     "text": [
      "Número de valores únicos (tconst) o cantidad total de películas: 6648\n"
     ]
    }
   ],
   "source": [
    "# Unique values\n",
    "num_unique_tconst = df_reviews['tconst'].nunique()\n",
    "print(f\"Número de valores únicos (tconst) o cantidad total de películas: {num_unique_tconst}\")"
   ]
  },
  {
   "cell_type": "markdown",
   "metadata": {},
   "source": [
    "### Observaciones iniciales"
   ]
  },
  {
   "cell_type": "markdown",
   "metadata": {},
   "source": [
    "<div style=\"color: #196CC4;\">\n",
    "▶ Los nombres de las Series están en minúsculas, lo cual ayuda a manejar correctamente los datos<br>\n",
    "▶ No hay filas duplicadas<br>\n",
    "▶ Existen 91 valores duplicados en la Serie \"reviews\"<br>\n",
    "▶ Existen valores ausentes en \"average_rating\" y \"votes\"<br>\n",
    "▶ De acuerdo a la estadística descriptiva, no se observa discrepancia pronunciada o valores atípicos en los mínimos máximos o en promedios<br><br>\n",
    "▶ Series que no influyen en el propósito de este proyecto, ya que no son críticos para el análisis de sentimientos y tampoco afectan de manera directa la clasificación de las reseñas:<br>\n",
    "    <ul>\n",
    "        <li>title_type: Tipo de título, como 'movie' o 'short', indicando la categoría del título</li>\n",
    "        <li>primary_title: Título principal de la película</li>\n",
    "        <li>original_title: Título original de la película, en el idioma original si es diferente al título principal</li>\n",
    "        <li>start_year: Año de lanzamiento de la película</li>\n",
    "        <li>end_year: Año de finalización de la película </li>\n",
    "        <li>runtime_minutes: Duración en minutos de la película</li>\n",
    "        <li>is_adult: Indicador de si la película es para adultos (1) o no (0)</li>\n",
    "        <li>rating: Clasificación de la reseña (neg para negativa, pos para positiva)</li>\n",
    "        <li>sp: ¿Quizás una abreviatura o código específico relacionado con la clasificación de la reseña</li>\n",
    "        <li>idx: Identificador de índice único para cada observación.</li>\n",
    "    </ul>\n",
    "\n",
    "</div>"
   ]
  },
  {
   "cell_type": "markdown",
   "metadata": {},
   "source": [
    "-----"
   ]
  },
  {
   "cell_type": "markdown",
   "metadata": {},
   "source": [
    "## Análisis Exploratorio de Datos (EDA)"
   ]
  },
  {
   "cell_type": "markdown",
   "metadata": {},
   "source": [
    "### Limpieza de datos"
   ]
  },
  {
   "cell_type": "markdown",
   "metadata": {},
   "source": [
    "<div style=\"color: #196CC4;\">\n",
    "▶ A continuación se eliminan las filas que coinciden con valores ausentes para \"average_rating\" y \"votes\" (solo solo 2)\n",
    "</div>"
   ]
  },
  {
   "cell_type": "code",
   "execution_count": 11,
   "metadata": {},
   "outputs": [],
   "source": [
    "# Delete rows with NaN\n",
    "df_reviews = df_reviews.dropna(subset=['average_rating', 'votes'])"
   ]
  },
  {
   "cell_type": "markdown",
   "metadata": {},
   "source": [
    "<div style=\"color: #196CC4;\">\n",
    "▶ A continuación se eliminan las filas que coinciden con valores duplicados para \"review\"\n",
    "</div>"
   ]
  },
  {
   "cell_type": "code",
   "execution_count": 12,
   "metadata": {},
   "outputs": [],
   "source": [
    "# Delete rows with 'reviews' duplicates\n",
    "df_reviews.drop_duplicates(subset=['review'], inplace=True)"
   ]
  },
  {
   "cell_type": "markdown",
   "metadata": {},
   "source": [
    "### Cantidad de reseñas por películas"
   ]
  },
  {
   "cell_type": "markdown",
   "metadata": {},
   "source": [
    "<div style=\"color: #196CC4;\">\n",
    "▶ A continuación se muestra en la primera gráfica de barras, cuántas películas tienen exactamente cada cantidad de reseñas. Por ejemplo, puede mostrar cuántas películas tienen 1 reseña, cuántas tienen 2 reseñas, cuántas tienen 3 reseñas, y así sucesivamente. Esto para entender la cantidad más común de reseñas que reciben las películas en el conjunto de datos.<br>\n",
    "▶ En el segundo gráfico de Densidad Kernel (KDE) para representar la distribución de datos en forma de una función de densidad de probabilidad suavizada. Esto para identificar tendencias o agrupaciones en la distribución de la cantidad de reseñas.\n",
    "</div>\n"
   ]
  },
  {
   "cell_type": "code",
   "execution_count": 13,
   "metadata": {},
   "outputs": [
    {
     "data": {
      "image/png": "[encoded data removed]",
      "text/plain": [
       "<Figure size 1600x500 with 2 Axes>"
      ]
     },
     "metadata": {},
     "output_type": "display_data"
    }
   ],
   "source": [
    "# Plot creation (2 rows, 1 column)\n",
    "fig, axs = plt.subplots(1, 2, figsize=(16, 5))\n",
    "\n",
    "# Subplot 1: Bar plot \n",
    "ax = axs[0]\n",
    "# Group by 'tconst', count the number of reviews per movie, then count how many movies have the same number of reviews\n",
    "dft = df_reviews.groupby('tconst')['review'].count().value_counts().sort_index()\n",
    "# Create bar plot\n",
    "dft.plot.bar(ax=ax)\n",
    "# Title\n",
    "ax.set_title('Gráfico de barras de reseñas de películas')\n",
    "\n",
    "# Subplot 2: KDE plot\n",
    "ax = axs[1]\n",
    "# Number of reviews per movie by grouping by 'tconst'\n",
    "dft = df_reviews.groupby('tconst')['review'].count()\n",
    "# Create kernel density estimate (KDE)\n",
    "sns.kdeplot(dft, ax=ax)\n",
    "# Title\n",
    "ax.set_title('Gráfico KDE de reseñas de películas')\n",
    "\n",
    "# Adjust subplot\n",
    "fig.tight_layout()\n"
   ]
  },
  {
   "cell_type": "markdown",
   "metadata": {},
   "source": [
    "### Equilibrio de clases"
   ]
  },
  {
   "cell_type": "markdown",
   "metadata": {},
   "source": [
    "<div style=\"color: #196CC4;\">\n",
    "▶ A continuación se muestra la distribución de clases en el conjunto de datos, mostrando información cuantitativa sobre la frecuencia de cada etiqueta en la columna 'pos', lo cual es fundamental para entender la distribución de los datos y para la preparación adecuada del análisis o del modelo de datos.</div>"
   ]
  },
  {
   "cell_type": "code",
   "execution_count": 14,
   "metadata": {},
   "outputs": [
    {
     "data": {
      "text/plain": [
       "pos\n",
       "0    23680\n",
       "1    23558\n",
       "Name: count, dtype: int64"
      ]
     },
     "execution_count": 14,
     "metadata": {},
     "output_type": "execute_result"
    }
   ],
   "source": [
    "# Value count\n",
    "pos_value_counts = df_reviews['pos'].value_counts()\n",
    "pos_value_counts"
   ]
  },
  {
   "cell_type": "code",
   "execution_count": 15,
   "metadata": {},
   "outputs": [
    {
     "data": {
      "image/png": "[encoded data removed]",
      "text/plain": [
       "<Figure size 400x300 with 1 Axes>"
      ]
     },
     "metadata": {},
     "output_type": "display_data"
    }
   ],
   "source": [
    "# Plot size\n",
    "plt.figure(figsize=(4, 3)) \n",
    "\n",
    "# Bars definition\n",
    "bars = plt.bar(pos_value_counts.index, pos_value_counts.values, color=['red', 'green'])\n",
    "\n",
    "# Labels\n",
    "plt.title('Distribución de valores para \"pos\"')\n",
    "plt.xlabel('Pos')\n",
    "plt.ylabel('Cantidad')\n",
    "\n",
    "# Print\n",
    "plt.show()"
   ]
  },
  {
   "cell_type": "markdown",
   "metadata": {},
   "source": [
    "<div style=\"color: #196CC4;\">\n",
    "▶ Dado que la distribución de las clases es bastante equilibrada con 23,715 registros para la clase 0 y 23,616 registros para la clase 1, no sería necesario abordar el problema del desequilibrio de clases en este proyecto.</div>"
   ]
  },
  {
   "cell_type": "markdown",
   "metadata": {},
   "source": [
    "### Distribución calificaciones (test / train)"
   ]
  },
  {
   "cell_type": "markdown",
   "metadata": {},
   "source": [
    "<div style=\"color: #196CC4;\">\n",
    "▶ A continuación se muestra la distribución de las calificaciones dentro de diferentes subconjuntos de entrenamiento y prueba utilizadas en el análisis de este proyecto.</div>"
   ]
  },
  {
   "cell_type": "code",
   "execution_count": 16,
   "metadata": {},
   "outputs": [
    {
     "name": "stdout",
     "output_type": "stream",
     "text": [
      "   Rating  Train Count  Test Count\n",
      "0       1       4856.0      4718.0\n",
      "1       2       2154.0      2181.0\n",
      "2       3       2314.0      2388.0\n",
      "3       4       2571.0      2498.0\n",
      "4       5          0.0         0.0\n",
      "5       6          0.0         0.0\n",
      "6       7       2390.0      2197.0\n",
      "7       8       2874.0      2692.0\n",
      "8       9       2145.0      2187.0\n",
      "9      10       4453.0      4620.0\n"
     ]
    }
   ],
   "source": [
    "# Training data\n",
    "dft_train = df_reviews.query('ds_part == \"train\"')['rating'].value_counts().sort_index()\n",
    "dft_train = dft_train.reindex(index=np.arange(min(dft_train.index.min(), 1), max(dft_train.index.max(), 11))).fillna(0)\n",
    "\n",
    "# Test data\n",
    "dft_test = df_reviews.query('ds_part == \"test\"')['rating'].value_counts().sort_index()\n",
    "dft_test = dft_test.reindex(index=np.arange(min(dft_test.index.min(), 1), max(dft_test.index.max(), 11))).fillna(0)\n",
    "\n",
    "# DataFrame\n",
    "df_table = pd.DataFrame({\n",
    "    'Rating': np.arange(1, 11),\n",
    "    'Train Count': dft_train.values,\n",
    "    'Test Count': dft_test.values\n",
    "})\n",
    "\n",
    "# Print\n",
    "print(df_table)"
   ]
  },
  {
   "cell_type": "code",
   "execution_count": 17,
   "metadata": {},
   "outputs": [
    {
     "data": {
      "image/png": "[encoded data removed]",
      "text/plain": [
       "<Figure size 1200x400 with 1 Axes>"
      ]
     },
     "metadata": {},
     "output_type": "display_data"
    }
   ],
   "source": [
    "# Figure\n",
    "fig, ax = plt.subplots(figsize=(12, 4))\n",
    "\n",
    "# Width\n",
    "bar_width = 0.35\n",
    "\n",
    "# Positions for train and test bars\n",
    "r1 = np.arange(len(df_table))\n",
    "r2 = [x + bar_width for x in r1]\n",
    "\n",
    "# Bars\n",
    "ax.bar(r1, df_table['Train Count'], color='blue', width=bar_width, label='Train')\n",
    "ax.bar(r2, df_table['Test Count'], color='orange', width=bar_width, label='Test')\n",
    "\n",
    "# Tags\n",
    "ax.set_xlabel('Calificación (Rating)')\n",
    "ax.set_ylabel('Número de películas')\n",
    "ax.set_title('Comparación de Distribución de Calificaciones (Ratings) entre conjuntos de Entrenamiento y Prueba')\n",
    "ax.set_xticks(r1 + bar_width / 2)\n",
    "ax.set_xticklabels(df_table['Rating'])\n",
    "\n",
    "# Legends\n",
    "ax.legend()\n",
    "\n",
    "# Plot\n",
    "plt.tight_layout()\n",
    "plt.show()"
   ]
  },
  {
   "cell_type": "markdown",
   "metadata": {},
   "source": [
    "<div style=\"color: #196CC4;\">\n",
    "▶ Se observa que hay una distribución similar entre los conjuntos de entrenamiento y prueba para la mayoría de las calificaciones, por lo que tampoco hay diferencias significativas en la cantidad de películas con ciertas calificaciones entre los dos conjuntos. Esto también nos ayuda a validar la consistencia de las distribuciones de calificaciones entre el conjunto de entrenamiento y prueba<br>\n",
    "▶ No hay películas con las calificaciones 5 y 6 en el dataset para ninguno de los dos conjuntos\n",
    "</div>"
   ]
  },
  {
   "cell_type": "markdown",
   "metadata": {},
   "source": [
    "### Distribución de reseñas (-, +)"
   ]
  },
  {
   "cell_type": "markdown",
   "metadata": {},
   "source": [
    "<div style=\"color: #196CC4;\">\n",
    "▶ Veamos el número de películas y reseñas a lo largo de los años.\n",
    "</div>"
   ]
  },
  {
   "cell_type": "code",
   "execution_count": 18,
   "metadata": {},
   "outputs": [
    {
     "data": {
      "image/png": "[encoded data removed]",
      "text/plain": [
       "<Figure size 1600x400 with 1 Axes>"
      ]
     },
     "metadata": {},
     "output_type": "display_data"
    }
   ],
   "source": [
    "# Plot creation (1 row, 1 column)\n",
    "fig, ax = plt.subplots(1, 1, figsize=(16, 4))\n",
    "\n",
    "# Count unique movies per year\n",
    "dft1 = df_reviews[['tconst', 'start_year']].drop_duplicates()['start_year'].value_counts().sort_index()\n",
    "\n",
    "# All years from the minimum to 2015 | Fill missing years with 0\n",
    "dft1 = dft1.reindex(index=np.arange(dft1.index.min(), max(dft1.index.max(), 2015))).fillna(0)\n",
    "\n",
    "# Bar Plot & Title\n",
    "dft1.plot(kind='bar', ax=ax)\n",
    "ax.set_title('Número de películas a través de los años')\n",
    "\n",
    "# Adjust subplot\n",
    "fig.tight_layout()\n",
    "\n",
    "# Print\n",
    "plt.show()"
   ]
  },
  {
   "cell_type": "markdown",
   "metadata": {},
   "source": [
    "<div style=\"color: #196CC4;\">\n",
    "▶ Ahora veamos la distribución de reseñas negativas y positivas a lo largo de los años para dos partes del conjunto de datos (entrenamiento y pruebas)\n",
    "</div>"
   ]
  },
  {
   "cell_type": "code",
   "execution_count": 19,
   "metadata": {
    "scrolled": false
   },
   "outputs": [
    {
     "data": {
      "image/png": "[encoded data removed]",
      "text/plain": [
       "<Figure size 1600x800 with 2 Axes>"
      ]
     },
     "metadata": {},
     "output_type": "display_data"
    }
   ],
   "source": [
    "# # Plot creation (2 rows, 1 column)\n",
    "fig, axs = plt.subplots(2, 1, figsize=(16, 8))\n",
    "\n",
    "# -------------------------------------------\n",
    "\n",
    "# Subplot 1 (Train)\n",
    "ax = axs[0]\n",
    "\n",
    "# Group by 'start_year' and 'pos' | Count reviews | Unstack 'pos'\n",
    "dft_train = df_reviews.query('ds_part == \"train\"').groupby(['start_year', 'pos'])['pos'].count().unstack()\n",
    "\n",
    "# Convert index to int\n",
    "dft_train.index = dft_train.index.astype('int')\n",
    "\n",
    "# Reindex to fill missing years | Fill NaN values with 0\n",
    "dft_train = dft_train.reindex(index=np.arange(dft_train.index.min(), max(dft_train.index.max(), 2014))).fillna(0)\n",
    "\n",
    "# Bar Plot & Title\n",
    "dft_train.plot(kind='bar', stacked=True, ax=ax, color=['#FF5733', '#5FAE57'])\n",
    "ax.set_title('Conjunto de entrenamiento: Número de reseñas de diferentes polaridades por año')\n",
    "\n",
    "# -------------------------------------------\n",
    "\n",
    "# Subplot 2 (Test)\n",
    "ax = axs[1]\n",
    "\n",
    "# Group by 'start_year' and 'pos' | Count reviews | Unstack 'pos'\n",
    "dft_test = df_reviews.query('ds_part == \"test\"').groupby(['start_year', 'pos'])['pos'].count().unstack()\n",
    "\n",
    "# Convert index to int\n",
    "dft_test.index = dft_test.index.astype('int')\n",
    "\n",
    "# Reindex to fill missing years | Fill NaN values with 0\n",
    "dft_test = dft_test.reindex(index=np.arange(dft_test.index.min(), max(dft_test.index.max(), 2014))).fillna(0)\n",
    "\n",
    "# Bar Plot & Title\n",
    "dft_test.plot(kind='bar', stacked=True, ax=ax, color=['#FF5733', '#5FAE57'])\n",
    "ax.set_title('Conjunto de prueba: Número de reseñas de diferentes polaridades por año')\n",
    "\n",
    "# -------------------------------------------\n",
    "\n",
    "# Adjust subplot\n",
    "fig.tight_layout()\n",
    "\n",
    "# Print\n",
    "plt.show()\n"
   ]
  },
  {
   "cell_type": "markdown",
   "metadata": {},
   "source": [
    "### Distribución KDE"
   ]
  },
  {
   "cell_type": "markdown",
   "metadata": {},
   "source": [
    "<div style=\"color: #196CC4;\">\n",
    "▶ Esta visualización ayuda a entender la distribución de las críticas según su polaridad (positiva o negativa) en diferentes conjuntos de datos divididos por año y por película<br>\n",
    "▶ Tanto la gráfica superior (conjunto de entrenamiento) como la inferior (conjunto de prueba) muestran mucha similitud y consistencia en distribución de críticas a lo largo de los años y también en cuanto a polaridad de las mismas.</div>"
   ]
  },
  {
   "cell_type": "code",
   "execution_count": 20,
   "metadata": {},
   "outputs": [
    {
     "name": "stdout",
     "output_type": "stream",
     "text": [
      "\n",
      "Distribución de reviews por película\n",
      "\n"
     ]
    },
    {
     "data": {
      "image/png": "[encoded data removed]",
      "text/plain": [
       "<Figure size 1600x400 with 2 Axes>"
      ]
     },
     "metadata": {},
     "output_type": "display_data"
    }
   ],
   "source": [
    "print()\n",
    "print(\"Distribución de reviews por película\")\n",
    "print()\n",
    "\n",
    "# -------------------------------------------\n",
    "\n",
    "# Plot creation (1 row, 2 columns)\n",
    "fig, axs = plt.subplots(1, 2, figsize=(16, 4))\n",
    "\n",
    "# -------------------------------------------\n",
    "\n",
    "# Subplot 1\n",
    "ax = axs[0]\n",
    "\n",
    "# Count reviews | Unstack and separate columns for 'neg' and 'pos'\n",
    "dft_train = df_reviews.query('ds_part == \"train\"').groupby(['tconst', 'pos'])['pos'].count().unstack()\n",
    "\n",
    "# Plot KDE plot using Seaborn (default Gaussian kernel)\n",
    "sns.kdeplot(dft_train[0], color='red', label='Negativas', ax=ax)\n",
    "sns.kdeplot(dft_train[1], color='green', label='Positivas', ax=ax)\n",
    "\n",
    "# Legends and Title\n",
    "ax.legend()\n",
    "ax.set_title('Conjunto de entrenamiento')\n",
    "\n",
    "# Labels\n",
    "ax.set_xlabel('Polaridad de reseñas')\n",
    "ax.set_ylabel('Densidad')\n",
    "\n",
    "# -------------------------------------------\n",
    "\n",
    "# Subplot 2\n",
    "ax = axs[1]\n",
    "\n",
    "# Count reviews | Unstack and separate columns for 'neg' and 'pos'\n",
    "dft_test = df_reviews.query('ds_part == \"test\"').groupby(['tconst', 'pos'])['pos'].count().unstack()\n",
    "\n",
    "# Plot KDE plot using Seaborn (default Gaussian kernel)\n",
    "sns.kdeplot(dft_test[0], color='red', label='Negativas', ax=ax)\n",
    "sns.kdeplot(dft_test[1], color='green', label='Positivas', ax=ax)\n",
    "\n",
    "# Legends and Title\n",
    "ax.legend()\n",
    "ax.set_title('Conjunto de prueba')\n",
    "\n",
    "# Labels\n",
    "ax.set_xlabel('Polaridad de reseñas')\n",
    "ax.set_ylabel('Densidad')\n",
    "\n",
    "# -------------------------------------------\n",
    "\n",
    "# Adjust subplot\n",
    "fig.tight_layout()\n",
    "\n",
    "# Print\n",
    "plt.show()"
   ]
  },
  {
   "cell_type": "markdown",
   "metadata": {},
   "source": [
    "<div style=\"color: #196CC4;\">\n",
    "▶ Estos gráficos KDE de reseñas negativas y positivas por película en diferentes conjuntos de datos (entrenamiento y prueba), facilitan la comparación visual entre las distribuciones. <br>\n",
    "▶ Se observan claras similitudes en la distribución de las polaridades entre los dos conjuntos de datos (entrenamiento y prueba), con concentraciones de datos (reseñas) entre los valores 1 y 5, predominando las reseñas negativas sobre las positivas</div>"
   ]
  },
  {
   "cell_type": "markdown",
   "metadata": {},
   "source": [
    "### Simplificación de conjuntos de datos"
   ]
  },
  {
   "cell_type": "markdown",
   "metadata": {},
   "source": [
    "<div style=\"color: #196CC4;\">\n",
    "▶ A continuación se eliminan las series que no influyen en el propósito del proyecto\n",
    "</div>"
   ]
  },
  {
   "cell_type": "code",
   "execution_count": 21,
   "metadata": {},
   "outputs": [
    {
     "name": "stdout",
     "output_type": "stream",
     "text": [
      "Index(['average_rating', 'votes', 'review', 'pos', 'ds_part'], dtype='object')\n"
     ]
    }
   ],
   "source": [
    "# List of series\n",
    "columns_to_drop = ['genres', 'tconst', 'title_type', 'primary_title', 'original_title', 'start_year', \n",
    "                   'end_year', 'runtime_minutes', 'is_adult', 'rating', 'sp', 'idx']\n",
    "\n",
    "# Copy DataFrame\n",
    "df_simplified = df_reviews.copy()\n",
    "\n",
    "# Drop\n",
    "df_simplified.drop(columns=columns_to_drop, inplace=True)\n",
    "\n",
    "# Verify columns\n",
    "print(df_simplified.columns)\n"
   ]
  },
  {
   "cell_type": "markdown",
   "metadata": {},
   "source": [
    "<div style=\"color: #196CC4;\">\n",
    "▶ Ahora se muestran los detalles del DataFrame original y posteriormente del simplificado\n",
    "</div>"
   ]
  },
  {
   "cell_type": "code",
   "execution_count": 22,
   "metadata": {},
   "outputs": [
    {
     "name": "stdout",
     "output_type": "stream",
     "text": [
      "<class 'pandas.core.frame.DataFrame'>\n",
      "Index: 47238 entries, 0 to 47330\n",
      "Data columns (total 17 columns):\n",
      " #   Column           Non-Null Count  Dtype  \n",
      "---  ------           --------------  -----  \n",
      " 0   tconst           47238 non-null  object \n",
      " 1   title_type       47238 non-null  object \n",
      " 2   primary_title    47238 non-null  object \n",
      " 3   original_title   47238 non-null  object \n",
      " 4   start_year       47238 non-null  int64  \n",
      " 5   end_year         47238 non-null  object \n",
      " 6   runtime_minutes  47238 non-null  object \n",
      " 7   is_adult         47238 non-null  int64  \n",
      " 8   genres           47238 non-null  object \n",
      " 9   average_rating   47238 non-null  float64\n",
      " 10  votes            47238 non-null  Int64  \n",
      " 11  review           47238 non-null  object \n",
      " 12  rating           47238 non-null  int64  \n",
      " 13  sp               47238 non-null  object \n",
      " 14  pos              47238 non-null  int64  \n",
      " 15  ds_part          47238 non-null  object \n",
      " 16  idx              47238 non-null  int64  \n",
      "dtypes: Int64(1), float64(1), int64(5), object(10)\n",
      "memory usage: 6.5+ MB\n"
     ]
    }
   ],
   "source": [
    "# Original DataFrame properties\n",
    "df_reviews.info()"
   ]
  },
  {
   "cell_type": "markdown",
   "metadata": {},
   "source": [
    "<div style=\"color: #196CC4;\">\n",
    "▶ El DataFrame simplificado ayudará a agilizar la etapa de entrenamiento\n",
    "</div>"
   ]
  },
  {
   "cell_type": "code",
   "execution_count": 23,
   "metadata": {},
   "outputs": [
    {
     "name": "stdout",
     "output_type": "stream",
     "text": [
      "<class 'pandas.core.frame.DataFrame'>\n",
      "Index: 47238 entries, 0 to 47330\n",
      "Data columns (total 5 columns):\n",
      " #   Column          Non-Null Count  Dtype  \n",
      "---  ------          --------------  -----  \n",
      " 0   average_rating  47238 non-null  float64\n",
      " 1   votes           47238 non-null  Int64  \n",
      " 2   review          47238 non-null  object \n",
      " 3   pos             47238 non-null  int64  \n",
      " 4   ds_part         47238 non-null  object \n",
      "dtypes: Int64(1), float64(1), int64(1), object(2)\n",
      "memory usage: 2.2+ MB\n"
     ]
    }
   ],
   "source": [
    "# Simplified DataFrame properties\n",
    "df_simplified.info()"
   ]
  },
  {
   "cell_type": "code",
   "execution_count": 24,
   "metadata": {},
   "outputs": [
    {
     "data": {
      "text/html": [
       "<div>\n",
       "<style scoped>\n",
       "    .dataframe tbody tr th:only-of-type {\n",
       "        vertical-align: middle;\n",
       "    }\n",
       "\n",
       "    .dataframe tbody tr th {\n",
       "        vertical-align: top;\n",
       "    }\n",
       "\n",
       "    .dataframe thead th {\n",
       "        text-align: right;\n",
       "    }\n",
       "</style>\n",
       "<table border=\"1\" class=\"dataframe\">\n",
       "  <thead>\n",
       "    <tr style=\"text-align: right;\">\n",
       "      <th></th>\n",
       "      <th>average_rating</th>\n",
       "      <th>votes</th>\n",
       "      <th>review</th>\n",
       "      <th>pos</th>\n",
       "      <th>ds_part</th>\n",
       "    </tr>\n",
       "  </thead>\n",
       "  <tbody>\n",
       "    <tr>\n",
       "      <th>0</th>\n",
       "      <td>6.3</td>\n",
       "      <td>2218</td>\n",
       "      <td>The pakage implies that Warren Beatty and Gold...</td>\n",
       "      <td>0</td>\n",
       "      <td>train</td>\n",
       "    </tr>\n",
       "    <tr>\n",
       "      <th>1</th>\n",
       "      <td>6.3</td>\n",
       "      <td>2218</td>\n",
       "      <td>How the hell did they get this made?! Presenti...</td>\n",
       "      <td>0</td>\n",
       "      <td>train</td>\n",
       "    </tr>\n",
       "    <tr>\n",
       "      <th>2</th>\n",
       "      <td>6.3</td>\n",
       "      <td>184</td>\n",
       "      <td>There is no real story the film seems more lik...</td>\n",
       "      <td>0</td>\n",
       "      <td>test</td>\n",
       "    </tr>\n",
       "    <tr>\n",
       "      <th>3</th>\n",
       "      <td>6.3</td>\n",
       "      <td>184</td>\n",
       "      <td>Um .... a serious film about troubled teens in...</td>\n",
       "      <td>1</td>\n",
       "      <td>test</td>\n",
       "    </tr>\n",
       "    <tr>\n",
       "      <th>4</th>\n",
       "      <td>6.3</td>\n",
       "      <td>184</td>\n",
       "      <td>I'm totally agree with GarryJohal from Singapo...</td>\n",
       "      <td>1</td>\n",
       "      <td>test</td>\n",
       "    </tr>\n",
       "    <tr>\n",
       "      <th>...</th>\n",
       "      <td>...</td>\n",
       "      <td>...</td>\n",
       "      <td>...</td>\n",
       "      <td>...</td>\n",
       "      <td>...</td>\n",
       "    </tr>\n",
       "    <tr>\n",
       "      <th>47326</th>\n",
       "      <td>7.7</td>\n",
       "      <td>2254</td>\n",
       "      <td>This is another of my favorite Columbos. It sp...</td>\n",
       "      <td>1</td>\n",
       "      <td>test</td>\n",
       "    </tr>\n",
       "    <tr>\n",
       "      <th>47327</th>\n",
       "      <td>7.3</td>\n",
       "      <td>278</td>\n",
       "      <td>Talk about being boring! I got this expecting ...</td>\n",
       "      <td>0</td>\n",
       "      <td>test</td>\n",
       "    </tr>\n",
       "    <tr>\n",
       "      <th>47328</th>\n",
       "      <td>7.3</td>\n",
       "      <td>278</td>\n",
       "      <td>I never thought I'd say this about a biopic, b...</td>\n",
       "      <td>1</td>\n",
       "      <td>test</td>\n",
       "    </tr>\n",
       "    <tr>\n",
       "      <th>47329</th>\n",
       "      <td>7.3</td>\n",
       "      <td>278</td>\n",
       "      <td>Spirit and Chaos is an artistic biopic of Miya...</td>\n",
       "      <td>1</td>\n",
       "      <td>test</td>\n",
       "    </tr>\n",
       "    <tr>\n",
       "      <th>47330</th>\n",
       "      <td>7.3</td>\n",
       "      <td>278</td>\n",
       "      <td>I'll make this brief. This was a joy to watch....</td>\n",
       "      <td>1</td>\n",
       "      <td>test</td>\n",
       "    </tr>\n",
       "  </tbody>\n",
       "</table>\n",
       "<p>47238 rows × 5 columns</p>\n",
       "</div>"
      ],
      "text/plain": [
       "       average_rating  votes  \\\n",
       "0                 6.3   2218   \n",
       "1                 6.3   2218   \n",
       "2                 6.3    184   \n",
       "3                 6.3    184   \n",
       "4                 6.3    184   \n",
       "...               ...    ...   \n",
       "47326             7.7   2254   \n",
       "47327             7.3    278   \n",
       "47328             7.3    278   \n",
       "47329             7.3    278   \n",
       "47330             7.3    278   \n",
       "\n",
       "                                                  review  pos ds_part  \n",
       "0      The pakage implies that Warren Beatty and Gold...    0   train  \n",
       "1      How the hell did they get this made?! Presenti...    0   train  \n",
       "2      There is no real story the film seems more lik...    0    test  \n",
       "3      Um .... a serious film about troubled teens in...    1    test  \n",
       "4      I'm totally agree with GarryJohal from Singapo...    1    test  \n",
       "...                                                  ...  ...     ...  \n",
       "47326  This is another of my favorite Columbos. It sp...    1    test  \n",
       "47327  Talk about being boring! I got this expecting ...    0    test  \n",
       "47328  I never thought I'd say this about a biopic, b...    1    test  \n",
       "47329  Spirit and Chaos is an artistic biopic of Miya...    1    test  \n",
       "47330  I'll make this brief. This was a joy to watch....    1    test  \n",
       "\n",
       "[47238 rows x 5 columns]"
      ]
     },
     "execution_count": 24,
     "metadata": {},
     "output_type": "execute_result"
    }
   ],
   "source": [
    "df_simplified"
   ]
  },
  {
   "cell_type": "markdown",
   "metadata": {},
   "source": [
    "-----"
   ]
  },
  {
   "cell_type": "markdown",
   "metadata": {},
   "source": [
    "## Preparación de datos"
   ]
  },
  {
   "cell_type": "markdown",
   "metadata": {},
   "source": [
    "### Procedimiento de evaluación"
   ]
  },
  {
   "cell_type": "markdown",
   "metadata": {},
   "source": [
    "<div style=\"color: #196CC4;\">\n",
    "▶ A continuación se muestra la función para evaluar el rendimiento de los modelos que se estarán utilizando en este proyecto\n",
    "</div>"
   ]
  },
  {
   "cell_type": "code",
   "execution_count": 25,
   "metadata": {},
   "outputs": [],
   "source": [
    "# Metrics function\n",
    "def evaluate_model(model, train_features, train_target, test_features, test_target):\n",
    "\n",
    "    # Inicializer\n",
    "    eval_stats = {}\n",
    "\n",
    "    # Predictions\n",
    "    train_pred = model.predict(train_features)\n",
    "    test_pred = model.predict(test_features)\n",
    "\n",
    "    # -------------------------------------------   \n",
    "    \n",
    "    # Probabilities for ROC AUC\n",
    "    \n",
    "    # Check if it's a LightGBM model\n",
    "    if isinstance(model, lgb.Booster):  \n",
    "        # Predictions to probabilities (decision threshold)\n",
    "        train_proba = (train_pred > 0.5).astype(int)\n",
    "        test_proba = (test_pred > 0.5).astype(int)\n",
    "        \n",
    "        # Predicted probabilities to integers\n",
    "        train_pred = np.round(train_pred).astype(int)  \n",
    "        test_pred = np.round(test_pred).astype(int)  \n",
    "    else:\n",
    "        # Use predict_proba for other models if needed\n",
    "        train_proba = model.predict_proba(train_features)[:, 1]\n",
    "        test_proba = model.predict_proba(test_features)[:, 1]\n",
    "\n",
    "    # Metrics 'train'\n",
    "    eval_stats['train'] = {\n",
    "        'Accuracy': accuracy_score(train_target, train_pred),\n",
    "        'F1': f1_score(train_target, train_pred),\n",
    "        'ROC AUC': roc_auc_score(train_target, train_proba)\n",
    "    }\n",
    "    \n",
    "    # Metrics 'test'\n",
    "    eval_stats['test'] = {\n",
    "        'Accuracy': accuracy_score(test_target, test_pred),\n",
    "        'F1': f1_score(test_target, test_pred),\n",
    "        'ROC AUC': roc_auc_score(test_target, test_proba)\n",
    "    }\n",
    "    \n",
    "    # -------------------------------------------\n",
    "    \n",
    "    # Create DataFrame from eval_stats\n",
    "    df_eval_stats = pd.DataFrame(eval_stats)\n",
    "\n",
    "    # Round values\n",
    "    df_eval_stats = df_eval_stats.round(4)\n",
    "\n",
    "    # Rename columns\n",
    "    df_eval_stats = df_eval_stats.rename(columns={'train': 'Train', 'test': 'Test'})\n",
    "\n",
    "    # -------------------------------------------    \n",
    "    \n",
    "    # Print\n",
    "    print(df_eval_stats)\n",
    "\n",
    "    # Return\n",
    "    return df_eval_stats"
   ]
  },
  {
   "cell_type": "markdown",
   "metadata": {},
   "source": [
    "### Normalización"
   ]
  },
  {
   "cell_type": "markdown",
   "metadata": {},
   "source": [
    "<div style=\"color: #196CC4;\">\n",
    "▶ Suponemos que todos los modelos a continuación aceptan textos en minúsculas y sin dígitos, signos de puntuación, etc.\n",
    "</div>"
   ]
  },
  {
   "cell_type": "code",
   "execution_count": 26,
   "metadata": {},
   "outputs": [],
   "source": [
    "def preprocess_text(text):\n",
    "    # Convert to lowercase and remove punctuation\n",
    "    text = re.sub(r'[^\\w\\s]', '', text.lower())\n",
    "\n",
    "    # Remove special characters (emoticons, emojis, etc.)\n",
    "    text = re.sub(r'[^\\w\\s\\d]', '', text)\n",
    "\n",
    "    # Remove extra blank spaces\n",
    "    text = ' '.join(text.split())\n",
    "\n",
    "    # Tokenize and normalize (lemmatize) with spaCy\n",
    "    #doc = nlp(text)\n",
    "    #lemmas = [token.lemma_ for token in doc]\n",
    "\n",
    "    # Return\n",
    "    return text"
   ]
  },
  {
   "cell_type": "markdown",
   "metadata": {},
   "source": [
    "<div style=\"color: #196CC4;\">\n",
    "▶ Ahora se procesan todas las reseñas del DataFrame\n",
    "</div>"
   ]
  },
  {
   "cell_type": "code",
   "execution_count": 27,
   "metadata": {},
   "outputs": [],
   "source": [
    "# Apply preprocessing to reviews\n",
    "df_simplified['review_norm'] = df_simplified['review'].apply(preprocess_text)"
   ]
  },
  {
   "cell_type": "markdown",
   "metadata": {},
   "source": [
    "<div style=\"color: #196CC4;\">\n",
    "▶ A continuación se verifica que la normalización se aplica de manera adecuada, tomando como ejemplo la primera reseña de la Serie\n",
    "</div>"
   ]
  },
  {
   "cell_type": "code",
   "execution_count": 28,
   "metadata": {},
   "outputs": [
    {
     "name": "stdout",
     "output_type": "stream",
     "text": [
      "The pakage implies that Warren Beatty and Goldie Hawn are pulling off a huge bank robbery, but that's not what I got out of it! I didn't get anything! In the first half there's a new character (without introduction) in every other scene. The first half-hour is completely incomprehensible, the rest is just one long, annoying, underlit chase scene. There's always an irritating sound in the background whether it's a loud watch ticking, a blaring siren, a train whistling, or even the horrible score by Quincy Jones. There are a lot of parts that are laughably bad, too. Like, the bad guys chasing Beatty on thin ice with a CAR! Or, the police arriving at the scene roughly fifteen times. I really hated this movie!\n",
      "\n",
      "Normalized First Review: the pakage implies that warren beatty and goldie hawn are pulling off a huge bank robbery but thats not what i got out of it i didnt get anything in the first half theres a new character without introduction in every other scene the first halfhour is completely incomprehensible the rest is just one long annoying underlit chase scene theres always an irritating sound in the background whether its a loud watch ticking a blaring siren a train whistling or even the horrible score by quincy jones there are a lot of parts that are laughably bad too like the bad guys chasing beatty on thin ice with a car or the police arriving at the scene roughly fifteen times i really hated this movie\n"
     ]
    }
   ],
   "source": [
    "# Access the first review\n",
    "first_review = df_simplified['review'].iloc[0]  \n",
    "\n",
    "# Print review without processing\n",
    "print(df_simplified['review'].iloc[0])\n",
    "print()\n",
    "\n",
    "# Preprocess\n",
    "normalized_review = preprocess_text(first_review)\n",
    "\n",
    "# Print the normalized review\n",
    "print(\"Normalized First Review:\", normalized_review)"
   ]
  },
  {
   "cell_type": "markdown",
   "metadata": {},
   "source": [
    "### División entrenamiento / prueba"
   ]
  },
  {
   "cell_type": "markdown",
   "metadata": {},
   "source": [
    "<div style=\"color: #196CC4;\">\n",
    "▶ Por fortuna, todo el conjunto de datos ya está dividido en partes de entrenamiento/prueba; 'ds_part' es el indicador correspondiente.\n",
    "</div>\n"
   ]
  },
  {
   "cell_type": "code",
   "execution_count": 29,
   "metadata": {},
   "outputs": [
    {
     "name": "stdout",
     "output_type": "stream",
     "text": [
      "(23757, 6)\n",
      "(23481, 6)\n"
     ]
    }
   ],
   "source": [
    "# Filter for training data\n",
    "df_reviews_train = df_simplified.query('ds_part == \"train\"').copy()\n",
    "df_reviews_train['review_norm'] = df_reviews_train['review'].apply(preprocess_text)\n",
    "\n",
    "# Filter for testing data\n",
    "df_reviews_test = df_simplified.query('ds_part == \"test\"').copy()\n",
    "df_reviews_test['review_norm'] = df_reviews_test['review'].apply(preprocess_text)\n",
    "\n",
    "# Extract features (preprocessed reviews) and target variables\n",
    "train_features = df_reviews_train['review_norm']\n",
    "train_target = df_reviews_train['pos']\n",
    "\n",
    "test_features = df_reviews_test['review_norm']\n",
    "test_target = df_reviews_test['pos']\n",
    "\n",
    "# Print shapes\n",
    "print(df_reviews_train.shape)\n",
    "print(df_reviews_test.shape)"
   ]
  },
  {
   "cell_type": "markdown",
   "metadata": {},
   "source": [
    "-----"
   ]
  },
  {
   "cell_type": "markdown",
   "metadata": {},
   "source": [
    "## Análisis de sentimiento con modelos"
   ]
  },
  {
   "cell_type": "markdown",
   "metadata": {},
   "source": [
    "### Modelo 0 - Constante"
   ]
  },
  {
   "cell_type": "markdown",
   "metadata": {},
   "source": [
    "<div style=\"color: #196CC4;\">\n",
    "▶ <b>DummyClassifier</b> predice la etiqueta de clase que aparece con mayor frecuencia en los datos de entrenamiento para su variable objetivo 'pos'. Esto es una referencia para evaluar qué tan bien funcionan sus modelos más complejos.</div>"
   ]
  },
  {
   "cell_type": "code",
   "execution_count": 30,
   "metadata": {},
   "outputs": [
    {
     "data": {
      "text/html": [
       "<style>#sk-container-id-1 {\n",
       "  /* Definition of color scheme common for light and dark mode */\n",
       "  --sklearn-color-text: black;\n",
       "  --sklearn-color-line: gray;\n",
       "  /* Definition of color scheme for unfitted estimators */\n",
       "  --sklearn-color-unfitted-level-0: #fff5e6;\n",
       "  --sklearn-color-unfitted-level-1: #f6e4d2;\n",
       "  --sklearn-color-unfitted-level-2: #ffe0b3;\n",
       "  --sklearn-color-unfitted-level-3: chocolate;\n",
       "  /* Definition of color scheme for fitted estimators */\n",
       "  --sklearn-color-fitted-level-0: #f0f8ff;\n",
       "  --sklearn-color-fitted-level-1: #d4ebff;\n",
       "  --sklearn-color-fitted-level-2: #b3dbfd;\n",
       "  --sklearn-color-fitted-level-3: cornflowerblue;\n",
       "\n",
       "  /* Specific color for light theme */\n",
       "  --sklearn-color-text-on-default-background: var(--sg-text-color, var(--theme-code-foreground, var(--jp-content-font-color1, black)));\n",
       "  --sklearn-color-background: var(--sg-background-color, var(--theme-background, var(--jp-layout-color0, white)));\n",
       "  --sklearn-color-border-box: var(--sg-text-color, var(--theme-code-foreground, var(--jp-content-font-color1, black)));\n",
       "  --sklearn-color-icon: #696969;\n",
       "\n",
       "  @media (prefers-color-scheme: dark) {\n",
       "    /* Redefinition of color scheme for dark theme */\n",
       "    --sklearn-color-text-on-default-background: var(--sg-text-color, var(--theme-code-foreground, var(--jp-content-font-color1, white)));\n",
       "    --sklearn-color-background: var(--sg-background-color, var(--theme-background, var(--jp-layout-color0, #111)));\n",
       "    --sklearn-color-border-box: var(--sg-text-color, var(--theme-code-foreground, var(--jp-content-font-color1, white)));\n",
       "    --sklearn-color-icon: #878787;\n",
       "  }\n",
       "}\n",
       "\n",
       "#sk-container-id-1 {\n",
       "  color: var(--sklearn-color-text);\n",
       "}\n",
       "\n",
       "#sk-container-id-1 pre {\n",
       "  padding: 0;\n",
       "}\n",
       "\n",
       "#sk-container-id-1 input.sk-hidden--visually {\n",
       "  border: 0;\n",
       "  clip: rect(1px 1px 1px 1px);\n",
       "  clip: rect(1px, 1px, 1px, 1px);\n",
       "  height: 1px;\n",
       "  margin: -1px;\n",
       "  overflow: hidden;\n",
       "  padding: 0;\n",
       "  position: absolute;\n",
       "  width: 1px;\n",
       "}\n",
       "\n",
       "#sk-container-id-1 div.sk-dashed-wrapped {\n",
       "  border: 1px dashed var(--sklearn-color-line);\n",
       "  margin: 0 0.4em 0.5em 0.4em;\n",
       "  box-sizing: border-box;\n",
       "  padding-bottom: 0.4em;\n",
       "  background-color: var(--sklearn-color-background);\n",
       "}\n",
       "\n",
       "#sk-container-id-1 div.sk-container {\n",
       "  /* jupyter's `normalize.less` sets `[hidden] { display: none; }`\n",
       "     but bootstrap.min.css set `[hidden] { display: none !important; }`\n",
       "     so we also need the `!important` here to be able to override the\n",
       "     default hidden behavior on the sphinx rendered scikit-learn.org.\n",
       "     See: https://github.com/scikit-learn/scikit-learn/issues/21755 */\n",
       "  display: inline-block !important;\n",
       "  position: relative;\n",
       "}\n",
       "\n",
       "#sk-container-id-1 div.sk-text-repr-fallback {\n",
       "  display: none;\n",
       "}\n",
       "\n",
       "div.sk-parallel-item,\n",
       "div.sk-serial,\n",
       "div.sk-item {\n",
       "  /* draw centered vertical line to link estimators */\n",
       "  background-image: linear-gradient(var(--sklearn-color-text-on-default-background), var(--sklearn-color-text-on-default-background));\n",
       "  background-size: 2px 100%;\n",
       "  background-repeat: no-repeat;\n",
       "  background-position: center center;\n",
       "}\n",
       "\n",
       "/* Parallel-specific style estimator block */\n",
       "\n",
       "#sk-container-id-1 div.sk-parallel-item::after {\n",
       "  content: \"\";\n",
       "  width: 100%;\n",
       "  border-bottom: 2px solid var(--sklearn-color-text-on-default-background);\n",
       "  flex-grow: 1;\n",
       "}\n",
       "\n",
       "#sk-container-id-1 div.sk-parallel {\n",
       "  display: flex;\n",
       "  align-items: stretch;\n",
       "  justify-content: center;\n",
       "  background-color: var(--sklearn-color-background);\n",
       "  position: relative;\n",
       "}\n",
       "\n",
       "#sk-container-id-1 div.sk-parallel-item {\n",
       "  display: flex;\n",
       "  flex-direction: column;\n",
       "}\n",
       "\n",
       "#sk-container-id-1 div.sk-parallel-item:first-child::after {\n",
       "  align-self: flex-end;\n",
       "  width: 50%;\n",
       "}\n",
       "\n",
       "#sk-container-id-1 div.sk-parallel-item:last-child::after {\n",
       "  align-self: flex-start;\n",
       "  width: 50%;\n",
       "}\n",
       "\n",
       "#sk-container-id-1 div.sk-parallel-item:only-child::after {\n",
       "  width: 0;\n",
       "}\n",
       "\n",
       "/* Serial-specific style estimator block */\n",
       "\n",
       "#sk-container-id-1 div.sk-serial {\n",
       "  display: flex;\n",
       "  flex-direction: column;\n",
       "  align-items: center;\n",
       "  background-color: var(--sklearn-color-background);\n",
       "  padding-right: 1em;\n",
       "  padding-left: 1em;\n",
       "}\n",
       "\n",
       "\n",
       "/* Toggleable style: style used for estimator/Pipeline/ColumnTransformer box that is\n",
       "clickable and can be expanded/collapsed.\n",
       "- Pipeline and ColumnTransformer use this feature and define the default style\n",
       "- Estimators will overwrite some part of the style using the `sk-estimator` class\n",
       "*/\n",
       "\n",
       "/* Pipeline and ColumnTransformer style (default) */\n",
       "\n",
       "#sk-container-id-1 div.sk-toggleable {\n",
       "  /* Default theme specific background. It is overwritten whether we have a\n",
       "  specific estimator or a Pipeline/ColumnTransformer */\n",
       "  background-color: var(--sklearn-color-background);\n",
       "}\n",
       "\n",
       "/* Toggleable label */\n",
       "#sk-container-id-1 label.sk-toggleable__label {\n",
       "  cursor: pointer;\n",
       "  display: block;\n",
       "  width: 100%;\n",
       "  margin-bottom: 0;\n",
       "  padding: 0.5em;\n",
       "  box-sizing: border-box;\n",
       "  text-align: center;\n",
       "}\n",
       "\n",
       "#sk-container-id-1 label.sk-toggleable__label-arrow:before {\n",
       "  /* Arrow on the left of the label */\n",
       "  content: \"▸\";\n",
       "  float: left;\n",
       "  margin-right: 0.25em;\n",
       "  color: var(--sklearn-color-icon);\n",
       "}\n",
       "\n",
       "#sk-container-id-1 label.sk-toggleable__label-arrow:hover:before {\n",
       "  color: var(--sklearn-color-text);\n",
       "}\n",
       "\n",
       "/* Toggleable content - dropdown */\n",
       "\n",
       "#sk-container-id-1 div.sk-toggleable__content {\n",
       "  max-height: 0;\n",
       "  max-width: 0;\n",
       "  overflow: hidden;\n",
       "  text-align: left;\n",
       "  /* unfitted */\n",
       "  background-color: var(--sklearn-color-unfitted-level-0);\n",
       "}\n",
       "\n",
       "#sk-container-id-1 div.sk-toggleable__content.fitted {\n",
       "  /* fitted */\n",
       "  background-color: var(--sklearn-color-fitted-level-0);\n",
       "}\n",
       "\n",
       "#sk-container-id-1 div.sk-toggleable__content pre {\n",
       "  margin: 0.2em;\n",
       "  border-radius: 0.25em;\n",
       "  color: var(--sklearn-color-text);\n",
       "  /* unfitted */\n",
       "  background-color: var(--sklearn-color-unfitted-level-0);\n",
       "}\n",
       "\n",
       "#sk-container-id-1 div.sk-toggleable__content.fitted pre {\n",
       "  /* unfitted */\n",
       "  background-color: var(--sklearn-color-fitted-level-0);\n",
       "}\n",
       "\n",
       "#sk-container-id-1 input.sk-toggleable__control:checked~div.sk-toggleable__content {\n",
       "  /* Expand drop-down */\n",
       "  max-height: 200px;\n",
       "  max-width: 100%;\n",
       "  overflow: auto;\n",
       "}\n",
       "\n",
       "#sk-container-id-1 input.sk-toggleable__control:checked~label.sk-toggleable__label-arrow:before {\n",
       "  content: \"▾\";\n",
       "}\n",
       "\n",
       "/* Pipeline/ColumnTransformer-specific style */\n",
       "\n",
       "#sk-container-id-1 div.sk-label input.sk-toggleable__control:checked~label.sk-toggleable__label {\n",
       "  color: var(--sklearn-color-text);\n",
       "  background-color: var(--sklearn-color-unfitted-level-2);\n",
       "}\n",
       "\n",
       "#sk-container-id-1 div.sk-label.fitted input.sk-toggleable__control:checked~label.sk-toggleable__label {\n",
       "  background-color: var(--sklearn-color-fitted-level-2);\n",
       "}\n",
       "\n",
       "/* Estimator-specific style */\n",
       "\n",
       "/* Colorize estimator box */\n",
       "#sk-container-id-1 div.sk-estimator input.sk-toggleable__control:checked~label.sk-toggleable__label {\n",
       "  /* unfitted */\n",
       "  background-color: var(--sklearn-color-unfitted-level-2);\n",
       "}\n",
       "\n",
       "#sk-container-id-1 div.sk-estimator.fitted input.sk-toggleable__control:checked~label.sk-toggleable__label {\n",
       "  /* fitted */\n",
       "  background-color: var(--sklearn-color-fitted-level-2);\n",
       "}\n",
       "\n",
       "#sk-container-id-1 div.sk-label label.sk-toggleable__label,\n",
       "#sk-container-id-1 div.sk-label label {\n",
       "  /* The background is the default theme color */\n",
       "  color: var(--sklearn-color-text-on-default-background);\n",
       "}\n",
       "\n",
       "/* On hover, darken the color of the background */\n",
       "#sk-container-id-1 div.sk-label:hover label.sk-toggleable__label {\n",
       "  color: var(--sklearn-color-text);\n",
       "  background-color: var(--sklearn-color-unfitted-level-2);\n",
       "}\n",
       "\n",
       "/* Label box, darken color on hover, fitted */\n",
       "#sk-container-id-1 div.sk-label.fitted:hover label.sk-toggleable__label.fitted {\n",
       "  color: var(--sklearn-color-text);\n",
       "  background-color: var(--sklearn-color-fitted-level-2);\n",
       "}\n",
       "\n",
       "/* Estimator label */\n",
       "\n",
       "#sk-container-id-1 div.sk-label label {\n",
       "  font-family: monospace;\n",
       "  font-weight: bold;\n",
       "  display: inline-block;\n",
       "  line-height: 1.2em;\n",
       "}\n",
       "\n",
       "#sk-container-id-1 div.sk-label-container {\n",
       "  text-align: center;\n",
       "}\n",
       "\n",
       "/* Estimator-specific */\n",
       "#sk-container-id-1 div.sk-estimator {\n",
       "  font-family: monospace;\n",
       "  border: 1px dotted var(--sklearn-color-border-box);\n",
       "  border-radius: 0.25em;\n",
       "  box-sizing: border-box;\n",
       "  margin-bottom: 0.5em;\n",
       "  /* unfitted */\n",
       "  background-color: var(--sklearn-color-unfitted-level-0);\n",
       "}\n",
       "\n",
       "#sk-container-id-1 div.sk-estimator.fitted {\n",
       "  /* fitted */\n",
       "  background-color: var(--sklearn-color-fitted-level-0);\n",
       "}\n",
       "\n",
       "/* on hover */\n",
       "#sk-container-id-1 div.sk-estimator:hover {\n",
       "  /* unfitted */\n",
       "  background-color: var(--sklearn-color-unfitted-level-2);\n",
       "}\n",
       "\n",
       "#sk-container-id-1 div.sk-estimator.fitted:hover {\n",
       "  /* fitted */\n",
       "  background-color: var(--sklearn-color-fitted-level-2);\n",
       "}\n",
       "\n",
       "/* Specification for estimator info (e.g. \"i\" and \"?\") */\n",
       "\n",
       "/* Common style for \"i\" and \"?\" */\n",
       "\n",
       ".sk-estimator-doc-link,\n",
       "a:link.sk-estimator-doc-link,\n",
       "a:visited.sk-estimator-doc-link {\n",
       "  float: right;\n",
       "  font-size: smaller;\n",
       "  line-height: 1em;\n",
       "  font-family: monospace;\n",
       "  background-color: var(--sklearn-color-background);\n",
       "  border-radius: 1em;\n",
       "  height: 1em;\n",
       "  width: 1em;\n",
       "  text-decoration: none !important;\n",
       "  margin-left: 1ex;\n",
       "  /* unfitted */\n",
       "  border: var(--sklearn-color-unfitted-level-1) 1pt solid;\n",
       "  color: var(--sklearn-color-unfitted-level-1);\n",
       "}\n",
       "\n",
       ".sk-estimator-doc-link.fitted,\n",
       "a:link.sk-estimator-doc-link.fitted,\n",
       "a:visited.sk-estimator-doc-link.fitted {\n",
       "  /* fitted */\n",
       "  border: var(--sklearn-color-fitted-level-1) 1pt solid;\n",
       "  color: var(--sklearn-color-fitted-level-1);\n",
       "}\n",
       "\n",
       "/* On hover */\n",
       "div.sk-estimator:hover .sk-estimator-doc-link:hover,\n",
       ".sk-estimator-doc-link:hover,\n",
       "div.sk-label-container:hover .sk-estimator-doc-link:hover,\n",
       ".sk-estimator-doc-link:hover {\n",
       "  /* unfitted */\n",
       "  background-color: var(--sklearn-color-unfitted-level-3);\n",
       "  color: var(--sklearn-color-background);\n",
       "  text-decoration: none;\n",
       "}\n",
       "\n",
       "div.sk-estimator.fitted:hover .sk-estimator-doc-link.fitted:hover,\n",
       ".sk-estimator-doc-link.fitted:hover,\n",
       "div.sk-label-container:hover .sk-estimator-doc-link.fitted:hover,\n",
       ".sk-estimator-doc-link.fitted:hover {\n",
       "  /* fitted */\n",
       "  background-color: var(--sklearn-color-fitted-level-3);\n",
       "  color: var(--sklearn-color-background);\n",
       "  text-decoration: none;\n",
       "}\n",
       "\n",
       "/* Span, style for the box shown on hovering the info icon */\n",
       ".sk-estimator-doc-link span {\n",
       "  display: none;\n",
       "  z-index: 9999;\n",
       "  position: relative;\n",
       "  font-weight: normal;\n",
       "  right: .2ex;\n",
       "  padding: .5ex;\n",
       "  margin: .5ex;\n",
       "  width: min-content;\n",
       "  min-width: 20ex;\n",
       "  max-width: 50ex;\n",
       "  color: var(--sklearn-color-text);\n",
       "  box-shadow: 2pt 2pt 4pt #999;\n",
       "  /* unfitted */\n",
       "  background: var(--sklearn-color-unfitted-level-0);\n",
       "  border: .5pt solid var(--sklearn-color-unfitted-level-3);\n",
       "}\n",
       "\n",
       ".sk-estimator-doc-link.fitted span {\n",
       "  /* fitted */\n",
       "  background: var(--sklearn-color-fitted-level-0);\n",
       "  border: var(--sklearn-color-fitted-level-3);\n",
       "}\n",
       "\n",
       ".sk-estimator-doc-link:hover span {\n",
       "  display: block;\n",
       "}\n",
       "\n",
       "/* \"?\"-specific style due to the `<a>` HTML tag */\n",
       "\n",
       "#sk-container-id-1 a.estimator_doc_link {\n",
       "  float: right;\n",
       "  font-size: 1rem;\n",
       "  line-height: 1em;\n",
       "  font-family: monospace;\n",
       "  background-color: var(--sklearn-color-background);\n",
       "  border-radius: 1rem;\n",
       "  height: 1rem;\n",
       "  width: 1rem;\n",
       "  text-decoration: none;\n",
       "  /* unfitted */\n",
       "  color: var(--sklearn-color-unfitted-level-1);\n",
       "  border: var(--sklearn-color-unfitted-level-1) 1pt solid;\n",
       "}\n",
       "\n",
       "#sk-container-id-1 a.estimator_doc_link.fitted {\n",
       "  /* fitted */\n",
       "  border: var(--sklearn-color-fitted-level-1) 1pt solid;\n",
       "  color: var(--sklearn-color-fitted-level-1);\n",
       "}\n",
       "\n",
       "/* On hover */\n",
       "#sk-container-id-1 a.estimator_doc_link:hover {\n",
       "  /* unfitted */\n",
       "  background-color: var(--sklearn-color-unfitted-level-3);\n",
       "  color: var(--sklearn-color-background);\n",
       "  text-decoration: none;\n",
       "}\n",
       "\n",
       "#sk-container-id-1 a.estimator_doc_link.fitted:hover {\n",
       "  /* fitted */\n",
       "  background-color: var(--sklearn-color-fitted-level-3);\n",
       "}\n",
       "</style><div id=\"sk-container-id-1\" class=\"sk-top-container\"><div class=\"sk-text-repr-fallback\"><pre>DummyClassifier(constant=1, strategy=&#x27;constant&#x27;)</pre><b>In a Jupyter environment, please rerun this cell to show the HTML representation or trust the notebook. <br />On GitHub, the HTML representation is unable to render, please try loading this page with nbviewer.org.</b></div><div class=\"sk-container\" hidden><div class=\"sk-item\"><div class=\"sk-estimator fitted sk-toggleable\"><input class=\"sk-toggleable__control sk-hidden--visually\" id=\"sk-estimator-id-1\" type=\"checkbox\" checked><label for=\"sk-estimator-id-1\" class=\"sk-toggleable__label fitted sk-toggleable__label-arrow fitted\">&nbsp;&nbsp;DummyClassifier<a class=\"sk-estimator-doc-link fitted\" rel=\"noreferrer\" target=\"_blank\" href=\"https://scikit-learn.org/1.5/modules/generated/sklearn.dummy.DummyClassifier.html\">?<span>Documentation for DummyClassifier</span></a><span class=\"sk-estimator-doc-link fitted\">i<span>Fitted</span></span></label><div class=\"sk-toggleable__content fitted\"><pre>DummyClassifier(constant=1, strategy=&#x27;constant&#x27;)</pre></div> </div></div></div></div>"
      ],
      "text/plain": [
       "DummyClassifier(constant=1, strategy='constant')"
      ]
     },
     "execution_count": 30,
     "metadata": {},
     "output_type": "execute_result"
    }
   ],
   "source": [
    "# DummyClassifier inicializer\n",
    "dummy_clf = DummyClassifier(strategy='constant', constant=1)\n",
    "\n",
    "# Train the model (no actual training happens for DummyClassifier)\n",
    "dummy_clf.fit(train_features, train_target)"
   ]
  },
  {
   "cell_type": "code",
   "execution_count": 31,
   "metadata": {},
   "outputs": [
    {
     "name": "stdout",
     "output_type": "stream",
     "text": [
      "           Train    Test\n",
      "Accuracy  0.4993  0.4981\n",
      "F1        0.6660  0.6650\n",
      "ROC AUC   0.5000  0.5000\n"
     ]
    }
   ],
   "source": [
    "# Metrics\n",
    "m0_stats = evaluate_model(dummy_clf, train_features, train_target, test_features, test_target)"
   ]
  },
  {
   "cell_type": "markdown",
   "metadata": {},
   "source": [
    "### Modelo 1 - NLTK + TF-IDF + LR|"
   ]
  },
  {
   "cell_type": "markdown",
   "metadata": {},
   "source": [
    "<div style=\"color: #196CC4;\">\n",
    "A continuación se preparan los datos de texto para el análisis de sentimiento utilizando el preprocesamiento de texto, la vectorización TF-IDF y un modelo de regresión logística:<br>\n",
    "▶ <b>NLTK</b> Es una colección de herramientaspara PNL, que proporciona mayor flexibilidad para construir flujos de trabajo personalizados.<br>\n",
    "▶ <b>TF-IDF (Term Frequency-Inverse Document Frequency)</b> es una técnica común para representar datos de texto numéricamente. Considera tanto la frecuencia de una palabra en un documento como su rareza general en todo el conjunto de datos.<br>\n",
    "▶ <b>Regresión Logística</b> es un algoritmo de aprendizaje automático utilizado para tareas de clasificación binaria, lo que lo hace adecuado para el análisis de sentimiento (positivo o negativo).\n",
    "</div>"
   ]
  },
  {
   "cell_type": "code",
   "execution_count": 32,
   "metadata": {
    "scrolled": true
   },
   "outputs": [
    {
     "name": "stderr",
     "output_type": "stream",
     "text": [
      "[nltk_data] Downloading package stopwords to\n",
      "[nltk_data]     C:\\Users\\dguez\\AppData\\Roaming\\nltk_data...\n",
      "[nltk_data]   Package stopwords is already up-to-date!\n"
     ]
    },
    {
     "data": {
      "text/plain": [
       "True"
      ]
     },
     "execution_count": 32,
     "metadata": {},
     "output_type": "execute_result"
    }
   ],
   "source": [
    "# Download stopwords\n",
    "nltk.download('stopwords')"
   ]
  },
  {
   "cell_type": "code",
   "execution_count": 33,
   "metadata": {},
   "outputs": [],
   "source": [
    "def preprocess_text_nltk(text):\n",
    "    # Convert to lowercase and remove punctuation\n",
    "    text = re.sub(r'[^\\w\\s]', '', text.lower())\n",
    "\n",
    "    # Remove special characters (emoticons, emojis, etc.)\n",
    "    text = re.sub(r'[^\\w\\s\\d]', '', text)\n",
    "\n",
    "    # Tokenizer(split into words)\n",
    "    words = nltk.word_tokenize(text)\n",
    "\n",
    "    # Remove stopwords\n",
    "    stop_words = set(stopwords.words('english'))\n",
    "    words = [w for w in words if not w in stop_words]\n",
    "\n",
    "    # Join words\n",
    "    preprocessed_text = ' '.join(words)\n",
    "\n",
    "    return preprocessed_text"
   ]
  },
  {
   "cell_type": "code",
   "execution_count": 34,
   "metadata": {},
   "outputs": [
    {
     "name": "stderr",
     "output_type": "stream",
     "text": [
      "[nltk_data] Downloading package punkt to\n",
      "[nltk_data]     C:\\Users\\dguez\\AppData\\Roaming\\nltk_data...\n",
      "[nltk_data]   Package punkt is already up-to-date!\n"
     ]
    },
    {
     "data": {
      "text/plain": [
       "True"
      ]
     },
     "execution_count": 34,
     "metadata": {},
     "output_type": "execute_result"
    }
   ],
   "source": [
    "nltk.download('punkt')\n"
   ]
  },
  {
   "cell_type": "code",
   "execution_count": 35,
   "metadata": {},
   "outputs": [
    {
     "data": {
      "text/html": [
       "<style>#sk-container-id-2 {\n",
       "  /* Definition of color scheme common for light and dark mode */\n",
       "  --sklearn-color-text: black;\n",
       "  --sklearn-color-line: gray;\n",
       "  /* Definition of color scheme for unfitted estimators */\n",
       "  --sklearn-color-unfitted-level-0: #fff5e6;\n",
       "  --sklearn-color-unfitted-level-1: #f6e4d2;\n",
       "  --sklearn-color-unfitted-level-2: #ffe0b3;\n",
       "  --sklearn-color-unfitted-level-3: chocolate;\n",
       "  /* Definition of color scheme for fitted estimators */\n",
       "  --sklearn-color-fitted-level-0: #f0f8ff;\n",
       "  --sklearn-color-fitted-level-1: #d4ebff;\n",
       "  --sklearn-color-fitted-level-2: #b3dbfd;\n",
       "  --sklearn-color-fitted-level-3: cornflowerblue;\n",
       "\n",
       "  /* Specific color for light theme */\n",
       "  --sklearn-color-text-on-default-background: var(--sg-text-color, var(--theme-code-foreground, var(--jp-content-font-color1, black)));\n",
       "  --sklearn-color-background: var(--sg-background-color, var(--theme-background, var(--jp-layout-color0, white)));\n",
       "  --sklearn-color-border-box: var(--sg-text-color, var(--theme-code-foreground, var(--jp-content-font-color1, black)));\n",
       "  --sklearn-color-icon: #696969;\n",
       "\n",
       "  @media (prefers-color-scheme: dark) {\n",
       "    /* Redefinition of color scheme for dark theme */\n",
       "    --sklearn-color-text-on-default-background: var(--sg-text-color, var(--theme-code-foreground, var(--jp-content-font-color1, white)));\n",
       "    --sklearn-color-background: var(--sg-background-color, var(--theme-background, var(--jp-layout-color0, #111)));\n",
       "    --sklearn-color-border-box: var(--sg-text-color, var(--theme-code-foreground, var(--jp-content-font-color1, white)));\n",
       "    --sklearn-color-icon: #878787;\n",
       "  }\n",
       "}\n",
       "\n",
       "#sk-container-id-2 {\n",
       "  color: var(--sklearn-color-text);\n",
       "}\n",
       "\n",
       "#sk-container-id-2 pre {\n",
       "  padding: 0;\n",
       "}\n",
       "\n",
       "#sk-container-id-2 input.sk-hidden--visually {\n",
       "  border: 0;\n",
       "  clip: rect(1px 1px 1px 1px);\n",
       "  clip: rect(1px, 1px, 1px, 1px);\n",
       "  height: 1px;\n",
       "  margin: -1px;\n",
       "  overflow: hidden;\n",
       "  padding: 0;\n",
       "  position: absolute;\n",
       "  width: 1px;\n",
       "}\n",
       "\n",
       "#sk-container-id-2 div.sk-dashed-wrapped {\n",
       "  border: 1px dashed var(--sklearn-color-line);\n",
       "  margin: 0 0.4em 0.5em 0.4em;\n",
       "  box-sizing: border-box;\n",
       "  padding-bottom: 0.4em;\n",
       "  background-color: var(--sklearn-color-background);\n",
       "}\n",
       "\n",
       "#sk-container-id-2 div.sk-container {\n",
       "  /* jupyter's `normalize.less` sets `[hidden] { display: none; }`\n",
       "     but bootstrap.min.css set `[hidden] { display: none !important; }`\n",
       "     so we also need the `!important` here to be able to override the\n",
       "     default hidden behavior on the sphinx rendered scikit-learn.org.\n",
       "     See: https://github.com/scikit-learn/scikit-learn/issues/21755 */\n",
       "  display: inline-block !important;\n",
       "  position: relative;\n",
       "}\n",
       "\n",
       "#sk-container-id-2 div.sk-text-repr-fallback {\n",
       "  display: none;\n",
       "}\n",
       "\n",
       "div.sk-parallel-item,\n",
       "div.sk-serial,\n",
       "div.sk-item {\n",
       "  /* draw centered vertical line to link estimators */\n",
       "  background-image: linear-gradient(var(--sklearn-color-text-on-default-background), var(--sklearn-color-text-on-default-background));\n",
       "  background-size: 2px 100%;\n",
       "  background-repeat: no-repeat;\n",
       "  background-position: center center;\n",
       "}\n",
       "\n",
       "/* Parallel-specific style estimator block */\n",
       "\n",
       "#sk-container-id-2 div.sk-parallel-item::after {\n",
       "  content: \"\";\n",
       "  width: 100%;\n",
       "  border-bottom: 2px solid var(--sklearn-color-text-on-default-background);\n",
       "  flex-grow: 1;\n",
       "}\n",
       "\n",
       "#sk-container-id-2 div.sk-parallel {\n",
       "  display: flex;\n",
       "  align-items: stretch;\n",
       "  justify-content: center;\n",
       "  background-color: var(--sklearn-color-background);\n",
       "  position: relative;\n",
       "}\n",
       "\n",
       "#sk-container-id-2 div.sk-parallel-item {\n",
       "  display: flex;\n",
       "  flex-direction: column;\n",
       "}\n",
       "\n",
       "#sk-container-id-2 div.sk-parallel-item:first-child::after {\n",
       "  align-self: flex-end;\n",
       "  width: 50%;\n",
       "}\n",
       "\n",
       "#sk-container-id-2 div.sk-parallel-item:last-child::after {\n",
       "  align-self: flex-start;\n",
       "  width: 50%;\n",
       "}\n",
       "\n",
       "#sk-container-id-2 div.sk-parallel-item:only-child::after {\n",
       "  width: 0;\n",
       "}\n",
       "\n",
       "/* Serial-specific style estimator block */\n",
       "\n",
       "#sk-container-id-2 div.sk-serial {\n",
       "  display: flex;\n",
       "  flex-direction: column;\n",
       "  align-items: center;\n",
       "  background-color: var(--sklearn-color-background);\n",
       "  padding-right: 1em;\n",
       "  padding-left: 1em;\n",
       "}\n",
       "\n",
       "\n",
       "/* Toggleable style: style used for estimator/Pipeline/ColumnTransformer box that is\n",
       "clickable and can be expanded/collapsed.\n",
       "- Pipeline and ColumnTransformer use this feature and define the default style\n",
       "- Estimators will overwrite some part of the style using the `sk-estimator` class\n",
       "*/\n",
       "\n",
       "/* Pipeline and ColumnTransformer style (default) */\n",
       "\n",
       "#sk-container-id-2 div.sk-toggleable {\n",
       "  /* Default theme specific background. It is overwritten whether we have a\n",
       "  specific estimator or a Pipeline/ColumnTransformer */\n",
       "  background-color: var(--sklearn-color-background);\n",
       "}\n",
       "\n",
       "/* Toggleable label */\n",
       "#sk-container-id-2 label.sk-toggleable__label {\n",
       "  cursor: pointer;\n",
       "  display: block;\n",
       "  width: 100%;\n",
       "  margin-bottom: 0;\n",
       "  padding: 0.5em;\n",
       "  box-sizing: border-box;\n",
       "  text-align: center;\n",
       "}\n",
       "\n",
       "#sk-container-id-2 label.sk-toggleable__label-arrow:before {\n",
       "  /* Arrow on the left of the label */\n",
       "  content: \"▸\";\n",
       "  float: left;\n",
       "  margin-right: 0.25em;\n",
       "  color: var(--sklearn-color-icon);\n",
       "}\n",
       "\n",
       "#sk-container-id-2 label.sk-toggleable__label-arrow:hover:before {\n",
       "  color: var(--sklearn-color-text);\n",
       "}\n",
       "\n",
       "/* Toggleable content - dropdown */\n",
       "\n",
       "#sk-container-id-2 div.sk-toggleable__content {\n",
       "  max-height: 0;\n",
       "  max-width: 0;\n",
       "  overflow: hidden;\n",
       "  text-align: left;\n",
       "  /* unfitted */\n",
       "  background-color: var(--sklearn-color-unfitted-level-0);\n",
       "}\n",
       "\n",
       "#sk-container-id-2 div.sk-toggleable__content.fitted {\n",
       "  /* fitted */\n",
       "  background-color: var(--sklearn-color-fitted-level-0);\n",
       "}\n",
       "\n",
       "#sk-container-id-2 div.sk-toggleable__content pre {\n",
       "  margin: 0.2em;\n",
       "  border-radius: 0.25em;\n",
       "  color: var(--sklearn-color-text);\n",
       "  /* unfitted */\n",
       "  background-color: var(--sklearn-color-unfitted-level-0);\n",
       "}\n",
       "\n",
       "#sk-container-id-2 div.sk-toggleable__content.fitted pre {\n",
       "  /* unfitted */\n",
       "  background-color: var(--sklearn-color-fitted-level-0);\n",
       "}\n",
       "\n",
       "#sk-container-id-2 input.sk-toggleable__control:checked~div.sk-toggleable__content {\n",
       "  /* Expand drop-down */\n",
       "  max-height: 200px;\n",
       "  max-width: 100%;\n",
       "  overflow: auto;\n",
       "}\n",
       "\n",
       "#sk-container-id-2 input.sk-toggleable__control:checked~label.sk-toggleable__label-arrow:before {\n",
       "  content: \"▾\";\n",
       "}\n",
       "\n",
       "/* Pipeline/ColumnTransformer-specific style */\n",
       "\n",
       "#sk-container-id-2 div.sk-label input.sk-toggleable__control:checked~label.sk-toggleable__label {\n",
       "  color: var(--sklearn-color-text);\n",
       "  background-color: var(--sklearn-color-unfitted-level-2);\n",
       "}\n",
       "\n",
       "#sk-container-id-2 div.sk-label.fitted input.sk-toggleable__control:checked~label.sk-toggleable__label {\n",
       "  background-color: var(--sklearn-color-fitted-level-2);\n",
       "}\n",
       "\n",
       "/* Estimator-specific style */\n",
       "\n",
       "/* Colorize estimator box */\n",
       "#sk-container-id-2 div.sk-estimator input.sk-toggleable__control:checked~label.sk-toggleable__label {\n",
       "  /* unfitted */\n",
       "  background-color: var(--sklearn-color-unfitted-level-2);\n",
       "}\n",
       "\n",
       "#sk-container-id-2 div.sk-estimator.fitted input.sk-toggleable__control:checked~label.sk-toggleable__label {\n",
       "  /* fitted */\n",
       "  background-color: var(--sklearn-color-fitted-level-2);\n",
       "}\n",
       "\n",
       "#sk-container-id-2 div.sk-label label.sk-toggleable__label,\n",
       "#sk-container-id-2 div.sk-label label {\n",
       "  /* The background is the default theme color */\n",
       "  color: var(--sklearn-color-text-on-default-background);\n",
       "}\n",
       "\n",
       "/* On hover, darken the color of the background */\n",
       "#sk-container-id-2 div.sk-label:hover label.sk-toggleable__label {\n",
       "  color: var(--sklearn-color-text);\n",
       "  background-color: var(--sklearn-color-unfitted-level-2);\n",
       "}\n",
       "\n",
       "/* Label box, darken color on hover, fitted */\n",
       "#sk-container-id-2 div.sk-label.fitted:hover label.sk-toggleable__label.fitted {\n",
       "  color: var(--sklearn-color-text);\n",
       "  background-color: var(--sklearn-color-fitted-level-2);\n",
       "}\n",
       "\n",
       "/* Estimator label */\n",
       "\n",
       "#sk-container-id-2 div.sk-label label {\n",
       "  font-family: monospace;\n",
       "  font-weight: bold;\n",
       "  display: inline-block;\n",
       "  line-height: 1.2em;\n",
       "}\n",
       "\n",
       "#sk-container-id-2 div.sk-label-container {\n",
       "  text-align: center;\n",
       "}\n",
       "\n",
       "/* Estimator-specific */\n",
       "#sk-container-id-2 div.sk-estimator {\n",
       "  font-family: monospace;\n",
       "  border: 1px dotted var(--sklearn-color-border-box);\n",
       "  border-radius: 0.25em;\n",
       "  box-sizing: border-box;\n",
       "  margin-bottom: 0.5em;\n",
       "  /* unfitted */\n",
       "  background-color: var(--sklearn-color-unfitted-level-0);\n",
       "}\n",
       "\n",
       "#sk-container-id-2 div.sk-estimator.fitted {\n",
       "  /* fitted */\n",
       "  background-color: var(--sklearn-color-fitted-level-0);\n",
       "}\n",
       "\n",
       "/* on hover */\n",
       "#sk-container-id-2 div.sk-estimator:hover {\n",
       "  /* unfitted */\n",
       "  background-color: var(--sklearn-color-unfitted-level-2);\n",
       "}\n",
       "\n",
       "#sk-container-id-2 div.sk-estimator.fitted:hover {\n",
       "  /* fitted */\n",
       "  background-color: var(--sklearn-color-fitted-level-2);\n",
       "}\n",
       "\n",
       "/* Specification for estimator info (e.g. \"i\" and \"?\") */\n",
       "\n",
       "/* Common style for \"i\" and \"?\" */\n",
       "\n",
       ".sk-estimator-doc-link,\n",
       "a:link.sk-estimator-doc-link,\n",
       "a:visited.sk-estimator-doc-link {\n",
       "  float: right;\n",
       "  font-size: smaller;\n",
       "  line-height: 1em;\n",
       "  font-family: monospace;\n",
       "  background-color: var(--sklearn-color-background);\n",
       "  border-radius: 1em;\n",
       "  height: 1em;\n",
       "  width: 1em;\n",
       "  text-decoration: none !important;\n",
       "  margin-left: 1ex;\n",
       "  /* unfitted */\n",
       "  border: var(--sklearn-color-unfitted-level-1) 1pt solid;\n",
       "  color: var(--sklearn-color-unfitted-level-1);\n",
       "}\n",
       "\n",
       ".sk-estimator-doc-link.fitted,\n",
       "a:link.sk-estimator-doc-link.fitted,\n",
       "a:visited.sk-estimator-doc-link.fitted {\n",
       "  /* fitted */\n",
       "  border: var(--sklearn-color-fitted-level-1) 1pt solid;\n",
       "  color: var(--sklearn-color-fitted-level-1);\n",
       "}\n",
       "\n",
       "/* On hover */\n",
       "div.sk-estimator:hover .sk-estimator-doc-link:hover,\n",
       ".sk-estimator-doc-link:hover,\n",
       "div.sk-label-container:hover .sk-estimator-doc-link:hover,\n",
       ".sk-estimator-doc-link:hover {\n",
       "  /* unfitted */\n",
       "  background-color: var(--sklearn-color-unfitted-level-3);\n",
       "  color: var(--sklearn-color-background);\n",
       "  text-decoration: none;\n",
       "}\n",
       "\n",
       "div.sk-estimator.fitted:hover .sk-estimator-doc-link.fitted:hover,\n",
       ".sk-estimator-doc-link.fitted:hover,\n",
       "div.sk-label-container:hover .sk-estimator-doc-link.fitted:hover,\n",
       ".sk-estimator-doc-link.fitted:hover {\n",
       "  /* fitted */\n",
       "  background-color: var(--sklearn-color-fitted-level-3);\n",
       "  color: var(--sklearn-color-background);\n",
       "  text-decoration: none;\n",
       "}\n",
       "\n",
       "/* Span, style for the box shown on hovering the info icon */\n",
       ".sk-estimator-doc-link span {\n",
       "  display: none;\n",
       "  z-index: 9999;\n",
       "  position: relative;\n",
       "  font-weight: normal;\n",
       "  right: .2ex;\n",
       "  padding: .5ex;\n",
       "  margin: .5ex;\n",
       "  width: min-content;\n",
       "  min-width: 20ex;\n",
       "  max-width: 50ex;\n",
       "  color: var(--sklearn-color-text);\n",
       "  box-shadow: 2pt 2pt 4pt #999;\n",
       "  /* unfitted */\n",
       "  background: var(--sklearn-color-unfitted-level-0);\n",
       "  border: .5pt solid var(--sklearn-color-unfitted-level-3);\n",
       "}\n",
       "\n",
       ".sk-estimator-doc-link.fitted span {\n",
       "  /* fitted */\n",
       "  background: var(--sklearn-color-fitted-level-0);\n",
       "  border: var(--sklearn-color-fitted-level-3);\n",
       "}\n",
       "\n",
       ".sk-estimator-doc-link:hover span {\n",
       "  display: block;\n",
       "}\n",
       "\n",
       "/* \"?\"-specific style due to the `<a>` HTML tag */\n",
       "\n",
       "#sk-container-id-2 a.estimator_doc_link {\n",
       "  float: right;\n",
       "  font-size: 1rem;\n",
       "  line-height: 1em;\n",
       "  font-family: monospace;\n",
       "  background-color: var(--sklearn-color-background);\n",
       "  border-radius: 1rem;\n",
       "  height: 1rem;\n",
       "  width: 1rem;\n",
       "  text-decoration: none;\n",
       "  /* unfitted */\n",
       "  color: var(--sklearn-color-unfitted-level-1);\n",
       "  border: var(--sklearn-color-unfitted-level-1) 1pt solid;\n",
       "}\n",
       "\n",
       "#sk-container-id-2 a.estimator_doc_link.fitted {\n",
       "  /* fitted */\n",
       "  border: var(--sklearn-color-fitted-level-1) 1pt solid;\n",
       "  color: var(--sklearn-color-fitted-level-1);\n",
       "}\n",
       "\n",
       "/* On hover */\n",
       "#sk-container-id-2 a.estimator_doc_link:hover {\n",
       "  /* unfitted */\n",
       "  background-color: var(--sklearn-color-unfitted-level-3);\n",
       "  color: var(--sklearn-color-background);\n",
       "  text-decoration: none;\n",
       "}\n",
       "\n",
       "#sk-container-id-2 a.estimator_doc_link.fitted:hover {\n",
       "  /* fitted */\n",
       "  background-color: var(--sklearn-color-fitted-level-3);\n",
       "}\n",
       "</style><div id=\"sk-container-id-2\" class=\"sk-top-container\"><div class=\"sk-text-repr-fallback\"><pre>LogisticRegression()</pre><b>In a Jupyter environment, please rerun this cell to show the HTML representation or trust the notebook. <br />On GitHub, the HTML representation is unable to render, please try loading this page with nbviewer.org.</b></div><div class=\"sk-container\" hidden><div class=\"sk-item\"><div class=\"sk-estimator fitted sk-toggleable\"><input class=\"sk-toggleable__control sk-hidden--visually\" id=\"sk-estimator-id-2\" type=\"checkbox\" checked><label for=\"sk-estimator-id-2\" class=\"sk-toggleable__label fitted sk-toggleable__label-arrow fitted\">&nbsp;&nbsp;LogisticRegression<a class=\"sk-estimator-doc-link fitted\" rel=\"noreferrer\" target=\"_blank\" href=\"https://scikit-learn.org/1.5/modules/generated/sklearn.linear_model.LogisticRegression.html\">?<span>Documentation for LogisticRegression</span></a><span class=\"sk-estimator-doc-link fitted\">i<span>Fitted</span></span></label><div class=\"sk-toggleable__content fitted\"><pre>LogisticRegression()</pre></div> </div></div></div></div>"
      ],
      "text/plain": [
       "LogisticRegression()"
      ]
     },
     "execution_count": 35,
     "metadata": {},
     "output_type": "execute_result"
    }
   ],
   "source": [
    "# Preprocess training and testing data\n",
    "train_features_joined = [preprocess_text_nltk(text) for text in train_features]\n",
    "test_features_joined = [preprocess_text_nltk(text) for text in test_features]\n",
    "\n",
    "# TF-IDF vectorizer\n",
    "vectorizer1 = TfidfVectorizer()\n",
    "\n",
    "# Transform training and testing data into TF-IDF features\n",
    "train_features_tfidf = vectorizer1.fit_transform(train_features_joined)\n",
    "test_features_tfidf = vectorizer1.transform(test_features_joined)\n",
    "\n",
    "# Logistic Regression model\n",
    "model1 = LogisticRegression()\n",
    "\n",
    "# Train\n",
    "model1.fit(train_features_tfidf, train_target)"
   ]
  },
  {
   "cell_type": "code",
   "execution_count": 36,
   "metadata": {},
   "outputs": [
    {
     "name": "stdout",
     "output_type": "stream",
     "text": [
      "Modelo 1 - NLTK, TF-IDF y LR:\n",
      "\n",
      "           Train    Test\n",
      "Accuracy  0.9394  0.8853\n",
      "F1        0.9398  0.8849\n",
      "ROC AUC   0.9841  0.9530\n"
     ]
    }
   ],
   "source": [
    "# Metrics\n",
    "print(\"Modelo 1 - NLTK, TF-IDF y LR:\")\n",
    "print()\n",
    "m1_stats = evaluate_model(model1, train_features_tfidf, train_target, test_features_tfidf, test_target)"
   ]
  },
  {
   "cell_type": "markdown",
   "metadata": {},
   "source": [
    "### Modelo 2 - SpaCy + TF-IDF + LR"
   ]
  },
  {
   "cell_type": "markdown",
   "metadata": {},
   "source": [
    "<div style=\"color: #196CC4;\">\n",
    "▶ A continuación se realiza un análisis de sentimiento utilizando un modelo de <b>Regresión Logística</b>, similar al ejemplo anterior, pero con spaCy para el preprocesamiento y la vectorización <b>TF-IDF</b>:<br> \n",
    "▶ Este ejemplo utiliza <b>spaCy</b> para el preprocesamiento (PNL), con un análisis lingüístico más avanzadas en comparación con el tokenizador de NLTK.<br>\n",
    "▶ El resto del código (vectorización TF-IDF, regresión logística y evaluación) sigue siendo similar.\n",
    "</div>"
   ]
  },
  {
   "cell_type": "code",
   "execution_count": 37,
   "metadata": {},
   "outputs": [],
   "source": [
    "# Load spaCy model\n",
    "nlp = spacy.load('en_core_web_sm', disable=['parser', 'ner'])"
   ]
  },
  {
   "cell_type": "code",
   "execution_count": 38,
   "metadata": {},
   "outputs": [],
   "source": [
    "def preprocess_text_spacy(text):\n",
    "    # Convert to lowercase and remove punctuation\n",
    "    text = re.sub(r'[^\\w\\s]', '', text.lower())\n",
    "\n",
    "    # Remove special characters (emoticons, emojis, etc.)\n",
    "    text = re.sub(r'[^\\w\\s\\d]', '', text)\n",
    "    \n",
    "    # Tokenizer SpaCy\n",
    "    doc = nlp(text) \n",
    "    \n",
    "    # Lowercase, remove stopwords\n",
    "    words = [token.text.lower() for token in doc if not token.is_stop]  \n",
    "    \n",
    "    # Join words\n",
    "    preprocessed_text = ' '.join(words)  \n",
    "    \n",
    "    # Return\n",
    "    return preprocessed_text"
   ]
  },
  {
   "cell_type": "code",
   "execution_count": 39,
   "metadata": {},
   "outputs": [],
   "source": [
    "# Preprocess training and testing data\n",
    "train_features_joined = [preprocess_text_spacy(text) for text in train_features]\n",
    "test_features_joined = [preprocess_text_spacy(text) for text in test_features]\n",
    "\n",
    "# TF-IDF vectorizer\n",
    "vectorizer2 = TfidfVectorizer()\n",
    "\n",
    "# Transform training and testing data into TF-IDF features\n",
    "train_features_tfidf = vectorizer2.fit_transform(train_features_joined)\n",
    "test_features_tfidf = vectorizer2.transform(test_features_joined)"
   ]
  },
  {
   "cell_type": "code",
   "execution_count": 40,
   "metadata": {},
   "outputs": [
    {
     "data": {
      "text/html": [
       "<style>#sk-container-id-3 {\n",
       "  /* Definition of color scheme common for light and dark mode */\n",
       "  --sklearn-color-text: black;\n",
       "  --sklearn-color-line: gray;\n",
       "  /* Definition of color scheme for unfitted estimators */\n",
       "  --sklearn-color-unfitted-level-0: #fff5e6;\n",
       "  --sklearn-color-unfitted-level-1: #f6e4d2;\n",
       "  --sklearn-color-unfitted-level-2: #ffe0b3;\n",
       "  --sklearn-color-unfitted-level-3: chocolate;\n",
       "  /* Definition of color scheme for fitted estimators */\n",
       "  --sklearn-color-fitted-level-0: #f0f8ff;\n",
       "  --sklearn-color-fitted-level-1: #d4ebff;\n",
       "  --sklearn-color-fitted-level-2: #b3dbfd;\n",
       "  --sklearn-color-fitted-level-3: cornflowerblue;\n",
       "\n",
       "  /* Specific color for light theme */\n",
       "  --sklearn-color-text-on-default-background: var(--sg-text-color, var(--theme-code-foreground, var(--jp-content-font-color1, black)));\n",
       "  --sklearn-color-background: var(--sg-background-color, var(--theme-background, var(--jp-layout-color0, white)));\n",
       "  --sklearn-color-border-box: var(--sg-text-color, var(--theme-code-foreground, var(--jp-content-font-color1, black)));\n",
       "  --sklearn-color-icon: #696969;\n",
       "\n",
       "  @media (prefers-color-scheme: dark) {\n",
       "    /* Redefinition of color scheme for dark theme */\n",
       "    --sklearn-color-text-on-default-background: var(--sg-text-color, var(--theme-code-foreground, var(--jp-content-font-color1, white)));\n",
       "    --sklearn-color-background: var(--sg-background-color, var(--theme-background, var(--jp-layout-color0, #111)));\n",
       "    --sklearn-color-border-box: var(--sg-text-color, var(--theme-code-foreground, var(--jp-content-font-color1, white)));\n",
       "    --sklearn-color-icon: #878787;\n",
       "  }\n",
       "}\n",
       "\n",
       "#sk-container-id-3 {\n",
       "  color: var(--sklearn-color-text);\n",
       "}\n",
       "\n",
       "#sk-container-id-3 pre {\n",
       "  padding: 0;\n",
       "}\n",
       "\n",
       "#sk-container-id-3 input.sk-hidden--visually {\n",
       "  border: 0;\n",
       "  clip: rect(1px 1px 1px 1px);\n",
       "  clip: rect(1px, 1px, 1px, 1px);\n",
       "  height: 1px;\n",
       "  margin: -1px;\n",
       "  overflow: hidden;\n",
       "  padding: 0;\n",
       "  position: absolute;\n",
       "  width: 1px;\n",
       "}\n",
       "\n",
       "#sk-container-id-3 div.sk-dashed-wrapped {\n",
       "  border: 1px dashed var(--sklearn-color-line);\n",
       "  margin: 0 0.4em 0.5em 0.4em;\n",
       "  box-sizing: border-box;\n",
       "  padding-bottom: 0.4em;\n",
       "  background-color: var(--sklearn-color-background);\n",
       "}\n",
       "\n",
       "#sk-container-id-3 div.sk-container {\n",
       "  /* jupyter's `normalize.less` sets `[hidden] { display: none; }`\n",
       "     but bootstrap.min.css set `[hidden] { display: none !important; }`\n",
       "     so we also need the `!important` here to be able to override the\n",
       "     default hidden behavior on the sphinx rendered scikit-learn.org.\n",
       "     See: https://github.com/scikit-learn/scikit-learn/issues/21755 */\n",
       "  display: inline-block !important;\n",
       "  position: relative;\n",
       "}\n",
       "\n",
       "#sk-container-id-3 div.sk-text-repr-fallback {\n",
       "  display: none;\n",
       "}\n",
       "\n",
       "div.sk-parallel-item,\n",
       "div.sk-serial,\n",
       "div.sk-item {\n",
       "  /* draw centered vertical line to link estimators */\n",
       "  background-image: linear-gradient(var(--sklearn-color-text-on-default-background), var(--sklearn-color-text-on-default-background));\n",
       "  background-size: 2px 100%;\n",
       "  background-repeat: no-repeat;\n",
       "  background-position: center center;\n",
       "}\n",
       "\n",
       "/* Parallel-specific style estimator block */\n",
       "\n",
       "#sk-container-id-3 div.sk-parallel-item::after {\n",
       "  content: \"\";\n",
       "  width: 100%;\n",
       "  border-bottom: 2px solid var(--sklearn-color-text-on-default-background);\n",
       "  flex-grow: 1;\n",
       "}\n",
       "\n",
       "#sk-container-id-3 div.sk-parallel {\n",
       "  display: flex;\n",
       "  align-items: stretch;\n",
       "  justify-content: center;\n",
       "  background-color: var(--sklearn-color-background);\n",
       "  position: relative;\n",
       "}\n",
       "\n",
       "#sk-container-id-3 div.sk-parallel-item {\n",
       "  display: flex;\n",
       "  flex-direction: column;\n",
       "}\n",
       "\n",
       "#sk-container-id-3 div.sk-parallel-item:first-child::after {\n",
       "  align-self: flex-end;\n",
       "  width: 50%;\n",
       "}\n",
       "\n",
       "#sk-container-id-3 div.sk-parallel-item:last-child::after {\n",
       "  align-self: flex-start;\n",
       "  width: 50%;\n",
       "}\n",
       "\n",
       "#sk-container-id-3 div.sk-parallel-item:only-child::after {\n",
       "  width: 0;\n",
       "}\n",
       "\n",
       "/* Serial-specific style estimator block */\n",
       "\n",
       "#sk-container-id-3 div.sk-serial {\n",
       "  display: flex;\n",
       "  flex-direction: column;\n",
       "  align-items: center;\n",
       "  background-color: var(--sklearn-color-background);\n",
       "  padding-right: 1em;\n",
       "  padding-left: 1em;\n",
       "}\n",
       "\n",
       "\n",
       "/* Toggleable style: style used for estimator/Pipeline/ColumnTransformer box that is\n",
       "clickable and can be expanded/collapsed.\n",
       "- Pipeline and ColumnTransformer use this feature and define the default style\n",
       "- Estimators will overwrite some part of the style using the `sk-estimator` class\n",
       "*/\n",
       "\n",
       "/* Pipeline and ColumnTransformer style (default) */\n",
       "\n",
       "#sk-container-id-3 div.sk-toggleable {\n",
       "  /* Default theme specific background. It is overwritten whether we have a\n",
       "  specific estimator or a Pipeline/ColumnTransformer */\n",
       "  background-color: var(--sklearn-color-background);\n",
       "}\n",
       "\n",
       "/* Toggleable label */\n",
       "#sk-container-id-3 label.sk-toggleable__label {\n",
       "  cursor: pointer;\n",
       "  display: block;\n",
       "  width: 100%;\n",
       "  margin-bottom: 0;\n",
       "  padding: 0.5em;\n",
       "  box-sizing: border-box;\n",
       "  text-align: center;\n",
       "}\n",
       "\n",
       "#sk-container-id-3 label.sk-toggleable__label-arrow:before {\n",
       "  /* Arrow on the left of the label */\n",
       "  content: \"▸\";\n",
       "  float: left;\n",
       "  margin-right: 0.25em;\n",
       "  color: var(--sklearn-color-icon);\n",
       "}\n",
       "\n",
       "#sk-container-id-3 label.sk-toggleable__label-arrow:hover:before {\n",
       "  color: var(--sklearn-color-text);\n",
       "}\n",
       "\n",
       "/* Toggleable content - dropdown */\n",
       "\n",
       "#sk-container-id-3 div.sk-toggleable__content {\n",
       "  max-height: 0;\n",
       "  max-width: 0;\n",
       "  overflow: hidden;\n",
       "  text-align: left;\n",
       "  /* unfitted */\n",
       "  background-color: var(--sklearn-color-unfitted-level-0);\n",
       "}\n",
       "\n",
       "#sk-container-id-3 div.sk-toggleable__content.fitted {\n",
       "  /* fitted */\n",
       "  background-color: var(--sklearn-color-fitted-level-0);\n",
       "}\n",
       "\n",
       "#sk-container-id-3 div.sk-toggleable__content pre {\n",
       "  margin: 0.2em;\n",
       "  border-radius: 0.25em;\n",
       "  color: var(--sklearn-color-text);\n",
       "  /* unfitted */\n",
       "  background-color: var(--sklearn-color-unfitted-level-0);\n",
       "}\n",
       "\n",
       "#sk-container-id-3 div.sk-toggleable__content.fitted pre {\n",
       "  /* unfitted */\n",
       "  background-color: var(--sklearn-color-fitted-level-0);\n",
       "}\n",
       "\n",
       "#sk-container-id-3 input.sk-toggleable__control:checked~div.sk-toggleable__content {\n",
       "  /* Expand drop-down */\n",
       "  max-height: 200px;\n",
       "  max-width: 100%;\n",
       "  overflow: auto;\n",
       "}\n",
       "\n",
       "#sk-container-id-3 input.sk-toggleable__control:checked~label.sk-toggleable__label-arrow:before {\n",
       "  content: \"▾\";\n",
       "}\n",
       "\n",
       "/* Pipeline/ColumnTransformer-specific style */\n",
       "\n",
       "#sk-container-id-3 div.sk-label input.sk-toggleable__control:checked~label.sk-toggleable__label {\n",
       "  color: var(--sklearn-color-text);\n",
       "  background-color: var(--sklearn-color-unfitted-level-2);\n",
       "}\n",
       "\n",
       "#sk-container-id-3 div.sk-label.fitted input.sk-toggleable__control:checked~label.sk-toggleable__label {\n",
       "  background-color: var(--sklearn-color-fitted-level-2);\n",
       "}\n",
       "\n",
       "/* Estimator-specific style */\n",
       "\n",
       "/* Colorize estimator box */\n",
       "#sk-container-id-3 div.sk-estimator input.sk-toggleable__control:checked~label.sk-toggleable__label {\n",
       "  /* unfitted */\n",
       "  background-color: var(--sklearn-color-unfitted-level-2);\n",
       "}\n",
       "\n",
       "#sk-container-id-3 div.sk-estimator.fitted input.sk-toggleable__control:checked~label.sk-toggleable__label {\n",
       "  /* fitted */\n",
       "  background-color: var(--sklearn-color-fitted-level-2);\n",
       "}\n",
       "\n",
       "#sk-container-id-3 div.sk-label label.sk-toggleable__label,\n",
       "#sk-container-id-3 div.sk-label label {\n",
       "  /* The background is the default theme color */\n",
       "  color: var(--sklearn-color-text-on-default-background);\n",
       "}\n",
       "\n",
       "/* On hover, darken the color of the background */\n",
       "#sk-container-id-3 div.sk-label:hover label.sk-toggleable__label {\n",
       "  color: var(--sklearn-color-text);\n",
       "  background-color: var(--sklearn-color-unfitted-level-2);\n",
       "}\n",
       "\n",
       "/* Label box, darken color on hover, fitted */\n",
       "#sk-container-id-3 div.sk-label.fitted:hover label.sk-toggleable__label.fitted {\n",
       "  color: var(--sklearn-color-text);\n",
       "  background-color: var(--sklearn-color-fitted-level-2);\n",
       "}\n",
       "\n",
       "/* Estimator label */\n",
       "\n",
       "#sk-container-id-3 div.sk-label label {\n",
       "  font-family: monospace;\n",
       "  font-weight: bold;\n",
       "  display: inline-block;\n",
       "  line-height: 1.2em;\n",
       "}\n",
       "\n",
       "#sk-container-id-3 div.sk-label-container {\n",
       "  text-align: center;\n",
       "}\n",
       "\n",
       "/* Estimator-specific */\n",
       "#sk-container-id-3 div.sk-estimator {\n",
       "  font-family: monospace;\n",
       "  border: 1px dotted var(--sklearn-color-border-box);\n",
       "  border-radius: 0.25em;\n",
       "  box-sizing: border-box;\n",
       "  margin-bottom: 0.5em;\n",
       "  /* unfitted */\n",
       "  background-color: var(--sklearn-color-unfitted-level-0);\n",
       "}\n",
       "\n",
       "#sk-container-id-3 div.sk-estimator.fitted {\n",
       "  /* fitted */\n",
       "  background-color: var(--sklearn-color-fitted-level-0);\n",
       "}\n",
       "\n",
       "/* on hover */\n",
       "#sk-container-id-3 div.sk-estimator:hover {\n",
       "  /* unfitted */\n",
       "  background-color: var(--sklearn-color-unfitted-level-2);\n",
       "}\n",
       "\n",
       "#sk-container-id-3 div.sk-estimator.fitted:hover {\n",
       "  /* fitted */\n",
       "  background-color: var(--sklearn-color-fitted-level-2);\n",
       "}\n",
       "\n",
       "/* Specification for estimator info (e.g. \"i\" and \"?\") */\n",
       "\n",
       "/* Common style for \"i\" and \"?\" */\n",
       "\n",
       ".sk-estimator-doc-link,\n",
       "a:link.sk-estimator-doc-link,\n",
       "a:visited.sk-estimator-doc-link {\n",
       "  float: right;\n",
       "  font-size: smaller;\n",
       "  line-height: 1em;\n",
       "  font-family: monospace;\n",
       "  background-color: var(--sklearn-color-background);\n",
       "  border-radius: 1em;\n",
       "  height: 1em;\n",
       "  width: 1em;\n",
       "  text-decoration: none !important;\n",
       "  margin-left: 1ex;\n",
       "  /* unfitted */\n",
       "  border: var(--sklearn-color-unfitted-level-1) 1pt solid;\n",
       "  color: var(--sklearn-color-unfitted-level-1);\n",
       "}\n",
       "\n",
       ".sk-estimator-doc-link.fitted,\n",
       "a:link.sk-estimator-doc-link.fitted,\n",
       "a:visited.sk-estimator-doc-link.fitted {\n",
       "  /* fitted */\n",
       "  border: var(--sklearn-color-fitted-level-1) 1pt solid;\n",
       "  color: var(--sklearn-color-fitted-level-1);\n",
       "}\n",
       "\n",
       "/* On hover */\n",
       "div.sk-estimator:hover .sk-estimator-doc-link:hover,\n",
       ".sk-estimator-doc-link:hover,\n",
       "div.sk-label-container:hover .sk-estimator-doc-link:hover,\n",
       ".sk-estimator-doc-link:hover {\n",
       "  /* unfitted */\n",
       "  background-color: var(--sklearn-color-unfitted-level-3);\n",
       "  color: var(--sklearn-color-background);\n",
       "  text-decoration: none;\n",
       "}\n",
       "\n",
       "div.sk-estimator.fitted:hover .sk-estimator-doc-link.fitted:hover,\n",
       ".sk-estimator-doc-link.fitted:hover,\n",
       "div.sk-label-container:hover .sk-estimator-doc-link.fitted:hover,\n",
       ".sk-estimator-doc-link.fitted:hover {\n",
       "  /* fitted */\n",
       "  background-color: var(--sklearn-color-fitted-level-3);\n",
       "  color: var(--sklearn-color-background);\n",
       "  text-decoration: none;\n",
       "}\n",
       "\n",
       "/* Span, style for the box shown on hovering the info icon */\n",
       ".sk-estimator-doc-link span {\n",
       "  display: none;\n",
       "  z-index: 9999;\n",
       "  position: relative;\n",
       "  font-weight: normal;\n",
       "  right: .2ex;\n",
       "  padding: .5ex;\n",
       "  margin: .5ex;\n",
       "  width: min-content;\n",
       "  min-width: 20ex;\n",
       "  max-width: 50ex;\n",
       "  color: var(--sklearn-color-text);\n",
       "  box-shadow: 2pt 2pt 4pt #999;\n",
       "  /* unfitted */\n",
       "  background: var(--sklearn-color-unfitted-level-0);\n",
       "  border: .5pt solid var(--sklearn-color-unfitted-level-3);\n",
       "}\n",
       "\n",
       ".sk-estimator-doc-link.fitted span {\n",
       "  /* fitted */\n",
       "  background: var(--sklearn-color-fitted-level-0);\n",
       "  border: var(--sklearn-color-fitted-level-3);\n",
       "}\n",
       "\n",
       ".sk-estimator-doc-link:hover span {\n",
       "  display: block;\n",
       "}\n",
       "\n",
       "/* \"?\"-specific style due to the `<a>` HTML tag */\n",
       "\n",
       "#sk-container-id-3 a.estimator_doc_link {\n",
       "  float: right;\n",
       "  font-size: 1rem;\n",
       "  line-height: 1em;\n",
       "  font-family: monospace;\n",
       "  background-color: var(--sklearn-color-background);\n",
       "  border-radius: 1rem;\n",
       "  height: 1rem;\n",
       "  width: 1rem;\n",
       "  text-decoration: none;\n",
       "  /* unfitted */\n",
       "  color: var(--sklearn-color-unfitted-level-1);\n",
       "  border: var(--sklearn-color-unfitted-level-1) 1pt solid;\n",
       "}\n",
       "\n",
       "#sk-container-id-3 a.estimator_doc_link.fitted {\n",
       "  /* fitted */\n",
       "  border: var(--sklearn-color-fitted-level-1) 1pt solid;\n",
       "  color: var(--sklearn-color-fitted-level-1);\n",
       "}\n",
       "\n",
       "/* On hover */\n",
       "#sk-container-id-3 a.estimator_doc_link:hover {\n",
       "  /* unfitted */\n",
       "  background-color: var(--sklearn-color-unfitted-level-3);\n",
       "  color: var(--sklearn-color-background);\n",
       "  text-decoration: none;\n",
       "}\n",
       "\n",
       "#sk-container-id-3 a.estimator_doc_link.fitted:hover {\n",
       "  /* fitted */\n",
       "  background-color: var(--sklearn-color-fitted-level-3);\n",
       "}\n",
       "</style><div id=\"sk-container-id-3\" class=\"sk-top-container\"><div class=\"sk-text-repr-fallback\"><pre>LogisticRegression()</pre><b>In a Jupyter environment, please rerun this cell to show the HTML representation or trust the notebook. <br />On GitHub, the HTML representation is unable to render, please try loading this page with nbviewer.org.</b></div><div class=\"sk-container\" hidden><div class=\"sk-item\"><div class=\"sk-estimator fitted sk-toggleable\"><input class=\"sk-toggleable__control sk-hidden--visually\" id=\"sk-estimator-id-3\" type=\"checkbox\" checked><label for=\"sk-estimator-id-3\" class=\"sk-toggleable__label fitted sk-toggleable__label-arrow fitted\">&nbsp;&nbsp;LogisticRegression<a class=\"sk-estimator-doc-link fitted\" rel=\"noreferrer\" target=\"_blank\" href=\"https://scikit-learn.org/1.5/modules/generated/sklearn.linear_model.LogisticRegression.html\">?<span>Documentation for LogisticRegression</span></a><span class=\"sk-estimator-doc-link fitted\">i<span>Fitted</span></span></label><div class=\"sk-toggleable__content fitted\"><pre>LogisticRegression()</pre></div> </div></div></div></div>"
      ],
      "text/plain": [
       "LogisticRegression()"
      ]
     },
     "execution_count": 40,
     "metadata": {},
     "output_type": "execute_result"
    }
   ],
   "source": [
    "# Logistic Regression model\n",
    "model2 = LogisticRegression()\n",
    "\n",
    "# Train\n",
    "model2.fit(train_features_tfidf, train_target)"
   ]
  },
  {
   "cell_type": "code",
   "execution_count": 41,
   "metadata": {},
   "outputs": [
    {
     "name": "stdout",
     "output_type": "stream",
     "text": [
      "Modelo 2 - spaCy, TF-IDF y LR:\n",
      "\n",
      "           Train    Test\n",
      "Accuracy  0.9394  0.8790\n",
      "F1        0.9398  0.8785\n",
      "ROC AUC   0.9832  0.9501\n"
     ]
    }
   ],
   "source": [
    "# Metrics\n",
    "print(\"Modelo 2 - spaCy, TF-IDF y LR:\")\n",
    "print()\n",
    "m2_stats = evaluate_model(model2, train_features_tfidf, train_target, test_features_tfidf, test_target)"
   ]
  },
  {
   "cell_type": "markdown",
   "metadata": {},
   "source": [
    "### Modelo 3 - SpaCy + TF-IDF + LGBM"
   ]
  },
  {
   "cell_type": "markdown",
   "metadata": {},
   "source": [
    "<div style=\"color: #196CC4;\">\n",
    "▶ A continuación se realiza análisis de sentimiento utilizando <b>LightGBM (LGBM)</b>, un modelo de aprendizaje automático para tareas de clasificación, por lo que se clasifican las reseñas como positivas o negativas en función de las representaciones de características aprendidas.<br>  \n",
    "▶ <b>LGBM</b> se basa en el algoritmo de boosting de gradiente, que entrena un modelo de forma iterativa para mejorar gradualmente el rendimiento.<br>\n",
    "▶ Este ejemplo sigue utilizando <b>spaCy</b> para el preprocesamiento, así como la vectorización con <b>TF-IDF</b> y evaluación\n",
    "</div>"
   ]
  },
  {
   "cell_type": "code",
   "execution_count": 42,
   "metadata": {},
   "outputs": [],
   "source": [
    "# LightGBM model\n",
    "lgb_train = lgb.Dataset(train_features_tfidf, label=train_target)\n",
    "lgb_test = lgb.Dataset(test_features_tfidf)"
   ]
  },
  {
   "cell_type": "code",
   "execution_count": 43,
   "metadata": {},
   "outputs": [
    {
     "name": "stdout",
     "output_type": "stream",
     "text": [
      "[LightGBM] [Info] Number of positive: 11862, number of negative: 11895\n",
      "[LightGBM] [Info] Auto-choosing row-wise multi-threading, the overhead of testing was 0.366148 seconds.\n",
      "You can set `force_row_wise=true` to remove the overhead.\n",
      "And if memory is not enough, you can set `force_col_wise=true`.\n",
      "[LightGBM] [Info] Total Bins 479908\n",
      "[LightGBM] [Info] Number of data points in the train set: 23757, number of used features: 11498\n",
      "[LightGBM] [Info] [binary:BoostFromScore]: pavg=0.499305 -> initscore=-0.002778\n",
      "[LightGBM] [Info] Start training from score -0.002778\n"
     ]
    }
   ],
   "source": [
    "# Parameters\n",
    "params = {\n",
    "    'objective': 'binary',\n",
    "    'metric': 'auc',\n",
    "    'learning_rate': 0.1,\n",
    "    'num_leaves': 31,\n",
    "    'min_child_samples': 20,\n",
    "    'bagging_fraction': 0.8,\n",
    "    'feature_fraction': 0.9,\n",
    "    'bagging_freq': 5,\n",
    "    #'device': 'gpu'  # Use GPU if available\n",
    "}\n",
    "\n",
    "# Train\n",
    "model3 = lgb.train(params, lgb_train, num_boost_round=100)\n",
    "\n",
    "# Predictions\n",
    "#predictions = gbm.predict(test_features_tfidf)"
   ]
  },
  {
   "cell_type": "code",
   "execution_count": 44,
   "metadata": {},
   "outputs": [
    {
     "name": "stdout",
     "output_type": "stream",
     "text": [
      "Modelo 3 - spaCy, TF-IDF y LGBM:\n",
      "\n",
      "           Train    Test\n",
      "Accuracy  0.9098  0.8624\n",
      "F1        0.9109  0.8636\n",
      "ROC AUC   0.9099  0.8625\n"
     ]
    }
   ],
   "source": [
    "# Metrics\n",
    "print(\"Modelo 3 - spaCy, TF-IDF y LGBM:\")\n",
    "print()\n",
    "m3_stats = evaluate_model(model3, train_features_tfidf, train_target, test_features_tfidf, test_target)"
   ]
  },
  {
   "cell_type": "markdown",
   "metadata": {},
   "source": [
    "### Modelo 4 - SpaCy + TF-IDF + RF"
   ]
  },
  {
   "cell_type": "markdown",
   "metadata": {},
   "source": [
    "<div style=\"color: #196CC4;\">\n",
    "▶ A continuación se configura un modelo <b>Random Forest</b> con parámetros específicos para clasificar las reseñas en base al análisis de sentimiento. <br>\n",
    "▶ Este modelo <b>Random Forest</b> se basa en la creación de un conjunto de árboles de decisión, para obtener un resultado final más robusto y preciso.<br>\n",
    "▶ Este ejemplo sigue utilizando <b>spaCy</b> para el preprocesamiento, así como la vectorización con <b>TF-IDF</b> y evaluación\n",
    "</div>"
   ]
  },
  {
   "cell_type": "code",
   "execution_count": 45,
   "metadata": {},
   "outputs": [
    {
     "data": {
      "text/html": [
       "<style>#sk-container-id-4 {\n",
       "  /* Definition of color scheme common for light and dark mode */\n",
       "  --sklearn-color-text: black;\n",
       "  --sklearn-color-line: gray;\n",
       "  /* Definition of color scheme for unfitted estimators */\n",
       "  --sklearn-color-unfitted-level-0: #fff5e6;\n",
       "  --sklearn-color-unfitted-level-1: #f6e4d2;\n",
       "  --sklearn-color-unfitted-level-2: #ffe0b3;\n",
       "  --sklearn-color-unfitted-level-3: chocolate;\n",
       "  /* Definition of color scheme for fitted estimators */\n",
       "  --sklearn-color-fitted-level-0: #f0f8ff;\n",
       "  --sklearn-color-fitted-level-1: #d4ebff;\n",
       "  --sklearn-color-fitted-level-2: #b3dbfd;\n",
       "  --sklearn-color-fitted-level-3: cornflowerblue;\n",
       "\n",
       "  /* Specific color for light theme */\n",
       "  --sklearn-color-text-on-default-background: var(--sg-text-color, var(--theme-code-foreground, var(--jp-content-font-color1, black)));\n",
       "  --sklearn-color-background: var(--sg-background-color, var(--theme-background, var(--jp-layout-color0, white)));\n",
       "  --sklearn-color-border-box: var(--sg-text-color, var(--theme-code-foreground, var(--jp-content-font-color1, black)));\n",
       "  --sklearn-color-icon: #696969;\n",
       "\n",
       "  @media (prefers-color-scheme: dark) {\n",
       "    /* Redefinition of color scheme for dark theme */\n",
       "    --sklearn-color-text-on-default-background: var(--sg-text-color, var(--theme-code-foreground, var(--jp-content-font-color1, white)));\n",
       "    --sklearn-color-background: var(--sg-background-color, var(--theme-background, var(--jp-layout-color0, #111)));\n",
       "    --sklearn-color-border-box: var(--sg-text-color, var(--theme-code-foreground, var(--jp-content-font-color1, white)));\n",
       "    --sklearn-color-icon: #878787;\n",
       "  }\n",
       "}\n",
       "\n",
       "#sk-container-id-4 {\n",
       "  color: var(--sklearn-color-text);\n",
       "}\n",
       "\n",
       "#sk-container-id-4 pre {\n",
       "  padding: 0;\n",
       "}\n",
       "\n",
       "#sk-container-id-4 input.sk-hidden--visually {\n",
       "  border: 0;\n",
       "  clip: rect(1px 1px 1px 1px);\n",
       "  clip: rect(1px, 1px, 1px, 1px);\n",
       "  height: 1px;\n",
       "  margin: -1px;\n",
       "  overflow: hidden;\n",
       "  padding: 0;\n",
       "  position: absolute;\n",
       "  width: 1px;\n",
       "}\n",
       "\n",
       "#sk-container-id-4 div.sk-dashed-wrapped {\n",
       "  border: 1px dashed var(--sklearn-color-line);\n",
       "  margin: 0 0.4em 0.5em 0.4em;\n",
       "  box-sizing: border-box;\n",
       "  padding-bottom: 0.4em;\n",
       "  background-color: var(--sklearn-color-background);\n",
       "}\n",
       "\n",
       "#sk-container-id-4 div.sk-container {\n",
       "  /* jupyter's `normalize.less` sets `[hidden] { display: none; }`\n",
       "     but bootstrap.min.css set `[hidden] { display: none !important; }`\n",
       "     so we also need the `!important` here to be able to override the\n",
       "     default hidden behavior on the sphinx rendered scikit-learn.org.\n",
       "     See: https://github.com/scikit-learn/scikit-learn/issues/21755 */\n",
       "  display: inline-block !important;\n",
       "  position: relative;\n",
       "}\n",
       "\n",
       "#sk-container-id-4 div.sk-text-repr-fallback {\n",
       "  display: none;\n",
       "}\n",
       "\n",
       "div.sk-parallel-item,\n",
       "div.sk-serial,\n",
       "div.sk-item {\n",
       "  /* draw centered vertical line to link estimators */\n",
       "  background-image: linear-gradient(var(--sklearn-color-text-on-default-background), var(--sklearn-color-text-on-default-background));\n",
       "  background-size: 2px 100%;\n",
       "  background-repeat: no-repeat;\n",
       "  background-position: center center;\n",
       "}\n",
       "\n",
       "/* Parallel-specific style estimator block */\n",
       "\n",
       "#sk-container-id-4 div.sk-parallel-item::after {\n",
       "  content: \"\";\n",
       "  width: 100%;\n",
       "  border-bottom: 2px solid var(--sklearn-color-text-on-default-background);\n",
       "  flex-grow: 1;\n",
       "}\n",
       "\n",
       "#sk-container-id-4 div.sk-parallel {\n",
       "  display: flex;\n",
       "  align-items: stretch;\n",
       "  justify-content: center;\n",
       "  background-color: var(--sklearn-color-background);\n",
       "  position: relative;\n",
       "}\n",
       "\n",
       "#sk-container-id-4 div.sk-parallel-item {\n",
       "  display: flex;\n",
       "  flex-direction: column;\n",
       "}\n",
       "\n",
       "#sk-container-id-4 div.sk-parallel-item:first-child::after {\n",
       "  align-self: flex-end;\n",
       "  width: 50%;\n",
       "}\n",
       "\n",
       "#sk-container-id-4 div.sk-parallel-item:last-child::after {\n",
       "  align-self: flex-start;\n",
       "  width: 50%;\n",
       "}\n",
       "\n",
       "#sk-container-id-4 div.sk-parallel-item:only-child::after {\n",
       "  width: 0;\n",
       "}\n",
       "\n",
       "/* Serial-specific style estimator block */\n",
       "\n",
       "#sk-container-id-4 div.sk-serial {\n",
       "  display: flex;\n",
       "  flex-direction: column;\n",
       "  align-items: center;\n",
       "  background-color: var(--sklearn-color-background);\n",
       "  padding-right: 1em;\n",
       "  padding-left: 1em;\n",
       "}\n",
       "\n",
       "\n",
       "/* Toggleable style: style used for estimator/Pipeline/ColumnTransformer box that is\n",
       "clickable and can be expanded/collapsed.\n",
       "- Pipeline and ColumnTransformer use this feature and define the default style\n",
       "- Estimators will overwrite some part of the style using the `sk-estimator` class\n",
       "*/\n",
       "\n",
       "/* Pipeline and ColumnTransformer style (default) */\n",
       "\n",
       "#sk-container-id-4 div.sk-toggleable {\n",
       "  /* Default theme specific background. It is overwritten whether we have a\n",
       "  specific estimator or a Pipeline/ColumnTransformer */\n",
       "  background-color: var(--sklearn-color-background);\n",
       "}\n",
       "\n",
       "/* Toggleable label */\n",
       "#sk-container-id-4 label.sk-toggleable__label {\n",
       "  cursor: pointer;\n",
       "  display: block;\n",
       "  width: 100%;\n",
       "  margin-bottom: 0;\n",
       "  padding: 0.5em;\n",
       "  box-sizing: border-box;\n",
       "  text-align: center;\n",
       "}\n",
       "\n",
       "#sk-container-id-4 label.sk-toggleable__label-arrow:before {\n",
       "  /* Arrow on the left of the label */\n",
       "  content: \"▸\";\n",
       "  float: left;\n",
       "  margin-right: 0.25em;\n",
       "  color: var(--sklearn-color-icon);\n",
       "}\n",
       "\n",
       "#sk-container-id-4 label.sk-toggleable__label-arrow:hover:before {\n",
       "  color: var(--sklearn-color-text);\n",
       "}\n",
       "\n",
       "/* Toggleable content - dropdown */\n",
       "\n",
       "#sk-container-id-4 div.sk-toggleable__content {\n",
       "  max-height: 0;\n",
       "  max-width: 0;\n",
       "  overflow: hidden;\n",
       "  text-align: left;\n",
       "  /* unfitted */\n",
       "  background-color: var(--sklearn-color-unfitted-level-0);\n",
       "}\n",
       "\n",
       "#sk-container-id-4 div.sk-toggleable__content.fitted {\n",
       "  /* fitted */\n",
       "  background-color: var(--sklearn-color-fitted-level-0);\n",
       "}\n",
       "\n",
       "#sk-container-id-4 div.sk-toggleable__content pre {\n",
       "  margin: 0.2em;\n",
       "  border-radius: 0.25em;\n",
       "  color: var(--sklearn-color-text);\n",
       "  /* unfitted */\n",
       "  background-color: var(--sklearn-color-unfitted-level-0);\n",
       "}\n",
       "\n",
       "#sk-container-id-4 div.sk-toggleable__content.fitted pre {\n",
       "  /* unfitted */\n",
       "  background-color: var(--sklearn-color-fitted-level-0);\n",
       "}\n",
       "\n",
       "#sk-container-id-4 input.sk-toggleable__control:checked~div.sk-toggleable__content {\n",
       "  /* Expand drop-down */\n",
       "  max-height: 200px;\n",
       "  max-width: 100%;\n",
       "  overflow: auto;\n",
       "}\n",
       "\n",
       "#sk-container-id-4 input.sk-toggleable__control:checked~label.sk-toggleable__label-arrow:before {\n",
       "  content: \"▾\";\n",
       "}\n",
       "\n",
       "/* Pipeline/ColumnTransformer-specific style */\n",
       "\n",
       "#sk-container-id-4 div.sk-label input.sk-toggleable__control:checked~label.sk-toggleable__label {\n",
       "  color: var(--sklearn-color-text);\n",
       "  background-color: var(--sklearn-color-unfitted-level-2);\n",
       "}\n",
       "\n",
       "#sk-container-id-4 div.sk-label.fitted input.sk-toggleable__control:checked~label.sk-toggleable__label {\n",
       "  background-color: var(--sklearn-color-fitted-level-2);\n",
       "}\n",
       "\n",
       "/* Estimator-specific style */\n",
       "\n",
       "/* Colorize estimator box */\n",
       "#sk-container-id-4 div.sk-estimator input.sk-toggleable__control:checked~label.sk-toggleable__label {\n",
       "  /* unfitted */\n",
       "  background-color: var(--sklearn-color-unfitted-level-2);\n",
       "}\n",
       "\n",
       "#sk-container-id-4 div.sk-estimator.fitted input.sk-toggleable__control:checked~label.sk-toggleable__label {\n",
       "  /* fitted */\n",
       "  background-color: var(--sklearn-color-fitted-level-2);\n",
       "}\n",
       "\n",
       "#sk-container-id-4 div.sk-label label.sk-toggleable__label,\n",
       "#sk-container-id-4 div.sk-label label {\n",
       "  /* The background is the default theme color */\n",
       "  color: var(--sklearn-color-text-on-default-background);\n",
       "}\n",
       "\n",
       "/* On hover, darken the color of the background */\n",
       "#sk-container-id-4 div.sk-label:hover label.sk-toggleable__label {\n",
       "  color: var(--sklearn-color-text);\n",
       "  background-color: var(--sklearn-color-unfitted-level-2);\n",
       "}\n",
       "\n",
       "/* Label box, darken color on hover, fitted */\n",
       "#sk-container-id-4 div.sk-label.fitted:hover label.sk-toggleable__label.fitted {\n",
       "  color: var(--sklearn-color-text);\n",
       "  background-color: var(--sklearn-color-fitted-level-2);\n",
       "}\n",
       "\n",
       "/* Estimator label */\n",
       "\n",
       "#sk-container-id-4 div.sk-label label {\n",
       "  font-family: monospace;\n",
       "  font-weight: bold;\n",
       "  display: inline-block;\n",
       "  line-height: 1.2em;\n",
       "}\n",
       "\n",
       "#sk-container-id-4 div.sk-label-container {\n",
       "  text-align: center;\n",
       "}\n",
       "\n",
       "/* Estimator-specific */\n",
       "#sk-container-id-4 div.sk-estimator {\n",
       "  font-family: monospace;\n",
       "  border: 1px dotted var(--sklearn-color-border-box);\n",
       "  border-radius: 0.25em;\n",
       "  box-sizing: border-box;\n",
       "  margin-bottom: 0.5em;\n",
       "  /* unfitted */\n",
       "  background-color: var(--sklearn-color-unfitted-level-0);\n",
       "}\n",
       "\n",
       "#sk-container-id-4 div.sk-estimator.fitted {\n",
       "  /* fitted */\n",
       "  background-color: var(--sklearn-color-fitted-level-0);\n",
       "}\n",
       "\n",
       "/* on hover */\n",
       "#sk-container-id-4 div.sk-estimator:hover {\n",
       "  /* unfitted */\n",
       "  background-color: var(--sklearn-color-unfitted-level-2);\n",
       "}\n",
       "\n",
       "#sk-container-id-4 div.sk-estimator.fitted:hover {\n",
       "  /* fitted */\n",
       "  background-color: var(--sklearn-color-fitted-level-2);\n",
       "}\n",
       "\n",
       "/* Specification for estimator info (e.g. \"i\" and \"?\") */\n",
       "\n",
       "/* Common style for \"i\" and \"?\" */\n",
       "\n",
       ".sk-estimator-doc-link,\n",
       "a:link.sk-estimator-doc-link,\n",
       "a:visited.sk-estimator-doc-link {\n",
       "  float: right;\n",
       "  font-size: smaller;\n",
       "  line-height: 1em;\n",
       "  font-family: monospace;\n",
       "  background-color: var(--sklearn-color-background);\n",
       "  border-radius: 1em;\n",
       "  height: 1em;\n",
       "  width: 1em;\n",
       "  text-decoration: none !important;\n",
       "  margin-left: 1ex;\n",
       "  /* unfitted */\n",
       "  border: var(--sklearn-color-unfitted-level-1) 1pt solid;\n",
       "  color: var(--sklearn-color-unfitted-level-1);\n",
       "}\n",
       "\n",
       ".sk-estimator-doc-link.fitted,\n",
       "a:link.sk-estimator-doc-link.fitted,\n",
       "a:visited.sk-estimator-doc-link.fitted {\n",
       "  /* fitted */\n",
       "  border: var(--sklearn-color-fitted-level-1) 1pt solid;\n",
       "  color: var(--sklearn-color-fitted-level-1);\n",
       "}\n",
       "\n",
       "/* On hover */\n",
       "div.sk-estimator:hover .sk-estimator-doc-link:hover,\n",
       ".sk-estimator-doc-link:hover,\n",
       "div.sk-label-container:hover .sk-estimator-doc-link:hover,\n",
       ".sk-estimator-doc-link:hover {\n",
       "  /* unfitted */\n",
       "  background-color: var(--sklearn-color-unfitted-level-3);\n",
       "  color: var(--sklearn-color-background);\n",
       "  text-decoration: none;\n",
       "}\n",
       "\n",
       "div.sk-estimator.fitted:hover .sk-estimator-doc-link.fitted:hover,\n",
       ".sk-estimator-doc-link.fitted:hover,\n",
       "div.sk-label-container:hover .sk-estimator-doc-link.fitted:hover,\n",
       ".sk-estimator-doc-link.fitted:hover {\n",
       "  /* fitted */\n",
       "  background-color: var(--sklearn-color-fitted-level-3);\n",
       "  color: var(--sklearn-color-background);\n",
       "  text-decoration: none;\n",
       "}\n",
       "\n",
       "/* Span, style for the box shown on hovering the info icon */\n",
       ".sk-estimator-doc-link span {\n",
       "  display: none;\n",
       "  z-index: 9999;\n",
       "  position: relative;\n",
       "  font-weight: normal;\n",
       "  right: .2ex;\n",
       "  padding: .5ex;\n",
       "  margin: .5ex;\n",
       "  width: min-content;\n",
       "  min-width: 20ex;\n",
       "  max-width: 50ex;\n",
       "  color: var(--sklearn-color-text);\n",
       "  box-shadow: 2pt 2pt 4pt #999;\n",
       "  /* unfitted */\n",
       "  background: var(--sklearn-color-unfitted-level-0);\n",
       "  border: .5pt solid var(--sklearn-color-unfitted-level-3);\n",
       "}\n",
       "\n",
       ".sk-estimator-doc-link.fitted span {\n",
       "  /* fitted */\n",
       "  background: var(--sklearn-color-fitted-level-0);\n",
       "  border: var(--sklearn-color-fitted-level-3);\n",
       "}\n",
       "\n",
       ".sk-estimator-doc-link:hover span {\n",
       "  display: block;\n",
       "}\n",
       "\n",
       "/* \"?\"-specific style due to the `<a>` HTML tag */\n",
       "\n",
       "#sk-container-id-4 a.estimator_doc_link {\n",
       "  float: right;\n",
       "  font-size: 1rem;\n",
       "  line-height: 1em;\n",
       "  font-family: monospace;\n",
       "  background-color: var(--sklearn-color-background);\n",
       "  border-radius: 1rem;\n",
       "  height: 1rem;\n",
       "  width: 1rem;\n",
       "  text-decoration: none;\n",
       "  /* unfitted */\n",
       "  color: var(--sklearn-color-unfitted-level-1);\n",
       "  border: var(--sklearn-color-unfitted-level-1) 1pt solid;\n",
       "}\n",
       "\n",
       "#sk-container-id-4 a.estimator_doc_link.fitted {\n",
       "  /* fitted */\n",
       "  border: var(--sklearn-color-fitted-level-1) 1pt solid;\n",
       "  color: var(--sklearn-color-fitted-level-1);\n",
       "}\n",
       "\n",
       "/* On hover */\n",
       "#sk-container-id-4 a.estimator_doc_link:hover {\n",
       "  /* unfitted */\n",
       "  background-color: var(--sklearn-color-unfitted-level-3);\n",
       "  color: var(--sklearn-color-background);\n",
       "  text-decoration: none;\n",
       "}\n",
       "\n",
       "#sk-container-id-4 a.estimator_doc_link.fitted:hover {\n",
       "  /* fitted */\n",
       "  background-color: var(--sklearn-color-fitted-level-3);\n",
       "}\n",
       "</style><div id=\"sk-container-id-4\" class=\"sk-top-container\"><div class=\"sk-text-repr-fallback\"><pre>RandomForestClassifier(max_depth=5, random_state=0)</pre><b>In a Jupyter environment, please rerun this cell to show the HTML representation or trust the notebook. <br />On GitHub, the HTML representation is unable to render, please try loading this page with nbviewer.org.</b></div><div class=\"sk-container\" hidden><div class=\"sk-item\"><div class=\"sk-estimator fitted sk-toggleable\"><input class=\"sk-toggleable__control sk-hidden--visually\" id=\"sk-estimator-id-4\" type=\"checkbox\" checked><label for=\"sk-estimator-id-4\" class=\"sk-toggleable__label fitted sk-toggleable__label-arrow fitted\">&nbsp;&nbsp;RandomForestClassifier<a class=\"sk-estimator-doc-link fitted\" rel=\"noreferrer\" target=\"_blank\" href=\"https://scikit-learn.org/1.5/modules/generated/sklearn.ensemble.RandomForestClassifier.html\">?<span>Documentation for RandomForestClassifier</span></a><span class=\"sk-estimator-doc-link fitted\">i<span>Fitted</span></span></label><div class=\"sk-toggleable__content fitted\"><pre>RandomForestClassifier(max_depth=5, random_state=0)</pre></div> </div></div></div></div>"
      ],
      "text/plain": [
       "RandomForestClassifier(max_depth=5, random_state=0)"
      ]
     },
     "execution_count": 45,
     "metadata": {},
     "output_type": "execute_result"
    }
   ],
   "source": [
    "# Parameters\n",
    "model_params = {\n",
    "    'n_estimators': 100,  # Number of trees\n",
    "    'max_depth': 5,        # Maximum depth of trees\n",
    "    'random_state': 0      # Set random seed for reproducibility\n",
    "}\n",
    "\n",
    "# Train\n",
    "model4 = RandomForestClassifier(**model_params)\n",
    "model4.fit(train_features_tfidf, train_target)\n",
    "\n",
    "# Predictions\n",
    "#predictions = model.predict(test_features_tfidf)"
   ]
  },
  {
   "cell_type": "code",
   "execution_count": 46,
   "metadata": {},
   "outputs": [
    {
     "name": "stdout",
     "output_type": "stream",
     "text": [
      "Modelo 4 - SpaCy, TF-IDF y Random Forest:\n",
      "\n",
      "           Train    Test\n",
      "Accuracy  0.8275  0.8055\n",
      "F1        0.8323  0.8090\n",
      "ROC AUC   0.9057  0.8825\n"
     ]
    }
   ],
   "source": [
    "# Metrics\n",
    "print(\"Modelo 4 - SpaCy, TF-IDF y Random Forest:\")\n",
    "print()\n",
    "m4_stats = evaluate_model(model4, train_features_tfidf, train_target, test_features_tfidf, test_target)"
   ]
  },
  {
   "cell_type": "markdown",
   "metadata": {},
   "source": [
    "### Modelo 5 - SpaCy + TF-IDF + GS"
   ]
  },
  {
   "cell_type": "markdown",
   "metadata": {},
   "source": [
    "<div style=\"color: #196CC4;\">\n",
    "▶ A continuación utiliza la <b>Búsqueda Cruzada (Grid Search)</b> para automatizar la selección de los mejores hiperparámetros para un modelo <b>Random Forest</b> en la tarea de análisis de sentimiento. <br>\n",
    "▶ El proceso evalúa exhaustivamente distintas configuraciones del modelo y elige la que ofrece el mejor desempeño en un esquema de validación cruzada.<br>\n",
    "▶ Este ejemplo sigue utilizando <b>spaCy</b> para el preprocesamiento, así como la vectorización con <b>TF-IDF</b> y evaluación\n",
    "</div>"
   ]
  },
  {
   "cell_type": "code",
   "execution_count": 47,
   "metadata": {},
   "outputs": [],
   "source": [
    "# Define the parameter grid for Random Forest\n",
    "param_grid = {\n",
    "    'n_estimators': [50, 100, 200],  \n",
    "    'max_depth': [3, 5, 7],          \n",
    "    'random_state': [0]              \n",
    "}\n",
    "\n",
    "# Create GridSearchCV object\n",
    "grid_search = GridSearchCV(estimator=RandomForestClassifier(), param_grid=param_grid, cv=5)\n",
    "\n",
    "# Fit GridSearchCV\n",
    "grid_search.fit(train_features_tfidf, train_target)\n",
    "\n",
    "# Best model and parameters\n",
    "best_model = grid_search.best_estimator_\n",
    "best_params = grid_search.best_params_\n",
    "\n",
    "# Make predictions using the best model\n",
    "predictions = best_model.predict(test_features_tfidf)"
   ]
  },
  {
   "cell_type": "code",
   "execution_count": 48,
   "metadata": {},
   "outputs": [
    {
     "name": "stdout",
     "output_type": "stream",
     "text": [
      "Mejores parámetros: {'max_depth': 7, 'n_estimators': 200, 'random_state': 0}\n"
     ]
    }
   ],
   "source": [
    "# Best params\n",
    "print(\"Mejores parámetros:\", best_params)"
   ]
  },
  {
   "cell_type": "code",
   "execution_count": 49,
   "metadata": {},
   "outputs": [
    {
     "name": "stdout",
     "output_type": "stream",
     "text": [
      "Modelo 5 - spaCy, TF-IDF y Grid Search:\n",
      "\n",
      "           Train    Test\n",
      "Accuracy  0.8690  0.8378\n",
      "F1        0.8721  0.8399\n",
      "ROC AUC   0.9418  0.9153\n"
     ]
    }
   ],
   "source": [
    "# Metrics\n",
    "print(\"Modelo 5 - spaCy, TF-IDF y Grid Search:\")\n",
    "print()\n",
    "m5_stats = evaluate_model(best_model, train_features_tfidf, train_target, test_features_tfidf, test_target)"
   ]
  },
  {
   "cell_type": "markdown",
   "metadata": {},
   "source": [
    "-----"
   ]
  },
  {
   "cell_type": "markdown",
   "metadata": {},
   "source": [
    "## Evaluación de modelos"
   ]
  },
  {
   "cell_type": "markdown",
   "metadata": {},
   "source": [
    "### Resumen de resultados"
   ]
  },
  {
   "cell_type": "markdown",
   "metadata": {},
   "source": [
    "<div style=\"color: #196CC4;\">\n",
    "▶ A continuación se muestran las métricas de rendimiento de los cinco modelos diferentes de clasificación de texto para este proyecto de análisis de sentimiento, en el conjunto de entrenamiento (Train) y prueba (Test).\n",
    "\n",
    "</div>"
   ]
  },
  {
   "cell_type": "code",
   "execution_count": 50,
   "metadata": {},
   "outputs": [],
   "source": [
    "# Combine all models' stats\n",
    "all_stats = pd.concat([m1_stats, m2_stats, m3_stats, m4_stats, m5_stats], axis=1)\n",
    "all_stats.columns = pd.MultiIndex.from_product([['Modelo 1', 'Modelo 2', 'Modelo 3', 'Modelo 4', 'Modelo 5'], ['Train', 'Test']])"
   ]
  },
  {
   "cell_type": "code",
   "execution_count": 51,
   "metadata": {},
   "outputs": [
    {
     "name": "stdout",
     "output_type": "stream",
     "text": [
      "\n",
      "*******\n",
      "\n",
      "Modelo 1: NLTK + TF-IDF + LR\n",
      "Modelo 2: SpaCy + TF-IDF + LR\n",
      "Modelo 3: SpaCy + TF-IDF + LGBM\n",
      "Modelo 4: SpaCy + TF-IDF + Random Forest\n",
      "Modelo 5: SpaCy + TF-IDF + Grid Search\n",
      "\n",
      "*******\n",
      "\n"
     ]
    },
    {
     "data": {
      "text/html": [
       "<div>\n",
       "<style scoped>\n",
       "    .dataframe tbody tr th:only-of-type {\n",
       "        vertical-align: middle;\n",
       "    }\n",
       "\n",
       "    .dataframe tbody tr th {\n",
       "        vertical-align: top;\n",
       "    }\n",
       "\n",
       "    .dataframe thead tr th {\n",
       "        text-align: left;\n",
       "    }\n",
       "</style>\n",
       "<table border=\"1\" class=\"dataframe\">\n",
       "  <thead>\n",
       "    <tr>\n",
       "      <th></th>\n",
       "      <th colspan=\"2\" halign=\"left\">Modelo 1</th>\n",
       "      <th colspan=\"2\" halign=\"left\">Modelo 2</th>\n",
       "      <th colspan=\"2\" halign=\"left\">Modelo 3</th>\n",
       "      <th colspan=\"2\" halign=\"left\">Modelo 4</th>\n",
       "      <th colspan=\"2\" halign=\"left\">Modelo 5</th>\n",
       "    </tr>\n",
       "    <tr>\n",
       "      <th></th>\n",
       "      <th>Train</th>\n",
       "      <th>Test</th>\n",
       "      <th>Train</th>\n",
       "      <th>Test</th>\n",
       "      <th>Train</th>\n",
       "      <th>Test</th>\n",
       "      <th>Train</th>\n",
       "      <th>Test</th>\n",
       "      <th>Train</th>\n",
       "      <th>Test</th>\n",
       "    </tr>\n",
       "  </thead>\n",
       "  <tbody>\n",
       "    <tr>\n",
       "      <th>Accuracy</th>\n",
       "      <td>0.9394</td>\n",
       "      <td>0.8853</td>\n",
       "      <td>0.9394</td>\n",
       "      <td>0.8790</td>\n",
       "      <td>0.9098</td>\n",
       "      <td>0.8624</td>\n",
       "      <td>0.8275</td>\n",
       "      <td>0.8055</td>\n",
       "      <td>0.8690</td>\n",
       "      <td>0.8378</td>\n",
       "    </tr>\n",
       "    <tr>\n",
       "      <th>F1</th>\n",
       "      <td>0.9398</td>\n",
       "      <td>0.8849</td>\n",
       "      <td>0.9398</td>\n",
       "      <td>0.8785</td>\n",
       "      <td>0.9109</td>\n",
       "      <td>0.8636</td>\n",
       "      <td>0.8323</td>\n",
       "      <td>0.8090</td>\n",
       "      <td>0.8721</td>\n",
       "      <td>0.8399</td>\n",
       "    </tr>\n",
       "    <tr>\n",
       "      <th>ROC AUC</th>\n",
       "      <td>0.9841</td>\n",
       "      <td>0.9530</td>\n",
       "      <td>0.9832</td>\n",
       "      <td>0.9501</td>\n",
       "      <td>0.9099</td>\n",
       "      <td>0.8625</td>\n",
       "      <td>0.9057</td>\n",
       "      <td>0.8825</td>\n",
       "      <td>0.9418</td>\n",
       "      <td>0.9153</td>\n",
       "    </tr>\n",
       "  </tbody>\n",
       "</table>\n",
       "</div>"
      ],
      "text/plain": [
       "         Modelo 1         Modelo 2         Modelo 3         Modelo 4          \\\n",
       "            Train    Test    Train    Test    Train    Test    Train    Test   \n",
       "Accuracy   0.9394  0.8853   0.9394  0.8790   0.9098  0.8624   0.8275  0.8055   \n",
       "F1         0.9398  0.8849   0.9398  0.8785   0.9109  0.8636   0.8323  0.8090   \n",
       "ROC AUC    0.9841  0.9530   0.9832  0.9501   0.9099  0.8625   0.9057  0.8825   \n",
       "\n",
       "         Modelo 5          \n",
       "            Train    Test  \n",
       "Accuracy   0.8690  0.8378  \n",
       "F1         0.8721  0.8399  \n",
       "ROC AUC    0.9418  0.9153  "
      ]
     },
     "execution_count": 51,
     "metadata": {},
     "output_type": "execute_result"
    }
   ],
   "source": [
    "# Models\n",
    "print(\"\\n*******\\n\")\n",
    "print(\"Modelo 1: NLTK + TF-IDF + LR\")\n",
    "print(\"Modelo 2: SpaCy + TF-IDF + LR\")\n",
    "print(\"Modelo 3: SpaCy + TF-IDF + LGBM\")\n",
    "print(\"Modelo 4: SpaCy + TF-IDF + Random Forest\")\n",
    "print(\"Modelo 5: SpaCy + TF-IDF + Grid Search\")\n",
    "print(\"\\n*******\\n\")\n",
    "\n",
    "# Print DataFrame\n",
    "all_stats"
   ]
  },
  {
   "cell_type": "markdown",
   "metadata": {},
   "source": [
    "<div style=\"color: #196CC4;\">\n",
    "▶ A continuación se muestra la preparación de datos para su posterior visualización en el análisis de métricas\n",
    "\n",
    "</div>"
   ]
  },
  {
   "cell_type": "code",
   "execution_count": 52,
   "metadata": {},
   "outputs": [],
   "source": [
    "# Data (Accuracy, F1 Score, ROC AUC)\n",
    "models = ['Modelo 1', 'Modelo 2', 'Modelo 3', 'Modelo 4', 'Modelo 5']\n",
    "accuracy_train = [all_stats.loc['Accuracy', ('Modelo 1', 'Train')], all_stats.loc['Accuracy', ('Modelo 2', 'Train')], all_stats.loc['Accuracy', ('Modelo 3', 'Train')], all_stats.loc['Accuracy', ('Modelo 4', 'Train')], all_stats.loc['Accuracy', ('Modelo 5', 'Train')] ]\n",
    "accuracy_test = [all_stats.loc['Accuracy', ('Modelo 1', 'Test')], all_stats.loc['Accuracy', ('Modelo 2', 'Test')], all_stats.loc['Accuracy', ('Modelo 3', 'Test')], all_stats.loc['Accuracy', ('Modelo 4', 'Test')], all_stats.loc['Accuracy', ('Modelo 5', 'Test')] ]\n",
    "f1_train = [all_stats.loc['F1', ('Modelo 1', 'Train')], all_stats.loc['F1', ('Modelo 2', 'Train')], all_stats.loc['F1', ('Modelo 3', 'Train')], all_stats.loc['F1', ('Modelo 4', 'Train')], all_stats.loc['F1', ('Modelo 5', 'Train')] ]\n",
    "f1_test = [all_stats.loc['F1', ('Modelo 1', 'Test')], all_stats.loc['F1', ('Modelo 2', 'Test')], all_stats.loc['F1', ('Modelo 3', 'Test')], all_stats.loc['F1', ('Modelo 4', 'Test')], all_stats.loc['F1', ('Modelo 5', 'Test')] ]\n",
    "roc_auc_train = [all_stats.loc['ROC AUC', ('Modelo 1', 'Train')], all_stats.loc['ROC AUC', ('Modelo 2', 'Train')], all_stats.loc['ROC AUC', ('Modelo 3', 'Train')], all_stats.loc['ROC AUC', ('Modelo 4', 'Train')], all_stats.loc['ROC AUC', ('Modelo 5', 'Train')] ]\n",
    "roc_auc_test = [all_stats.loc['ROC AUC', ('Modelo 1', 'Test')], all_stats.loc['ROC AUC', ('Modelo 2', 'Test')], all_stats.loc['ROC AUC', ('Modelo 3', 'Test')], all_stats.loc['ROC AUC', ('Modelo 4', 'Test')], all_stats.loc['ROC AUC', ('Modelo 5', 'Test')] ]"
   ]
  },
  {
   "cell_type": "markdown",
   "metadata": {},
   "source": [
    "### Análisis de Accuracy"
   ]
  },
  {
   "cell_type": "markdown",
   "metadata": {},
   "source": [
    "<div style=\"color: #196CC4;\">\n",
    "<b>Definición de Accuracy:</b> <br>\n",
    "Representa la proporción de predicciones correctas realizadas por el modelo. La precisión ideal es 1.0, una alta precisión indica que el modelo es capaz de identificar correctamente la mayoría de las instancias.  <br>\n",
    "</div>"
   ]
  },
  {
   "cell_type": "code",
   "execution_count": 53,
   "metadata": {},
   "outputs": [
    {
     "name": "stdout",
     "output_type": "stream",
     "text": [
      "\n",
      "*******\n",
      "\n",
      "Modelo 1: NLTK + TF-IDF + LR\n",
      "Modelo 2: SpaCy + TF-IDF + LR\n",
      "Modelo 3: SpaCy + TF-IDF + LGBM\n",
      "Modelo 4: SpaCy + TF-IDF + Random Forest\n",
      "Modelo 5: SpaCy + TF-IDF + Grid Search\n",
      "\n",
      "*******\n",
      "\n"
     ]
    },
    {
     "data": {
      "image/png": "[encoded data removed]",
      "text/plain": [
       "<Figure size 1000x400 with 1 Axes>"
      ]
     },
     "metadata": {},
     "output_type": "display_data"
    }
   ],
   "source": [
    "# Models\n",
    "print(\"\\n*******\\n\")\n",
    "print(\"Modelo 1: NLTK + TF-IDF + LR\")\n",
    "print(\"Modelo 2: SpaCy + TF-IDF + LR\")\n",
    "print(\"Modelo 3: SpaCy + TF-IDF + LGBM\")\n",
    "print(\"Modelo 4: SpaCy + TF-IDF + Random Forest\")\n",
    "print(\"Modelo 5: SpaCy + TF-IDF + Grid Search\")\n",
    "print(\"\\n*******\\n\")\n",
    "\n",
    "# Plot size\n",
    "plt.figure(figsize=(10, 4))\n",
    "\n",
    "# Index\n",
    "ind = np.arange(len(models))\n",
    "width = 0.35\n",
    "\n",
    "# Bars definition\n",
    "bars_train = plt.bar(ind - width/2, accuracy_train, width, label='Train')\n",
    "bars_test = plt.bar(ind + width/2, accuracy_test, width, label='Test')\n",
    "\n",
    "# F1 values\n",
    "for bar, acc_train in zip(bars_train, accuracy_train):\n",
    "    plt.text(bar.get_x() + bar.get_width()/2, bar.get_height() + 0.01, f'{acc_train:.4f}', ha='center', va='baseline')\n",
    "\n",
    "for bar, acc_test in zip(bars_test, accuracy_test):\n",
    "    plt.text(bar.get_x() + bar.get_width()/2, bar.get_height() + 0.01, f'{acc_test:.4f}', ha='center', va='baseline')\n",
    "\n",
    "# Labels\n",
    "plt.ylabel('Accuracy')\n",
    "plt.title('Comparación de Accuracy entre modelos')\n",
    "plt.xticks(ind, models)\n",
    "plt.legend(loc='lower right', fontsize='large', frameon=True, fancybox=True, shadow=True)\n",
    "\n",
    "# Print\n",
    "plt.tight_layout()\n",
    "plt.show()"
   ]
  },
  {
   "cell_type": "markdown",
   "metadata": {},
   "source": [
    "<div style=\"color: #196CC4;\">\n",
    "<b>Resultados:</b><br>    \n",
    "▶ Modelo 1 y 2 (LR) alcanzan la mayor precisión general en el entrenamiento (alrededor del 94%).<br>\n",
    "▶ Siguen el Modelo 3 (LGBM) y el Modelo 5 (Grid Search) con una precisión ligeramente inferior.<br>\n",
    "▶ El Modelo 4 (Random Forest) muestra la precisión más baja en ambas etapas (entrenamiento y prueba).<br>\n",
    "\n",
    "<b>El Modelo 1 tiene el mejor desempeño en términos de Accuracy en el conjunto de pruebas, con un valor de 0.8850. Esto indica que, en promedio, el Modelo 1 clasifica correctamente el 88.50% de las instancias en el conjunto de pruebas. </b>\n",
    "</div>"
   ]
  },
  {
   "cell_type": "markdown",
   "metadata": {},
   "source": [
    "### Análisis de F1-score"
   ]
  },
  {
   "cell_type": "markdown",
   "metadata": {},
   "source": [
    "<div style=\"color: #196CC4;\">\n",
    "<b>Definición de F1-score:</b> <br>\n",
    "Es una medida que busca encontrar un balance entre la precisión y la revocación (Recall), esta última definida como la proporción de instancias positivas correctamente identificadas por el modelo. El F1-score ideal es 1.0, lo que indica que el modelo tiene un buen equilibrio entre precisión y revocación, indica que el modelo es capaz de identificar correctamente tanto las instancias positivas como las negativas.<br>\n",
    "</div>"
   ]
  },
  {
   "cell_type": "code",
   "execution_count": 54,
   "metadata": {},
   "outputs": [
    {
     "name": "stdout",
     "output_type": "stream",
     "text": [
      "\n",
      "*******\n",
      "\n",
      "Modelo 1: NLTK + TF-IDF + LR\n",
      "Modelo 2: SpaCy + TF-IDF + LR\n",
      "Modelo 3: SpaCy + TF-IDF + LGBM\n",
      "Modelo 4: SpaCy + TF-IDF + Random Forest\n",
      "Modelo 5: SpaCy + TF-IDF + Grid Search\n",
      "\n",
      "*******\n",
      "\n"
     ]
    },
    {
     "data": {
      "image/png": "[encoded data removed]",
      "text/plain": [
       "<Figure size 1000x400 with 1 Axes>"
      ]
     },
     "metadata": {},
     "output_type": "display_data"
    }
   ],
   "source": [
    "# Models\n",
    "print(\"\\n*******\\n\")\n",
    "print(\"Modelo 1: NLTK + TF-IDF + LR\")\n",
    "print(\"Modelo 2: SpaCy + TF-IDF + LR\")\n",
    "print(\"Modelo 3: SpaCy + TF-IDF + LGBM\")\n",
    "print(\"Modelo 4: SpaCy + TF-IDF + Random Forest\")\n",
    "print(\"Modelo 5: SpaCy + TF-IDF + Grid Search\")\n",
    "print(\"\\n*******\\n\")\n",
    "\n",
    "# Plot size\n",
    "plt.figure(figsize=(10, 4))\n",
    "\n",
    "# Index\n",
    "ind = np.arange(len(models))\n",
    "width = 0.35\n",
    "\n",
    "# Bars definition\n",
    "bars_train = plt.bar(ind - width/2, f1_train, width, label='Train')\n",
    "bars_test = plt.bar(ind + width/2, f1_test, width, label='Test')\n",
    "\n",
    "# F1 values\n",
    "for bar, f1 in zip(bars_train, f1_train):\n",
    "    plt.text(bar.get_x() + bar.get_width()/2, bar.get_height() + 0.01, f'{f1:.4f}', ha='center', va='baseline')\n",
    "\n",
    "for bar, f1 in zip(bars_test, f1_test):\n",
    "    plt.text(bar.get_x() + bar.get_width()/2, bar.get_height() + 0.01, f'{f1:.4f}', ha='center', va='baseline')\n",
    "\n",
    "# Labels\n",
    "plt.ylabel('F1-score')\n",
    "plt.title('Comparación de F1-score entre modelos')\n",
    "plt.xticks(ind, models)\n",
    "plt.legend(loc='lower right', fontsize='large', frameon=True, fancybox=True, shadow=True)\n",
    "\n",
    "# Print\n",
    "plt.tight_layout()\n",
    "plt.show()"
   ]
  },
  {
   "cell_type": "markdown",
   "metadata": {},
   "source": [
    "<div style=\"color: #196CC4;\">\n",
    "<b>Resultados:</b><br>     \n",
    "▶ Similar a la precisión general, los modelos 1 y 2 (LR) obtienen los puntajes F1 más altos en el entrenamiento.<br>\n",
    "▶ El Modelo 3 (LGBM) y el Modelo 5 (Grid Search) siguen de cerca.<br>\n",
    "▶ El Modelo 4 (Random Forest) nuevamente tiene los puntajes F1 más bajos.<br>\n",
    "\n",
    "<b>El Modelo 1 también lidera en términos de F1 Score en el conjunto de pruebas, con un valor de 0.8847. Esto sugiere que el Modelo 1 tiene un buen equilibrio entre precisión y recall, lo cual es crucial en problemas de clasificación donde se busca maximizar ambas métricas.\n",
    "</b>\n",
    "</div>"
   ]
  },
  {
   "cell_type": "markdown",
   "metadata": {},
   "source": [
    "### Análisis de ROC AUC"
   ]
  },
  {
   "cell_type": "markdown",
   "metadata": {},
   "source": [
    "<div style=\"color: #196CC4;\">\n",
    "<b>Definición de ROC AUC:</b> <br>\n",
    "Es una medida que evalúa cuán bien puede distinguir un modelo entre dos clases diferentes. Cuanto mayor sea el valor del ROC AUC, mejor será el modelo para discriminar entre las clases, indica que el modelo tiene una buena capacidad para discriminar entre las clases positivas y negativas. Es una métrica útil cuando se busca un modelo que pueda separar las clases con alta confianza.<br>\n",
    "</div>\n"
   ]
  },
  {
   "cell_type": "code",
   "execution_count": 55,
   "metadata": {},
   "outputs": [
    {
     "name": "stdout",
     "output_type": "stream",
     "text": [
      "\n",
      "*******\n",
      "\n",
      "Modelo 1: NLTK + TF-IDF + LR\n",
      "Modelo 2: SpaCy + TF-IDF + LR\n",
      "Modelo 3: SpaCy + TF-IDF + LGBM\n",
      "Modelo 4: SpaCy + TF-IDF + Random Forest\n",
      "Modelo 5: SpaCy + TF-IDF + Grid Search\n",
      "\n",
      "*******\n",
      "\n"
     ]
    },
    {
     "data": {
      "image/png": "[encoded data removed]",
      "text/plain": [
       "<Figure size 1000x400 with 1 Axes>"
      ]
     },
     "metadata": {},
     "output_type": "display_data"
    }
   ],
   "source": [
    "# Models\n",
    "print(\"\\n*******\\n\")\n",
    "print(\"Modelo 1: NLTK + TF-IDF + LR\")\n",
    "print(\"Modelo 2: SpaCy + TF-IDF + LR\")\n",
    "print(\"Modelo 3: SpaCy + TF-IDF + LGBM\")\n",
    "print(\"Modelo 4: SpaCy + TF-IDF + Random Forest\")\n",
    "print(\"Modelo 5: SpaCy + TF-IDF + Grid Search\")\n",
    "print(\"\\n*******\\n\")\n",
    "\n",
    "# Plot size\n",
    "plt.figure(figsize=(10, 4))\n",
    "\n",
    "# Index\n",
    "ind = np.arange(len(models))\n",
    "width = 0.35\n",
    "\n",
    "# Bars definition\n",
    "bars_train = plt.bar(ind - width/2, roc_auc_train, width, label='Train')\n",
    "bars_test = plt.bar(ind + width/2, roc_auc_test, width, label='Test')\n",
    "\n",
    "# F1 values\n",
    "for bar, rocauc_train in zip(bars_train, roc_auc_train):\n",
    "    plt.text(bar.get_x() + bar.get_width()/2, bar.get_height() + 0.01, f'{rocauc_train:.4f}', ha='center', va='baseline')\n",
    "\n",
    "for bar, rocauc_test in zip(bars_test, roc_auc_test):\n",
    "    plt.text(bar.get_x() + bar.get_width()/2, bar.get_height() + 0.01, f'{rocauc_test:.4f}', ha='center', va='baseline')\n",
    "\n",
    "# Labels\n",
    "plt.ylabel('ROC AUC')\n",
    "plt.title('Comparación de ROC AUC entre modelos')\n",
    "plt.xticks(ind, models)\n",
    "plt.legend(loc='lower right', fontsize='large', frameon=True, fancybox=True, shadow=True)\n",
    "\n",
    "# Print\n",
    "plt.tight_layout()\n",
    "plt.show()"
   ]
  },
  {
   "cell_type": "markdown",
   "metadata": {},
   "source": [
    "<div style=\"color: #196CC4;\">\n",
    "<b>Resultados:</b>   <br>  \n",
    "▶ El Modelo 1 (LR) tiene el mayor ROC AUC en el entrenamiento, seguido de cerca por los modelos 2 (LR) y 5 (Grid Search).<br>\n",
    "▶ El Modelo 3 (LGBM) muestra el ROC AUC más bajo en el entrenamiento.<br>\n",
    "    \n",
    "<b>En términos de ROC AUC, el Modelo 1 (NLTK + LR) y el Modelo 2 (SpaCy + LR) son los mejores, con valores muy cercanos de 0.9529 y 0.9502 respectivamente. Estos modelos tienen una excelente capacidad para distinguir entre las clases positiva y negativa,</b>    \n",
    "</div>\n"
   ]
  },
  {
   "cell_type": "markdown",
   "metadata": {},
   "source": [
    "-----"
   ]
  },
  {
   "cell_type": "markdown",
   "metadata": {},
   "source": [
    "## Análisis de sentimiento con mis reseñas"
   ]
  },
  {
   "cell_type": "markdown",
   "metadata": {},
   "source": [
    "<div style=\"color: #196CC4;\">\n",
    "▶ En esta sección, exploraremos el análisis de sentimientos aplicado a reseñas de películas en inglés. Utilizaremos un conjunto de reseñas para evaluar y comparar el desempeño de los modelos de aprendizaje automático previamente entrenados.\n",
    "\n",
    "▶ Las reseñas seleccionadas abarcan una variedad de opiniones y emociones, desde el entusiasmo y la fascinación hasta la decepción y la crítica. Este análisis nos permitirá no solo medir la efectividad de nuestros modelos en la clasificación de sentimientos, sino también entender cómo cada modelo interpreta y procesa el lenguaje natural.   \n",
    "</div>"
   ]
  },
  {
   "cell_type": "code",
   "execution_count": 56,
   "metadata": {},
   "outputs": [],
   "source": [
    "# Reviews in english\n",
    "my_reviews = pd.DataFrame([\n",
    "    'I did not simply like it, not my kind of movie.',\n",
    "    'Well, I was bored and felt asleep in the middle of the movie.',\n",
    "    'I was really fascinated with the movie',    \n",
    "    'Even the actors looked really old and disinterested, and they got paid to be in the movie. What a soulless cash grab.',\n",
    "    'I didn\\'t expect the reboot to be so good! Writers really cared about the source material',\n",
    "    'The movie had its upsides and downsides, but I feel like overall it\\'s a decent flick. I could see myself going to see it again.',\n",
    "    'What a rotten attempt at a comedy. Not a single joke lands, everyone acts annoying and loud, even kids won\\'t like this!',\n",
    "    'Launching on Netflix was a brave move & I really appreciate being able to binge on episode after episode, of this exciting intelligent new drama.'\n",
    "], columns=['review'])\n",
    "\n",
    "# Reviews in spanish\n",
    "#my_reviews = pd.DataFrame([\n",
    "#    'Simplemente no me gustó, no es mi tipo de película.',\n",
    "#    'Bueno, estaba aburrido y me quedé dormido a media película.',\n",
    "#    'Estaba realmente fascinada con la película',    \n",
    "#    'Hasta los actores parecían muy viejos y desinteresados, y les pagaron por estar en la película. Qué robo tan desalmado.',\n",
    "#    '¡No esperaba que el relanzamiento fuera tan bueno! Los escritores realmente se preocuparon por el material original',\n",
    "#    'La película tuvo sus altibajos, pero siento que, en general, es una película decente. Sí la volvería a ver',\n",
    "#    'Qué pésimo intento de comedia. Ni una sola broma tiene sentido, todos actúan de forma irritante y ruidosa, ¡ni siquiera a los niños les gustará esto!',\n",
    "#    'Fue muy valiente el lanzamiento en Netflix y realmente aprecio poder seguir viendo episodio tras episodio de este nuevo drama tan emocionante e inteligente.'\n",
    "#], columns=['review'])"
   ]
  },
  {
   "cell_type": "markdown",
   "metadata": {},
   "source": [
    "### Normalización"
   ]
  },
  {
   "cell_type": "markdown",
   "metadata": {},
   "source": [
    "<div style=\"color: #196CC4;\">\n",
    "▶ A continuación se toman las reseñas originales en la columna 'review' y se aplica el preprocesamiento de texto a cada una utilizando la función preprocess_text.\n",
    "    </div>"
   ]
  },
  {
   "cell_type": "code",
   "execution_count": 57,
   "metadata": {},
   "outputs": [
    {
     "data": {
      "text/html": [
       "<div>\n",
       "<style scoped>\n",
       "    .dataframe tbody tr th:only-of-type {\n",
       "        vertical-align: middle;\n",
       "    }\n",
       "\n",
       "    .dataframe tbody tr th {\n",
       "        vertical-align: top;\n",
       "    }\n",
       "\n",
       "    .dataframe thead th {\n",
       "        text-align: right;\n",
       "    }\n",
       "</style>\n",
       "<table border=\"1\" class=\"dataframe\">\n",
       "  <thead>\n",
       "    <tr style=\"text-align: right;\">\n",
       "      <th></th>\n",
       "      <th>review</th>\n",
       "      <th>review_norm</th>\n",
       "    </tr>\n",
       "  </thead>\n",
       "  <tbody>\n",
       "    <tr>\n",
       "      <th>0</th>\n",
       "      <td>I did not simply like it, not my kind of movie.</td>\n",
       "      <td>i did not simply like it not my kind of movie</td>\n",
       "    </tr>\n",
       "    <tr>\n",
       "      <th>1</th>\n",
       "      <td>Well, I was bored and felt asleep in the middl...</td>\n",
       "      <td>well i was bored and felt asleep in the middle...</td>\n",
       "    </tr>\n",
       "    <tr>\n",
       "      <th>2</th>\n",
       "      <td>I was really fascinated with the movie</td>\n",
       "      <td>i was really fascinated with the movie</td>\n",
       "    </tr>\n",
       "    <tr>\n",
       "      <th>3</th>\n",
       "      <td>Even the actors looked really old and disinter...</td>\n",
       "      <td>even the actors looked really old and disinter...</td>\n",
       "    </tr>\n",
       "    <tr>\n",
       "      <th>4</th>\n",
       "      <td>I didn't expect the reboot to be so good! Writ...</td>\n",
       "      <td>i didnt expect the reboot to be so good writer...</td>\n",
       "    </tr>\n",
       "    <tr>\n",
       "      <th>5</th>\n",
       "      <td>The movie had its upsides and downsides, but I...</td>\n",
       "      <td>the movie had its upsides and downsides but i ...</td>\n",
       "    </tr>\n",
       "    <tr>\n",
       "      <th>6</th>\n",
       "      <td>What a rotten attempt at a comedy. Not a singl...</td>\n",
       "      <td>what a rotten attempt at a comedy not a single...</td>\n",
       "    </tr>\n",
       "    <tr>\n",
       "      <th>7</th>\n",
       "      <td>Launching on Netflix was a brave move &amp; I real...</td>\n",
       "      <td>launching on netflix was a brave move i really...</td>\n",
       "    </tr>\n",
       "  </tbody>\n",
       "</table>\n",
       "</div>"
      ],
      "text/plain": [
       "                                              review  \\\n",
       "0    I did not simply like it, not my kind of movie.   \n",
       "1  Well, I was bored and felt asleep in the middl...   \n",
       "2             I was really fascinated with the movie   \n",
       "3  Even the actors looked really old and disinter...   \n",
       "4  I didn't expect the reboot to be so good! Writ...   \n",
       "5  The movie had its upsides and downsides, but I...   \n",
       "6  What a rotten attempt at a comedy. Not a singl...   \n",
       "7  Launching on Netflix was a brave move & I real...   \n",
       "\n",
       "                                         review_norm  \n",
       "0      i did not simply like it not my kind of movie  \n",
       "1  well i was bored and felt asleep in the middle...  \n",
       "2             i was really fascinated with the movie  \n",
       "3  even the actors looked really old and disinter...  \n",
       "4  i didnt expect the reboot to be so good writer...  \n",
       "5  the movie had its upsides and downsides but i ...  \n",
       "6  what a rotten attempt at a comedy not a single...  \n",
       "7  launching on netflix was a brave move i really...  "
      ]
     },
     "execution_count": 57,
     "metadata": {},
     "output_type": "execute_result"
    }
   ],
   "source": [
    "# Apply preprocessing to reviews\n",
    "my_reviews['review_norm'] = my_reviews['review'].apply(preprocess_text)\n",
    "\n",
    "# Print\n",
    "my_reviews"
   ]
  },
  {
   "cell_type": "markdown",
   "metadata": {},
   "source": [
    "### Modelo 1"
   ]
  },
  {
   "cell_type": "markdown",
   "metadata": {},
   "source": [
    "<div style=\"color: #196CC4;\">\n",
    "<b>Modelo 1: NLTK + TF-IDF + LR</b><br>    \n",
    "▶ El Modelo 1 utiliza NLTK para el preprocesamiento de texto, TF-IDF para la representación vectorial y un clasificador de Regresión Logística (LR) para la predicción de sentimientos. </div>"
   ]
  },
  {
   "cell_type": "code",
   "execution_count": 58,
   "metadata": {},
   "outputs": [
    {
     "name": "stdout",
     "output_type": "stream",
     "text": [
      "\n",
      "*******\n",
      "\n",
      "Predicciones de Sentimiento para Modelo 1: NLTK + TF-IDF + LR\n",
      "\n",
      "*******\n",
      "\n",
      "0.16:  i did not simply like it not my kind of movie\n",
      "0.17:  well i was bored and felt asleep in the middle of the movie\n",
      "0.56:  i was really fascinated with the movie\n",
      "0.13:  even the actors looked really old and disinterested and they got paid to be in the movie what a soul\n",
      "0.25:  i didnt expect the reboot to be so good writers really cared about the source material\n",
      "0.47:  the movie had its upsides and downsides but i feel like overall its a decent flick i could see mysel\n",
      "0.05:  what a rotten attempt at a comedy not a single joke lands everyone acts annoying and loud even kids \n",
      "0.84:  launching on netflix was a brave move i really appreciate being able to binge on episode after episo\n"
     ]
    }
   ],
   "source": [
    "# Select normalized text\n",
    "texts = my_reviews['review_norm']\n",
    "\n",
    "# Predict\n",
    "pred_prob_model1 = model1.predict_proba(vectorizer1.transform(texts))[:, 1]\n",
    "\n",
    "# Title\n",
    "print(\"\\n*******\\n\")\n",
    "print(\"Predicciones de Sentimiento para Modelo 1: NLTK + TF-IDF + LR\")\n",
    "print(\"\\n*******\\n\")\n",
    "\n",
    "# Loop through each review\n",
    "for i, review in enumerate(texts.str.slice(0, 100)):\n",
    "    \n",
    "    # Predicted probability (2 decimals)\n",
    "    print(f'{pred_prob_model1[i]:.2f}:  {review}')"
   ]
  },
  {
   "cell_type": "markdown",
   "metadata": {},
   "source": [
    "### Modelo 2"
   ]
  },
  {
   "cell_type": "markdown",
   "metadata": {},
   "source": [
    "<div style=\"color: #196CC4;\">\n",
    "<b>Modelo 2: SpaCy + TF-IDF + LR</b><br>    \n",
    "▶ El Modelo 2 emplea SpaCy para el procesamiento de texto, TF-IDF para la vectorización de términos y un clasificador de regresión logística para la clasificación de sentimientos en reseñas de películas.  </div>"
   ]
  },
  {
   "cell_type": "code",
   "execution_count": 59,
   "metadata": {},
   "outputs": [
    {
     "name": "stdout",
     "output_type": "stream",
     "text": [
      "\n",
      "*******\n",
      "\n",
      "Predicciones de Sentimiento para Modelo 2: SpaCy + TF-IDF + LR\n",
      "\n",
      "*******\n",
      "\n",
      "0.13:  i did not simply like it not my kind of movie\n",
      "0.06:  well i was bored and felt asleep in the middle of the movie\n",
      "0.57:  i was really fascinated with the movie\n",
      "0.17:  even the actors looked really old and disinterested and they got paid to be in the movie what a soul\n",
      "0.28:  i didnt expect the reboot to be so good writers really cared about the source material\n",
      "0.38:  the movie had its upsides and downsides but i feel like overall its a decent flick i could see mysel\n",
      "0.03:  what a rotten attempt at a comedy not a single joke lands everyone acts annoying and loud even kids \n",
      "0.87:  launching on netflix was a brave move i really appreciate being able to binge on episode after episo\n"
     ]
    }
   ],
   "source": [
    "# Select normalized text\n",
    "texts = my_reviews['review_norm']\n",
    "\n",
    "# Predict\n",
    "pred_prob_model2 = model2.predict_proba(vectorizer2.transform(texts.apply(preprocess_text)))[:, 1]\n",
    "\n",
    "# Title\n",
    "print(\"\\n*******\\n\")\n",
    "print(\"Predicciones de Sentimiento para Modelo 2: SpaCy + TF-IDF + LR\")\n",
    "print(\"\\n*******\\n\")\n",
    "\n",
    "# Loop through each review\n",
    "for i, review in enumerate(texts.str.slice(0, 100)):\n",
    "    \n",
    "    # Predicted probability (2 decimals)\n",
    "    print(f'{pred_prob_model2[i]:.2f}:  {review}')\n"
   ]
  },
  {
   "cell_type": "markdown",
   "metadata": {},
   "source": [
    "### Modelo 3"
   ]
  },
  {
   "cell_type": "markdown",
   "metadata": {},
   "source": [
    "<div style=\"color: #196CC4;\">\n",
    "<b>Modelo 3: SpaCy + TF-IDF + LGBM</b><br>    \n",
    "▶ El Modelo 3 utiliza SpaCy para el procesamiento de texto, TF-IDF para la representación vectorial y el algoritmo LightGBM (Gradient Boosting Machine) para la clasificación de sentimientos en reseñas de películas. </div>"
   ]
  },
  {
   "cell_type": "code",
   "execution_count": 60,
   "metadata": {},
   "outputs": [
    {
     "name": "stdout",
     "output_type": "stream",
     "text": [
      "\n",
      "*******\n",
      "\n",
      "Predicciones de Sentimiento para Modelo 3: SpaCy + TF-IDF + LGBM\n",
      "\n",
      "*******\n",
      "\n",
      "1.00:  i did not simply like it not my kind of movie\n",
      "0.00:  well i was bored and felt asleep in the middle of the movie\n",
      "1.00:  i was really fascinated with the movie\n",
      "0.00:  even the actors looked really old and disinterested and they got paid to be in the movie what a soul\n",
      "1.00:  i didnt expect the reboot to be so good writers really cared about the source material\n",
      "1.00:  the movie had its upsides and downsides but i feel like overall its a decent flick i could see mysel\n",
      "0.00:  what a rotten attempt at a comedy not a single joke lands everyone acts annoying and loud even kids \n",
      "1.00:  launching on netflix was a brave move i really appreciate being able to binge on episode after episo\n"
     ]
    }
   ],
   "source": [
    "# Select normalized text\n",
    "texts = my_reviews['review_norm']\n",
    "\n",
    "# Predict\n",
    "predictions3 = model3.predict(vectorizer2.transform(texts.apply(preprocess_text)))\n",
    "\n",
    "# Convert predictions to probabilities using decision threshold\n",
    "pred_prob_model3 = (predictions3 > 0.5).astype(float)\n",
    "\n",
    "# Title\n",
    "print(\"\\n*******\\n\")\n",
    "print(\"Predicciones de Sentimiento para Modelo 3: SpaCy + TF-IDF + LGBM\")\n",
    "print(\"\\n*******\\n\")\n",
    "\n",
    "# Loop through each review\n",
    "for i, review in enumerate(texts.str.slice(0, 100)):\n",
    "    \n",
    "    # Predicted probability (2 decimals)\n",
    "    print(f'{pred_prob_model3[i]:.2f}:  {review}')\n"
   ]
  },
  {
   "cell_type": "markdown",
   "metadata": {},
   "source": [
    "### Modelo 4"
   ]
  },
  {
   "cell_type": "markdown",
   "metadata": {},
   "source": [
    "<div style=\"color: #196CC4;\">\n",
    "<b>Modelo 4: SpaCy + TF-IDF + Random Forest</b><br>    \n",
    "▶ El Modelo 4 emplea SpaCy para el procesamiento de texto, TF-IDF para la vectorización de términos y el algoritmo Random Forest para la predicción de sentimientos en reseñas de películas. </div>"
   ]
  },
  {
   "cell_type": "code",
   "execution_count": 61,
   "metadata": {},
   "outputs": [
    {
     "name": "stdout",
     "output_type": "stream",
     "text": [
      "\n",
      "*******\n",
      "\n",
      "Predicciones de Sentimiento para Modelo 4: SpaCy + TF-IDF + Random Forest\n",
      "\n",
      "*******\n",
      "\n",
      "0.50:  i did not simply like it not my kind of movie\n",
      "0.49:  well i was bored and felt asleep in the middle of the movie\n",
      "0.50:  i was really fascinated with the movie\n",
      "0.50:  even the actors looked really old and disinterested and they got paid to be in the movie what a soul\n",
      "0.51:  i didnt expect the reboot to be so good writers really cared about the source material\n",
      "0.49:  the movie had its upsides and downsides but i feel like overall its a decent flick i could see mysel\n",
      "0.48:  what a rotten attempt at a comedy not a single joke lands everyone acts annoying and loud even kids \n",
      "0.51:  launching on netflix was a brave move i really appreciate being able to binge on episode after episo\n"
     ]
    }
   ],
   "source": [
    "# Select normalized text\n",
    "texts = my_reviews['review_norm']\n",
    "\n",
    "# Predict\n",
    "pred_prob_model4 = model4.predict_proba(vectorizer2.transform(texts.apply(preprocess_text)))[:, 1]\n",
    "\n",
    "# Title\n",
    "print(\"\\n*******\\n\")\n",
    "print(\"Predicciones de Sentimiento para Modelo 4: SpaCy + TF-IDF + Random Forest\")\n",
    "print(\"\\n*******\\n\")\n",
    "\n",
    "# Loop through each review\n",
    "for i, review in enumerate(texts.str.slice(0, 100)):\n",
    "    \n",
    "    # Predicted probability (2 decimals)\n",
    "    print(f'{pred_prob_model4[i]:.2f}:  {review}')\n"
   ]
  },
  {
   "cell_type": "markdown",
   "metadata": {},
   "source": [
    "### Modelo 5"
   ]
  },
  {
   "cell_type": "markdown",
   "metadata": {},
   "source": [
    "<div style=\"color: #196CC4;\">\n",
    "<b>Modelo 5: SpaCy + TF-IDF + Grid Search</b><br>    \n",
    "▶ El Modelo 5 utiliza SpaCy para el procesamiento de texto, TF-IDF para la representación vectorial y optimización de hiperparámetros mediante Grid Search para mejorar el rendimiento del modelo en la clasificación de sentimientos en reseñas de películas.</div>"
   ]
  },
  {
   "cell_type": "code",
   "execution_count": 62,
   "metadata": {},
   "outputs": [
    {
     "name": "stdout",
     "output_type": "stream",
     "text": [
      "\n",
      "*******\n",
      "\n",
      "Predicciones de Sentimiento para Modelo 5: SpaCy + TF-IDF + Grid Search\n",
      "\n",
      "*******\n",
      "\n",
      "0.50:  i did not simply like it not my kind of movie\n",
      "0.49:  well i was bored and felt asleep in the middle of the movie\n",
      "0.51:  i was really fascinated with the movie\n",
      "0.50:  even the actors looked really old and disinterested and they got paid to be in the movie what a soul\n",
      "0.51:  i didnt expect the reboot to be so good writers really cared about the source material\n",
      "0.49:  the movie had its upsides and downsides but i feel like overall its a decent flick i could see mysel\n",
      "0.49:  what a rotten attempt at a comedy not a single joke lands everyone acts annoying and loud even kids \n",
      "0.51:  launching on netflix was a brave move i really appreciate being able to binge on episode after episo\n"
     ]
    }
   ],
   "source": [
    "# Select normalized text\n",
    "texts = my_reviews['review_norm']\n",
    "\n",
    "# Predict\n",
    "pred_prob_model5 = best_model.predict_proba(vectorizer2.transform(texts.apply(preprocess_text)))[:, 1]\n",
    "\n",
    "# Title\n",
    "print(\"\\n*******\\n\")\n",
    "print(\"Predicciones de Sentimiento para Modelo 5: SpaCy + TF-IDF + Grid Search\")\n",
    "print(\"\\n*******\\n\")\n",
    "\n",
    "# Loop through each review\n",
    "for i, review in enumerate(texts.str.slice(0, 100)):\n",
    "    \n",
    "    # Predicted probability (2 decimals)\n",
    "    print(f'{pred_prob_model5[i]:.2f}:  {review}')\n"
   ]
  },
  {
   "cell_type": "markdown",
   "metadata": {},
   "source": [
    "### Resumen de modelos"
   ]
  },
  {
   "cell_type": "markdown",
   "metadata": {},
   "source": [
    "<div style=\"color: #196CC4;\">\n",
    "A continuación se muestra un resumen de los modelos entrenados previamente:<br>\n",
    "▶ Modelo 1: NLTK + TF-IDF + LR<br>\n",
    "▶ Modelo 2: SpaCy + TF-IDF + LR<br>\n",
    "▶ Modelo 3: SpaCy + TF-IDF + LGBM<br>\n",
    "▶ Modelo 4: SpaCy + TF-IDF + Random Forest<br>\n",
    "▶ Modelo 5: SpaCy + TF-IDF + Grid Search<br>\n",
    "</div>"
   ]
  },
  {
   "cell_type": "code",
   "execution_count": 63,
   "metadata": {},
   "outputs": [
    {
     "data": {
      "text/html": [
       "<div>\n",
       "<style scoped>\n",
       "    .dataframe tbody tr th:only-of-type {\n",
       "        vertical-align: middle;\n",
       "    }\n",
       "\n",
       "    .dataframe tbody tr th {\n",
       "        vertical-align: top;\n",
       "    }\n",
       "\n",
       "    .dataframe thead tr th {\n",
       "        text-align: left;\n",
       "    }\n",
       "</style>\n",
       "<table border=\"1\" class=\"dataframe\">\n",
       "  <thead>\n",
       "    <tr>\n",
       "      <th></th>\n",
       "      <th colspan=\"2\" halign=\"left\">Modelo 1</th>\n",
       "      <th colspan=\"2\" halign=\"left\">Modelo 2</th>\n",
       "      <th colspan=\"2\" halign=\"left\">Modelo 3</th>\n",
       "      <th colspan=\"2\" halign=\"left\">Modelo 4</th>\n",
       "      <th colspan=\"2\" halign=\"left\">Modelo 5</th>\n",
       "    </tr>\n",
       "    <tr>\n",
       "      <th></th>\n",
       "      <th>Train</th>\n",
       "      <th>Test</th>\n",
       "      <th>Train</th>\n",
       "      <th>Test</th>\n",
       "      <th>Train</th>\n",
       "      <th>Test</th>\n",
       "      <th>Train</th>\n",
       "      <th>Test</th>\n",
       "      <th>Train</th>\n",
       "      <th>Test</th>\n",
       "    </tr>\n",
       "  </thead>\n",
       "  <tbody>\n",
       "    <tr>\n",
       "      <th>Accuracy</th>\n",
       "      <td>0.9394</td>\n",
       "      <td>0.8853</td>\n",
       "      <td>0.9394</td>\n",
       "      <td>0.8790</td>\n",
       "      <td>0.9098</td>\n",
       "      <td>0.8624</td>\n",
       "      <td>0.8275</td>\n",
       "      <td>0.8055</td>\n",
       "      <td>0.8690</td>\n",
       "      <td>0.8378</td>\n",
       "    </tr>\n",
       "    <tr>\n",
       "      <th>F1</th>\n",
       "      <td>0.9398</td>\n",
       "      <td>0.8849</td>\n",
       "      <td>0.9398</td>\n",
       "      <td>0.8785</td>\n",
       "      <td>0.9109</td>\n",
       "      <td>0.8636</td>\n",
       "      <td>0.8323</td>\n",
       "      <td>0.8090</td>\n",
       "      <td>0.8721</td>\n",
       "      <td>0.8399</td>\n",
       "    </tr>\n",
       "    <tr>\n",
       "      <th>ROC AUC</th>\n",
       "      <td>0.9841</td>\n",
       "      <td>0.9530</td>\n",
       "      <td>0.9832</td>\n",
       "      <td>0.9501</td>\n",
       "      <td>0.9099</td>\n",
       "      <td>0.8625</td>\n",
       "      <td>0.9057</td>\n",
       "      <td>0.8825</td>\n",
       "      <td>0.9418</td>\n",
       "      <td>0.9153</td>\n",
       "    </tr>\n",
       "  </tbody>\n",
       "</table>\n",
       "</div>"
      ],
      "text/plain": [
       "         Modelo 1         Modelo 2         Modelo 3         Modelo 4          \\\n",
       "            Train    Test    Train    Test    Train    Test    Train    Test   \n",
       "Accuracy   0.9394  0.8853   0.9394  0.8790   0.9098  0.8624   0.8275  0.8055   \n",
       "F1         0.9398  0.8849   0.9398  0.8785   0.9109  0.8636   0.8323  0.8090   \n",
       "ROC AUC    0.9841  0.9530   0.9832  0.9501   0.9099  0.8625   0.9057  0.8825   \n",
       "\n",
       "         Modelo 5          \n",
       "            Train    Test  \n",
       "Accuracy   0.8690  0.8378  \n",
       "F1         0.8721  0.8399  \n",
       "ROC AUC    0.9418  0.9153  "
      ]
     },
     "execution_count": 63,
     "metadata": {},
     "output_type": "execute_result"
    }
   ],
   "source": [
    "# Print DataFrame\n",
    "all_stats"
   ]
  },
  {
   "cell_type": "markdown",
   "metadata": {},
   "source": [
    "### Análisis de resultados"
   ]
  },
  {
   "cell_type": "markdown",
   "metadata": {},
   "source": [
    "<div style=\"color: #196CC4;\">\n",
    "▶ <b>Modelo 1: NLTK + TF-IDF + LR:</b>Las predicciones de sentimiento para el Modelo 1 muestran una variedad de probabilidades, con valores que oscilan entre 0.05 y 0.84. Esto indica que el modelo tiene cierta incertidumbre en algunas reseñas, pero muestra una alta certeza en otras.<br>    \n",
    "▶ <b>Modelo 2: SpaCy + TF-IDF + LR: </b> Similar al Modelo 1, las predicciones de sentimiento para el Modelo 2 varían entre probabilidades bajas y altas, con valores que van desde 0.03 hasta 0.88.<br>   \n",
    "▶ <b>Modelo 3: SpaCy + TF-IDF + LGBM:</b> Las predicciones del Modelo 3 muestran una clasificación binaria con probabilidades extremas, indicando una alta certeza en algunas reseñas (probabilidad 0.0 o 1.0).<br>    \n",
    "▶ <b>Modelo 4: SpaCy + TF-IDF + Random Forest:</b> Las predicciones del Modelo 4 muestran una clasificación binaria con probabilidades cercanas a 0.5 en la mayoría de las reseñas, indicando una menor certeza en las predicciones.<br>\n",
    "▶ <b>Modelo 5: SpaCy + TF-IDF + Grid Search:</b> Las predicciones del Modelo 5 muestran una clasificación binaria con probabilidades cercanas a 0.5, similar al Modelo 4.<br>\n",
    "    \n",
    "<b>Resumen: Los modelos basados en LR (Modelo 1 y Modelo 2) parece ser el más equilibrado y robusto para la tarea de análisis de sentimientos en las reseñas analizadas previamente. También tienden a mostrar un mejor rendimiento en términos de F1-score y ROC AUC en test.  </b>\n",
    "</div>"
   ]
  },
  {
   "cell_type": "markdown",
   "metadata": {},
   "source": [
    "-----"
   ]
  },
  {
   "cell_type": "markdown",
   "metadata": {},
   "source": [
    "## Conclusiones"
   ]
  },
  {
   "cell_type": "markdown",
   "metadata": {},
   "source": [
    "<div style=\"color: #196CC4;\">\n",
    "<b>ANÁLISIS DE SENTIMIENTO</b><br>     \n",
    "▶ El análisis detallado de sentimientos en las reseñas de películas utilizando varios modelos ha proporcionado insights significativos sobre su rendimiento y aplicabilidad. Considerando las métricas de evaluación y las conclusiones generales, se destacan los modelos basados en LR (Modelo 1 y Modelo 2) como los más idóneos para esta tarea específica.<br><br>  \n",
    " \n",
    "    \n",
    "<b>RENDIMIENTO</b>   \n",
    "<b>Basándonos en el criterio de que el F1_Test debe ser igual o superior a 0.85 para considerar un modelo como viable, el mejor modelo es el Modelo 1 (NLTK + TF-IDF + LR), con un F1_Test de 0.8847.</b><br><br>\n",
    "▶ Este modelo tiene la métrica de F1 más alta entre todos los modelos evaluados según los datos proporcionados. <br>\n",
    "▶ Desempeño: El F1_Test de 0.8847 indica que el Modelo 1 tiene una capacidad robusta para generalizar y predecir con precisión sobre datos no vistos. Esto sugiere que el modelo puede ser confiable en la clasificación de nuevas reseñas.<br>\n",
    "▶ Eficiencia: El uso de NLTK para la normalización del texto y TF-IDF para la representación vectorial junto con Regresión Logística como modelo de clasificación hace que el Modelo 1 sea relativamente simple y eficiente computacionalmente.<br><br> \n",
    "    \n",
    "<b>RESUMEN</b>     \n",
    "<b>En resumen, el análisis de sentimientos en reseñas de películas revela que el Modelo 1 es líder en precisión y generalización, respaldado por su alto F1-score y enfoque metodológico efectivo.     </b>\n",
    "</div> "
   ]
  }
 ],
 "metadata": {
  "ExecuteTimeLog": [
   {
    "duration": 18,
    "start_time": "2024-06-13T17:45:00.429Z"
   },
   {
    "duration": 4842,
    "start_time": "2024-06-13T18:35:41.760Z"
   },
   {
    "duration": 12,
    "start_time": "2024-06-13T18:35:51.133Z"
   },
   {
    "duration": 3,
    "start_time": "2024-06-13T18:35:53.361Z"
   },
   {
    "duration": 1017,
    "start_time": "2024-06-13T18:35:56.285Z"
   },
   {
    "duration": 26,
    "start_time": "2024-06-13T18:50:39.850Z"
   },
   {
    "duration": 39,
    "start_time": "2024-06-13T18:52:48.471Z"
   },
   {
    "duration": 66,
    "start_time": "2024-06-13T18:54:16.794Z"
   },
   {
    "duration": 239,
    "start_time": "2024-06-13T19:05:33.659Z"
   },
   {
    "duration": 223,
    "start_time": "2024-06-13T19:05:42.942Z"
   },
   {
    "duration": 5095,
    "start_time": "2024-06-13T19:19:51.948Z"
   },
   {
    "duration": 416,
    "start_time": "2024-06-13T19:23:43.294Z"
   },
   {
    "duration": 19,
    "start_time": "2024-06-13T19:23:49.014Z"
   },
   {
    "duration": 37,
    "start_time": "2024-06-13T19:23:56.677Z"
   },
   {
    "duration": 2184,
    "start_time": "2024-06-13T19:48:15.660Z"
   },
   {
    "duration": 2126,
    "start_time": "2024-06-13T19:48:44.132Z"
   },
   {
    "duration": 253,
    "start_time": "2024-06-13T19:49:22.395Z"
   },
   {
    "duration": 5096,
    "start_time": "2024-06-13T19:49:37.419Z"
   },
   {
    "duration": 5073,
    "start_time": "2024-06-13T19:50:31.657Z"
   },
   {
    "duration": 5236,
    "start_time": "2024-06-13T19:53:43.477Z"
   },
   {
    "duration": 5096,
    "start_time": "2024-06-13T19:54:02.340Z"
   },
   {
    "duration": 5265,
    "start_time": "2024-06-13T19:54:29.714Z"
   },
   {
    "duration": 8,
    "start_time": "2024-06-13T19:56:37.166Z"
   },
   {
    "duration": 14,
    "start_time": "2024-06-13T19:57:12.738Z"
   },
   {
    "duration": 37,
    "start_time": "2024-06-13T19:57:47.471Z"
   },
   {
    "duration": 20,
    "start_time": "2024-06-13T19:58:00.032Z"
   },
   {
    "duration": 20,
    "start_time": "2024-06-13T19:58:18.926Z"
   },
   {
    "duration": 5042,
    "start_time": "2024-06-13T19:59:23.985Z"
   },
   {
    "duration": 4790,
    "start_time": "2024-06-13T19:59:45.616Z"
   },
   {
    "duration": 21,
    "start_time": "2024-06-13T20:01:38.915Z"
   },
   {
    "duration": 7,
    "start_time": "2024-06-13T20:05:59.280Z"
   },
   {
    "duration": 7,
    "start_time": "2024-06-13T20:06:17.392Z"
   },
   {
    "duration": 13,
    "start_time": "2024-06-13T20:07:37.386Z"
   },
   {
    "duration": 48,
    "start_time": "2024-06-13T20:08:02.962Z"
   },
   {
    "duration": 24,
    "start_time": "2024-06-13T20:30:18.243Z"
   },
   {
    "duration": 223,
    "start_time": "2024-06-13T20:40:28.266Z"
   },
   {
    "duration": 11,
    "start_time": "2024-06-13T20:41:40.620Z"
   },
   {
    "duration": 11,
    "start_time": "2024-06-13T20:42:09.822Z"
   },
   {
    "duration": 308,
    "start_time": "2024-06-13T22:20:28.808Z"
   },
   {
    "duration": 4921,
    "start_time": "2024-06-13T22:20:35.318Z"
   },
   {
    "duration": 13,
    "start_time": "2024-06-13T22:20:40.243Z"
   },
   {
    "duration": 4,
    "start_time": "2024-06-13T22:20:40.259Z"
   },
   {
    "duration": 1047,
    "start_time": "2024-06-13T22:20:40.267Z"
   },
   {
    "duration": 40,
    "start_time": "2024-06-13T22:20:41.319Z"
   },
   {
    "duration": 53,
    "start_time": "2024-06-13T22:20:41.362Z"
   },
   {
    "duration": 66,
    "start_time": "2024-06-13T22:20:41.418Z"
   },
   {
    "duration": 263,
    "start_time": "2024-06-13T22:20:41.502Z"
   },
   {
    "duration": 12,
    "start_time": "2024-06-13T22:20:41.768Z"
   },
   {
    "duration": 19,
    "start_time": "2024-06-13T22:20:41.801Z"
   },
   {
    "duration": 38,
    "start_time": "2024-06-13T22:20:41.823Z"
   },
   {
    "duration": 12,
    "start_time": "2024-06-13T22:20:44.361Z"
   },
   {
    "duration": 29,
    "start_time": "2024-06-13T22:21:36.319Z"
   },
   {
    "duration": 323,
    "start_time": "2024-06-14T17:30:14.620Z"
   },
   {
    "duration": 4886,
    "start_time": "2024-06-14T17:30:20.605Z"
   },
   {
    "duration": 12,
    "start_time": "2024-06-14T17:30:25.495Z"
   },
   {
    "duration": 17,
    "start_time": "2024-06-14T17:30:25.510Z"
   },
   {
    "duration": 1029,
    "start_time": "2024-06-14T17:30:25.532Z"
   },
   {
    "duration": 39,
    "start_time": "2024-06-14T17:30:26.563Z"
   },
   {
    "duration": 43,
    "start_time": "2024-06-14T17:30:26.605Z"
   },
   {
    "duration": 87,
    "start_time": "2024-06-14T17:30:26.650Z"
   },
   {
    "duration": 249,
    "start_time": "2024-06-14T17:30:26.740Z"
   },
   {
    "duration": 12,
    "start_time": "2024-06-14T17:30:26.991Z"
   },
   {
    "duration": 19,
    "start_time": "2024-06-14T17:30:27.025Z"
   },
   {
    "duration": 13,
    "start_time": "2024-06-14T17:30:27.047Z"
   },
   {
    "duration": 28,
    "start_time": "2024-06-14T17:30:27.063Z"
   },
   {
    "duration": 12,
    "start_time": "2024-06-14T17:30:31.333Z"
   },
   {
    "duration": 1133,
    "start_time": "2024-06-14T17:36:20.002Z"
   },
   {
    "duration": 1215,
    "start_time": "2024-06-14T17:38:59.988Z"
   },
   {
    "duration": 11,
    "start_time": "2024-06-14T17:39:01.207Z"
   },
   {
    "duration": 5,
    "start_time": "2024-06-14T17:39:01.227Z"
   },
   {
    "duration": 971,
    "start_time": "2024-06-14T17:39:01.236Z"
   },
   {
    "duration": 48,
    "start_time": "2024-06-14T17:39:02.210Z"
   },
   {
    "duration": 31,
    "start_time": "2024-06-14T17:39:02.262Z"
   },
   {
    "duration": 93,
    "start_time": "2024-06-14T17:39:02.297Z"
   },
   {
    "duration": 263,
    "start_time": "2024-06-14T17:39:02.393Z"
   },
   {
    "duration": 12,
    "start_time": "2024-06-14T17:39:02.659Z"
   },
   {
    "duration": 3320,
    "start_time": "2024-06-14T17:39:02.676Z"
   },
   {
    "duration": 5114,
    "start_time": "2024-06-14T17:39:26.301Z"
   },
   {
    "duration": 1067,
    "start_time": "2024-06-14T17:41:07.875Z"
   },
   {
    "duration": 10,
    "start_time": "2024-06-14T17:41:28.271Z"
   },
   {
    "duration": 1024,
    "start_time": "2024-06-14T17:53:24.114Z"
   },
   {
    "duration": 331,
    "start_time": "2024-06-14T20:17:37.635Z"
   },
   {
    "duration": 4977,
    "start_time": "2024-06-14T20:17:42.216Z"
   },
   {
    "duration": 16,
    "start_time": "2024-06-14T20:17:47.196Z"
   },
   {
    "duration": 4,
    "start_time": "2024-06-14T20:17:47.215Z"
   },
   {
    "duration": 1107,
    "start_time": "2024-06-14T20:17:47.222Z"
   },
   {
    "duration": 39,
    "start_time": "2024-06-14T20:17:48.334Z"
   },
   {
    "duration": 51,
    "start_time": "2024-06-14T20:17:48.375Z"
   },
   {
    "duration": 83,
    "start_time": "2024-06-14T20:17:48.429Z"
   },
   {
    "duration": 247,
    "start_time": "2024-06-14T20:17:48.515Z"
   },
   {
    "duration": 12,
    "start_time": "2024-06-14T20:17:48.765Z"
   },
   {
    "duration": 4910,
    "start_time": "2024-06-14T20:17:48.781Z"
   },
   {
    "duration": 1033,
    "start_time": "2024-06-14T20:17:53.698Z"
   },
   {
    "duration": 10,
    "start_time": "2024-06-14T20:17:54.735Z"
   },
   {
    "duration": 503,
    "start_time": "2024-06-14T20:18:13.904Z"
   },
   {
    "duration": 7,
    "start_time": "2024-06-14T20:18:23.725Z"
   },
   {
    "duration": 604,
    "start_time": "2024-06-14T20:19:07.437Z"
   },
   {
    "duration": 8,
    "start_time": "2024-06-14T20:19:15.752Z"
   },
   {
    "duration": 7,
    "start_time": "2024-06-14T20:19:21.402Z"
   },
   {
    "duration": 1030,
    "start_time": "2024-06-14T20:20:10.283Z"
   },
   {
    "duration": 17,
    "start_time": "2024-06-14T20:22:04.263Z"
   },
   {
    "duration": 18,
    "start_time": "2024-06-14T20:22:15.670Z"
   },
   {
    "duration": 19,
    "start_time": "2024-06-14T20:22:48.438Z"
   },
   {
    "duration": 17,
    "start_time": "2024-06-14T20:22:56.861Z"
   },
   {
    "duration": 20,
    "start_time": "2024-06-14T20:23:16.385Z"
   },
   {
    "duration": 18,
    "start_time": "2024-06-14T20:23:25.819Z"
   },
   {
    "duration": 9,
    "start_time": "2024-06-14T20:23:31.737Z"
   },
   {
    "duration": 17,
    "start_time": "2024-06-14T20:24:02.847Z"
   },
   {
    "duration": 18,
    "start_time": "2024-06-14T20:24:07.483Z"
   },
   {
    "duration": 10,
    "start_time": "2024-06-14T20:24:19.678Z"
   },
   {
    "duration": 577,
    "start_time": "2024-06-14T20:25:07.861Z"
   },
   {
    "duration": 33,
    "start_time": "2024-06-14T20:26:00.401Z"
   },
   {
    "duration": 524,
    "start_time": "2024-06-14T20:27:16.373Z"
   },
   {
    "duration": 32,
    "start_time": "2024-06-14T20:28:21.719Z"
   },
   {
    "duration": 489,
    "start_time": "2024-06-14T20:28:26.417Z"
   },
   {
    "duration": 446,
    "start_time": "2024-06-14T20:28:37.319Z"
   },
   {
    "duration": 1407,
    "start_time": "2024-06-14T20:29:31.506Z"
   },
   {
    "duration": 433,
    "start_time": "2024-06-14T20:29:46.445Z"
   },
   {
    "duration": 4938,
    "start_time": "2024-06-17T15:57:55.900Z"
   },
   {
    "duration": 11,
    "start_time": "2024-06-17T15:58:00.842Z"
   },
   {
    "duration": 4,
    "start_time": "2024-06-17T15:58:00.856Z"
   },
   {
    "duration": 1375,
    "start_time": "2024-06-17T15:58:00.864Z"
   },
   {
    "duration": 91,
    "start_time": "2024-06-17T15:58:02.243Z"
   },
   {
    "duration": 91,
    "start_time": "2024-06-17T15:58:02.337Z"
   },
   {
    "duration": 206,
    "start_time": "2024-06-17T15:58:02.431Z"
   },
   {
    "duration": 389,
    "start_time": "2024-06-17T15:58:02.640Z"
   },
   {
    "duration": 12,
    "start_time": "2024-06-17T15:58:03.032Z"
   },
   {
    "duration": 5018,
    "start_time": "2024-06-17T15:58:03.048Z"
   },
   {
    "duration": 1062,
    "start_time": "2024-06-17T15:58:08.069Z"
   },
   {
    "duration": 8,
    "start_time": "2024-06-17T15:58:09.135Z"
   },
   {
    "duration": 33,
    "start_time": "2024-06-17T15:58:09.146Z"
   },
   {
    "duration": 466,
    "start_time": "2024-06-17T15:58:09.184Z"
   },
   {
    "duration": 5116,
    "start_time": "2024-06-17T16:17:02.152Z"
   },
   {
    "duration": 2785,
    "start_time": "2024-06-17T16:18:54.577Z"
   },
   {
    "duration": 2365,
    "start_time": "2024-06-17T16:19:28.449Z"
   },
   {
    "duration": 2771,
    "start_time": "2024-06-17T16:21:32.755Z"
   },
   {
    "duration": 3683,
    "start_time": "2024-06-17T16:22:38.967Z"
   },
   {
    "duration": 1069,
    "start_time": "2024-06-17T16:24:19.674Z"
   },
   {
    "duration": 666,
    "start_time": "2024-06-17T16:34:39.694Z"
   },
   {
    "duration": 793,
    "start_time": "2024-06-17T16:34:58.710Z"
   },
   {
    "duration": 1090,
    "start_time": "2024-06-17T16:35:25.592Z"
   },
   {
    "duration": 1290,
    "start_time": "2024-06-17T16:35:33.640Z"
   },
   {
    "duration": 1225,
    "start_time": "2024-06-17T16:35:52.264Z"
   },
   {
    "duration": 13,
    "start_time": "2024-06-17T16:35:53.493Z"
   },
   {
    "duration": 19,
    "start_time": "2024-06-17T16:35:53.509Z"
   },
   {
    "duration": 955,
    "start_time": "2024-06-17T16:35:53.530Z"
   },
   {
    "duration": 47,
    "start_time": "2024-06-17T16:35:54.491Z"
   },
   {
    "duration": 28,
    "start_time": "2024-06-17T16:35:54.541Z"
   },
   {
    "duration": 92,
    "start_time": "2024-06-17T16:35:54.572Z"
   },
   {
    "duration": 254,
    "start_time": "2024-06-17T16:35:54.668Z"
   },
   {
    "duration": 12,
    "start_time": "2024-06-17T16:35:54.924Z"
   },
   {
    "duration": 1224,
    "start_time": "2024-06-17T16:35:54.939Z"
   },
   {
    "duration": 9,
    "start_time": "2024-06-17T16:35:56.166Z"
   },
   {
    "duration": 35,
    "start_time": "2024-06-17T16:35:56.178Z"
   },
   {
    "duration": 475,
    "start_time": "2024-06-17T16:35:56.225Z"
   },
   {
    "duration": 2275,
    "start_time": "2024-06-17T16:36:15.994Z"
   },
   {
    "duration": 5856,
    "start_time": "2024-06-17T16:36:22.346Z"
   },
   {
    "duration": 2838,
    "start_time": "2024-06-17T16:36:40.391Z"
   },
   {
    "duration": 5552,
    "start_time": "2024-06-17T16:37:17.578Z"
   },
   {
    "duration": 5613,
    "start_time": "2024-06-17T16:38:18.633Z"
   },
   {
    "duration": 5512,
    "start_time": "2024-06-17T16:38:32.489Z"
   },
   {
    "duration": 5612,
    "start_time": "2024-06-17T16:38:55.253Z"
   },
   {
    "duration": 5452,
    "start_time": "2024-06-17T16:39:21.985Z"
   },
   {
    "duration": 5241,
    "start_time": "2024-06-17T16:40:08.488Z"
   },
   {
    "duration": 6709,
    "start_time": "2024-06-17T16:40:34.092Z"
   },
   {
    "duration": 1630,
    "start_time": "2024-06-17T16:55:30.623Z"
   },
   {
    "duration": 1090,
    "start_time": "2024-06-17T16:55:56.836Z"
   },
   {
    "duration": 119,
    "start_time": "2024-06-17T16:56:18.896Z"
   },
   {
    "duration": 124,
    "start_time": "2024-06-17T16:56:47.183Z"
   },
   {
    "duration": 113,
    "start_time": "2024-06-17T16:56:54.455Z"
   },
   {
    "duration": 1295,
    "start_time": "2024-06-17T16:58:22.489Z"
   },
   {
    "duration": 1256,
    "start_time": "2024-06-17T16:58:55.380Z"
   },
   {
    "duration": 1300,
    "start_time": "2024-06-17T16:59:33.636Z"
   },
   {
    "duration": 1106,
    "start_time": "2024-06-17T16:59:41.613Z"
   },
   {
    "duration": 5329,
    "start_time": "2024-06-17T17:24:22.713Z"
   },
   {
    "duration": 14,
    "start_time": "2024-06-17T17:24:28.049Z"
   },
   {
    "duration": 7,
    "start_time": "2024-06-17T17:24:28.069Z"
   },
   {
    "duration": 1119,
    "start_time": "2024-06-17T17:24:28.079Z"
   },
   {
    "duration": 51,
    "start_time": "2024-06-17T17:24:29.203Z"
   },
   {
    "duration": 54,
    "start_time": "2024-06-17T17:24:29.258Z"
   },
   {
    "duration": 73,
    "start_time": "2024-06-17T17:24:29.317Z"
   },
   {
    "duration": 269,
    "start_time": "2024-06-17T17:24:29.393Z"
   },
   {
    "duration": 15,
    "start_time": "2024-06-17T17:24:29.666Z"
   },
   {
    "duration": 1240,
    "start_time": "2024-06-17T17:24:29.685Z"
   },
   {
    "duration": 9,
    "start_time": "2024-06-17T17:24:30.929Z"
   },
   {
    "duration": 53,
    "start_time": "2024-06-17T17:24:30.942Z"
   },
   {
    "duration": 468,
    "start_time": "2024-06-17T17:24:30.999Z"
   },
   {
    "duration": 2584,
    "start_time": "2024-06-17T17:24:31.473Z"
   },
   {
    "duration": 5347,
    "start_time": "2024-06-17T17:24:34.061Z"
   },
   {
    "duration": 1179,
    "start_time": "2024-06-17T17:52:16.076Z"
   },
   {
    "duration": 1192,
    "start_time": "2024-06-17T17:53:09.523Z"
   },
   {
    "duration": 1143,
    "start_time": "2024-06-17T17:53:46.415Z"
   },
   {
    "duration": 1144,
    "start_time": "2024-06-17T17:54:06.832Z"
   },
   {
    "duration": 1272,
    "start_time": "2024-06-17T17:54:17.110Z"
   },
   {
    "duration": 217,
    "start_time": "2024-06-17T17:56:05.202Z"
   },
   {
    "duration": 17,
    "start_time": "2024-06-17T18:01:52.574Z"
   },
   {
    "duration": 39,
    "start_time": "2024-06-17T18:02:49.929Z"
   },
   {
    "duration": 12,
    "start_time": "2024-06-17T18:09:51.936Z"
   },
   {
    "duration": 25,
    "start_time": "2024-06-17T18:09:54.800Z"
   },
   {
    "duration": 190,
    "start_time": "2024-06-17T18:11:47.531Z"
   },
   {
    "duration": 189,
    "start_time": "2024-06-17T18:12:59.949Z"
   },
   {
    "duration": 1536,
    "start_time": "2024-06-17T18:13:24.864Z"
   },
   {
    "duration": 16,
    "start_time": "2024-06-17T18:13:26.404Z"
   },
   {
    "duration": 4,
    "start_time": "2024-06-17T18:13:26.423Z"
   },
   {
    "duration": 1124,
    "start_time": "2024-06-17T18:13:26.433Z"
   },
   {
    "duration": 68,
    "start_time": "2024-06-17T18:13:27.561Z"
   },
   {
    "duration": 34,
    "start_time": "2024-06-17T18:13:27.635Z"
   },
   {
    "duration": 94,
    "start_time": "2024-06-17T18:13:27.673Z"
   },
   {
    "duration": 263,
    "start_time": "2024-06-17T18:13:27.771Z"
   },
   {
    "duration": 12,
    "start_time": "2024-06-17T18:13:28.038Z"
   },
   {
    "duration": 1166,
    "start_time": "2024-06-17T18:13:28.055Z"
   },
   {
    "duration": 10,
    "start_time": "2024-06-17T18:13:29.224Z"
   },
   {
    "duration": 35,
    "start_time": "2024-06-17T18:13:29.238Z"
   },
   {
    "duration": 555,
    "start_time": "2024-06-17T18:13:29.277Z"
   },
   {
    "duration": 2318,
    "start_time": "2024-06-17T18:13:29.836Z"
   },
   {
    "duration": 5488,
    "start_time": "2024-06-17T18:13:32.157Z"
   },
   {
    "duration": 1153,
    "start_time": "2024-06-17T18:13:37.649Z"
   },
   {
    "duration": 22,
    "start_time": "2024-06-17T18:13:38.806Z"
   },
   {
    "duration": 19,
    "start_time": "2024-06-17T18:13:54.064Z"
   },
   {
    "duration": 231,
    "start_time": "2024-06-17T18:14:01.109Z"
   },
   {
    "duration": 14,
    "start_time": "2024-06-17T18:15:04.145Z"
   },
   {
    "duration": 27,
    "start_time": "2024-06-17T18:15:06.056Z"
   },
   {
    "duration": 194,
    "start_time": "2024-06-17T18:15:08.009Z"
   },
   {
    "duration": 345,
    "start_time": "2024-06-17T18:15:10.443Z"
   },
   {
    "duration": 7,
    "start_time": "2024-06-17T18:17:16.469Z"
   },
   {
    "duration": 178,
    "start_time": "2024-06-17T18:17:46.972Z"
   },
   {
    "duration": 368,
    "start_time": "2024-06-17T19:26:44.522Z"
   },
   {
    "duration": 1541,
    "start_time": "2024-06-17T19:27:16.738Z"
   },
   {
    "duration": 12,
    "start_time": "2024-06-17T19:27:18.283Z"
   },
   {
    "duration": 16,
    "start_time": "2024-06-17T19:27:18.298Z"
   },
   {
    "duration": 961,
    "start_time": "2024-06-17T19:27:18.318Z"
   },
   {
    "duration": 48,
    "start_time": "2024-06-17T19:27:19.283Z"
   },
   {
    "duration": 29,
    "start_time": "2024-06-17T19:27:19.334Z"
   },
   {
    "duration": 94,
    "start_time": "2024-06-17T19:27:19.366Z"
   },
   {
    "duration": 246,
    "start_time": "2024-06-17T19:27:19.463Z"
   },
   {
    "duration": 346,
    "start_time": "2024-06-17T19:27:21.808Z"
   },
   {
    "duration": 177,
    "start_time": "2024-06-17T19:29:35.578Z"
   },
   {
    "duration": 177,
    "start_time": "2024-06-17T19:30:18.529Z"
   },
   {
    "duration": 5201,
    "start_time": "2024-06-17T20:19:37.151Z"
   },
   {
    "duration": 12,
    "start_time": "2024-06-17T20:19:42.355Z"
   },
   {
    "duration": 4,
    "start_time": "2024-06-17T20:19:42.371Z"
   },
   {
    "duration": 1052,
    "start_time": "2024-06-17T20:19:42.379Z"
   },
   {
    "duration": 39,
    "start_time": "2024-06-17T20:19:43.435Z"
   },
   {
    "duration": 47,
    "start_time": "2024-06-17T20:19:43.478Z"
   },
   {
    "duration": 67,
    "start_time": "2024-06-17T20:19:43.528Z"
   },
   {
    "duration": 262,
    "start_time": "2024-06-17T20:19:43.598Z"
   },
   {
    "duration": 188,
    "start_time": "2024-06-17T20:19:43.863Z"
   },
   {
    "duration": 11,
    "start_time": "2024-06-17T20:19:44.054Z"
   },
   {
    "duration": 1123,
    "start_time": "2024-06-17T20:19:44.068Z"
   },
   {
    "duration": 8,
    "start_time": "2024-06-17T20:19:45.195Z"
   },
   {
    "duration": 122,
    "start_time": "2024-06-17T20:19:45.206Z"
   },
   {
    "duration": 472,
    "start_time": "2024-06-17T20:19:45.335Z"
   },
   {
    "duration": 2300,
    "start_time": "2024-06-17T20:19:45.810Z"
   },
   {
    "duration": 5287,
    "start_time": "2024-06-17T20:19:48.113Z"
   },
   {
    "duration": 1167,
    "start_time": "2024-06-17T20:19:53.403Z"
   },
   {
    "duration": 19,
    "start_time": "2024-06-17T20:19:54.573Z"
   },
   {
    "duration": 223,
    "start_time": "2024-06-17T20:21:17.112Z"
   },
   {
    "duration": 1865,
    "start_time": "2024-06-17T20:25:20.046Z"
   },
   {
    "duration": 78,
    "start_time": "2024-06-17T20:26:24.830Z"
   },
   {
    "duration": 191,
    "start_time": "2024-06-17T20:28:37.677Z"
   },
   {
    "duration": 74,
    "start_time": "2024-06-17T20:31:44.841Z"
   },
   {
    "duration": 17,
    "start_time": "2024-06-17T20:32:01.757Z"
   },
   {
    "duration": 53,
    "start_time": "2024-06-17T20:32:04.347Z"
   },
   {
    "duration": 53,
    "start_time": "2024-06-17T20:32:17.643Z"
   },
   {
    "duration": 22,
    "start_time": "2024-06-17T20:32:49.422Z"
   },
   {
    "duration": 6,
    "start_time": "2024-06-17T20:35:41.352Z"
   },
   {
    "duration": 197,
    "start_time": "2024-06-17T20:35:46.554Z"
   },
   {
    "duration": 5,
    "start_time": "2024-06-17T20:38:39.485Z"
   },
   {
    "duration": 4,
    "start_time": "2024-06-17T20:38:53.622Z"
   },
   {
    "duration": 191,
    "start_time": "2024-06-17T20:38:54.927Z"
   },
   {
    "duration": 179,
    "start_time": "2024-06-17T20:39:36.305Z"
   },
   {
    "duration": 149,
    "start_time": "2024-06-17T20:39:44.637Z"
   },
   {
    "duration": 9,
    "start_time": "2024-06-17T20:40:03.790Z"
   },
   {
    "duration": 227,
    "start_time": "2024-06-17T20:41:51.770Z"
   },
   {
    "duration": 163,
    "start_time": "2024-06-17T20:42:05.141Z"
   },
   {
    "duration": 172,
    "start_time": "2024-06-17T20:42:10.337Z"
   },
   {
    "duration": 197,
    "start_time": "2024-06-17T20:42:17.834Z"
   },
   {
    "duration": 9,
    "start_time": "2024-06-17T20:42:53.451Z"
   },
   {
    "duration": 194,
    "start_time": "2024-06-17T20:43:08.012Z"
   },
   {
    "duration": 138,
    "start_time": "2024-06-17T20:43:30.770Z"
   },
   {
    "duration": 6585,
    "start_time": "2024-06-17T21:10:56.967Z"
   },
   {
    "duration": 4233,
    "start_time": "2024-06-17T21:18:24.793Z"
   },
   {
    "duration": 28,
    "start_time": "2024-06-17T21:24:00.492Z"
   },
   {
    "duration": 10157,
    "start_time": "2024-06-17T23:25:26.312Z"
   },
   {
    "duration": 21,
    "start_time": "2024-06-17T23:25:36.474Z"
   },
   {
    "duration": 7,
    "start_time": "2024-06-17T23:25:36.498Z"
   },
   {
    "duration": 1265,
    "start_time": "2024-06-17T23:25:36.511Z"
   },
   {
    "duration": 57,
    "start_time": "2024-06-17T23:25:37.779Z"
   },
   {
    "duration": 52,
    "start_time": "2024-06-17T23:25:37.840Z"
   },
   {
    "duration": 98,
    "start_time": "2024-06-17T23:25:37.895Z"
   },
   {
    "duration": 280,
    "start_time": "2024-06-17T23:25:37.996Z"
   },
   {
    "duration": 200,
    "start_time": "2024-06-17T23:25:38.281Z"
   },
   {
    "duration": 17,
    "start_time": "2024-06-17T23:25:38.495Z"
   },
   {
    "duration": 25,
    "start_time": "2024-06-17T23:25:38.516Z"
   },
   {
    "duration": 243,
    "start_time": "2024-06-17T23:25:38.545Z"
   },
   {
    "duration": 1249,
    "start_time": "2024-06-17T23:25:38.794Z"
   },
   {
    "duration": 15,
    "start_time": "2024-06-17T23:25:40.046Z"
   },
   {
    "duration": 184,
    "start_time": "2024-06-17T23:25:40.066Z"
   },
   {
    "duration": 54,
    "start_time": "2024-06-17T23:25:40.254Z"
   },
   {
    "duration": 482,
    "start_time": "2024-06-17T23:25:40.311Z"
   },
   {
    "duration": 2800,
    "start_time": "2024-06-17T23:25:40.797Z"
   },
   {
    "duration": 6529,
    "start_time": "2024-06-17T23:25:43.601Z"
   },
   {
    "duration": 1244,
    "start_time": "2024-06-17T23:25:50.134Z"
   },
   {
    "duration": 15,
    "start_time": "2024-06-17T23:25:51.389Z"
   },
   {
    "duration": 49,
    "start_time": "2024-06-17T23:25:51.407Z"
   },
   {
    "duration": 49,
    "start_time": "2024-06-17T23:25:51.462Z"
   },
   {
    "duration": 26,
    "start_time": "2024-06-17T23:25:51.517Z"
   },
   {
    "duration": 23,
    "start_time": "2024-06-17T23:25:51.546Z"
   },
   {
    "duration": 5365,
    "start_time": "2024-06-17T23:28:19.548Z"
   },
   {
    "duration": 4,
    "start_time": "2024-06-17T23:29:39.087Z"
   },
   {
    "duration": 707,
    "start_time": "2024-06-17T23:30:10.423Z"
   },
   {
    "duration": 5,
    "start_time": "2024-06-17T23:31:01.432Z"
   },
   {
    "duration": 38873,
    "start_time": "2024-06-17T23:31:11.367Z"
   },
   {
    "duration": 2904,
    "start_time": "2024-06-17T23:31:58.806Z"
   },
   {
    "duration": 2795,
    "start_time": "2024-06-17T23:33:06.112Z"
   },
   {
    "duration": 2806,
    "start_time": "2024-06-17T23:34:23.638Z"
   },
   {
    "duration": 521,
    "start_time": "2024-06-17T23:38:12.451Z"
   },
   {
    "duration": 6,
    "start_time": "2024-06-17T23:38:22.548Z"
   },
   {
    "duration": 159,
    "start_time": "2024-06-17T23:39:09.958Z"
   },
   {
    "duration": 10615,
    "start_time": "2024-06-17T23:39:21.716Z"
   },
   {
    "duration": 227,
    "start_time": "2024-06-17T23:42:48.962Z"
   },
   {
    "duration": 5,
    "start_time": "2024-06-17T23:45:53.358Z"
   },
   {
    "duration": 26,
    "start_time": "2024-06-17T23:46:40.949Z"
   },
   {
    "duration": 5,
    "start_time": "2024-06-17T23:49:56.672Z"
   },
   {
    "duration": 79,
    "start_time": "2024-06-17T23:50:01.434Z"
   },
   {
    "duration": 74,
    "start_time": "2024-06-17T23:50:06.439Z"
   },
   {
    "duration": 4,
    "start_time": "2024-06-17T23:50:25.655Z"
   },
   {
    "duration": 2464,
    "start_time": "2024-06-17T23:50:28.139Z"
   },
   {
    "duration": 40,
    "start_time": "2024-06-17T23:50:38.930Z"
   },
   {
    "duration": 5,
    "start_time": "2024-06-17T23:50:57.200Z"
   },
   {
    "duration": 5,
    "start_time": "2024-06-17T23:52:04.381Z"
   },
   {
    "duration": 7,
    "start_time": "2024-06-17T23:52:26.474Z"
   },
   {
    "duration": 6,
    "start_time": "2024-06-17T23:52:33.745Z"
   },
   {
    "duration": 25,
    "start_time": "2024-06-17T23:56:30.479Z"
   },
   {
    "duration": 24,
    "start_time": "2024-06-17T23:59:46.742Z"
   },
   {
    "duration": 5,
    "start_time": "2024-06-18T00:03:46.505Z"
   },
   {
    "duration": 44,
    "start_time": "2024-06-18T00:11:10.769Z"
   },
   {
    "duration": 2601,
    "start_time": "2024-06-18T00:11:58.784Z"
   },
   {
    "duration": 7,
    "start_time": "2024-06-18T00:12:09.528Z"
   },
   {
    "duration": 2779,
    "start_time": "2024-06-18T00:12:11.323Z"
   },
   {
    "duration": 2628,
    "start_time": "2024-06-18T00:25:53.970Z"
   },
   {
    "duration": 2687,
    "start_time": "2024-06-18T00:26:31.199Z"
   },
   {
    "duration": 1052,
    "start_time": "2024-06-18T00:40:33.275Z"
   },
   {
    "duration": 307,
    "start_time": "2024-06-18T01:41:47.263Z"
   },
   {
    "duration": 8259,
    "start_time": "2024-06-18T01:41:51.108Z"
   },
   {
    "duration": 13,
    "start_time": "2024-06-18T01:41:59.370Z"
   },
   {
    "duration": 17,
    "start_time": "2024-06-18T01:41:59.386Z"
   },
   {
    "duration": 1055,
    "start_time": "2024-06-18T01:41:59.407Z"
   },
   {
    "duration": 52,
    "start_time": "2024-06-18T01:42:00.465Z"
   },
   {
    "duration": 29,
    "start_time": "2024-06-18T01:42:00.520Z"
   },
   {
    "duration": 96,
    "start_time": "2024-06-18T01:42:00.552Z"
   },
   {
    "duration": 244,
    "start_time": "2024-06-18T01:42:00.651Z"
   },
   {
    "duration": 183,
    "start_time": "2024-06-18T01:42:00.903Z"
   },
   {
    "duration": 11,
    "start_time": "2024-06-18T01:42:01.101Z"
   },
   {
    "duration": 18,
    "start_time": "2024-06-18T01:42:01.114Z"
   },
   {
    "duration": 218,
    "start_time": "2024-06-18T01:42:01.135Z"
   },
   {
    "duration": 1118,
    "start_time": "2024-06-18T01:42:01.356Z"
   },
   {
    "duration": 8,
    "start_time": "2024-06-18T01:42:02.478Z"
   },
   {
    "duration": 151,
    "start_time": "2024-06-18T01:42:02.489Z"
   },
   {
    "duration": 35,
    "start_time": "2024-06-18T01:42:02.643Z"
   },
   {
    "duration": 461,
    "start_time": "2024-06-18T01:42:02.680Z"
   },
   {
    "duration": 2263,
    "start_time": "2024-06-18T01:42:03.144Z"
   },
   {
    "duration": 5370,
    "start_time": "2024-06-18T01:42:05.410Z"
   },
   {
    "duration": 1140,
    "start_time": "2024-06-18T01:42:10.783Z"
   },
   {
    "duration": 16,
    "start_time": "2024-06-18T01:42:11.926Z"
   },
   {
    "duration": 63,
    "start_time": "2024-06-18T01:42:11.944Z"
   },
   {
    "duration": 23,
    "start_time": "2024-06-18T01:42:12.010Z"
   },
   {
    "duration": 20,
    "start_time": "2024-06-18T01:42:12.037Z"
   },
   {
    "duration": 57,
    "start_time": "2024-06-18T01:42:12.061Z"
   },
   {
    "duration": 5,
    "start_time": "2024-06-18T01:42:12.121Z"
   },
   {
    "duration": 2564,
    "start_time": "2024-06-18T01:42:12.129Z"
   },
   {
    "duration": 6,
    "start_time": "2024-06-18T01:42:14.704Z"
   },
   {
    "duration": 31,
    "start_time": "2024-06-18T01:42:14.712Z"
   },
   {
    "duration": 2661,
    "start_time": "2024-06-18T01:42:14.747Z"
   },
   {
    "duration": 508,
    "start_time": "2024-06-18T01:42:17.412Z"
   },
   {
    "duration": 0,
    "start_time": "2024-06-18T01:42:17.923Z"
   },
   {
    "duration": 0,
    "start_time": "2024-06-18T01:42:17.925Z"
   },
   {
    "duration": 6,
    "start_time": "2024-06-18T01:42:48.058Z"
   },
   {
    "duration": 9,
    "start_time": "2024-06-18T01:42:49.511Z"
   },
   {
    "duration": 988,
    "start_time": "2024-06-18T01:42:51.463Z"
   },
   {
    "duration": 36,
    "start_time": "2024-06-18T01:46:22.410Z"
   },
   {
    "duration": 14,
    "start_time": "2024-06-18T01:50:26.567Z"
   },
   {
    "duration": 32,
    "start_time": "2024-06-18T01:50:33.318Z"
   },
   {
    "duration": 9,
    "start_time": "2024-06-18T01:51:35.854Z"
   },
   {
    "duration": 43,
    "start_time": "2024-06-18T01:51:39.823Z"
   },
   {
    "duration": 8,
    "start_time": "2024-06-18T01:51:47.420Z"
   },
   {
    "duration": 32,
    "start_time": "2024-06-18T01:51:51.273Z"
   },
   {
    "duration": 9,
    "start_time": "2024-06-18T01:53:02.908Z"
   },
   {
    "duration": 89,
    "start_time": "2024-06-18T01:53:07.552Z"
   },
   {
    "duration": 49,
    "start_time": "2024-06-18T01:53:16.655Z"
   },
   {
    "duration": 43,
    "start_time": "2024-06-18T01:53:29.055Z"
   },
   {
    "duration": 44,
    "start_time": "2024-06-18T01:53:59.977Z"
   },
   {
    "duration": 11,
    "start_time": "2024-06-18T01:54:24.756Z"
   },
   {
    "duration": 47,
    "start_time": "2024-06-18T01:55:18.455Z"
   },
   {
    "duration": 39,
    "start_time": "2024-06-18T01:56:01.710Z"
   },
   {
    "duration": 8,
    "start_time": "2024-06-18T01:56:04.878Z"
   },
   {
    "duration": 34,
    "start_time": "2024-06-18T01:56:09.446Z"
   },
   {
    "duration": 9,
    "start_time": "2024-06-18T01:57:09.983Z"
   },
   {
    "duration": 39,
    "start_time": "2024-06-18T01:57:16.218Z"
   },
   {
    "duration": 10,
    "start_time": "2024-06-18T01:57:28.415Z"
   },
   {
    "duration": 38,
    "start_time": "2024-06-18T01:57:35.121Z"
   },
   {
    "duration": 5,
    "start_time": "2024-06-18T01:58:47.505Z"
   },
   {
    "duration": 35,
    "start_time": "2024-06-18T01:59:49.986Z"
   },
   {
    "duration": 39,
    "start_time": "2024-06-18T02:00:02.018Z"
   },
   {
    "duration": 7,
    "start_time": "2024-06-18T02:00:22.254Z"
   },
   {
    "duration": 40,
    "start_time": "2024-06-18T02:00:30.158Z"
   },
   {
    "duration": 7,
    "start_time": "2024-06-18T02:07:24.492Z"
   },
   {
    "duration": 37,
    "start_time": "2024-06-18T02:07:34.468Z"
   },
   {
    "duration": 10,
    "start_time": "2024-06-18T02:08:00.466Z"
   },
   {
    "duration": 37,
    "start_time": "2024-06-18T02:08:08.369Z"
   },
   {
    "duration": 8,
    "start_time": "2024-06-18T02:08:23.157Z"
   },
   {
    "duration": 9,
    "start_time": "2024-06-18T02:09:48.722Z"
   },
   {
    "duration": 36,
    "start_time": "2024-06-18T02:09:51.118Z"
   },
   {
    "duration": 9,
    "start_time": "2024-06-18T02:09:53.632Z"
   },
   {
    "duration": 38,
    "start_time": "2024-06-18T02:09:54.202Z"
   },
   {
    "duration": 16,
    "start_time": "2024-06-18T02:09:56.109Z"
   },
   {
    "duration": 39,
    "start_time": "2024-06-18T02:09:56.999Z"
   },
   {
    "duration": 10,
    "start_time": "2024-06-18T02:09:59.030Z"
   },
   {
    "duration": 37,
    "start_time": "2024-06-18T02:09:59.740Z"
   },
   {
    "duration": 8,
    "start_time": "2024-06-18T02:15:47.384Z"
   },
   {
    "duration": 435,
    "start_time": "2024-06-18T02:21:48.050Z"
   },
   {
    "duration": 59,
    "start_time": "2024-06-18T02:21:49.723Z"
   },
   {
    "duration": 5,
    "start_time": "2024-06-18T02:22:00.717Z"
   },
   {
    "duration": 63304,
    "start_time": "2024-06-18T02:23:24.909Z"
   },
   {
    "duration": 80593,
    "start_time": "2024-06-18T02:26:58.827Z"
   },
   {
    "duration": 37,
    "start_time": "2024-06-18T02:28:42.985Z"
   },
   {
    "duration": 37,
    "start_time": "2024-06-18T02:29:09.731Z"
   },
   {
    "duration": 38,
    "start_time": "2024-06-18T02:29:14.603Z"
   },
   {
    "duration": 79117,
    "start_time": "2024-06-18T02:29:41.587Z"
   },
   {
    "duration": 55,
    "start_time": "2024-06-18T02:31:44.221Z"
   },
   {
    "duration": 56,
    "start_time": "2024-06-18T02:32:26.619Z"
   },
   {
    "duration": 5,
    "start_time": "2024-06-18T02:36:52.288Z"
   },
   {
    "duration": 77337,
    "start_time": "2024-06-18T02:37:11.968Z"
   },
   {
    "duration": 69,
    "start_time": "2024-06-18T02:38:34.122Z"
   },
   {
    "duration": 70,
    "start_time": "2024-06-18T02:38:43.366Z"
   },
   {
    "duration": 69,
    "start_time": "2024-06-18T02:39:19.083Z"
   },
   {
    "duration": 80,
    "start_time": "2024-06-18T02:39:25.132Z"
   },
   {
    "duration": 732,
    "start_time": "2024-06-18T02:53:29.020Z"
   },
   {
    "duration": 11,
    "start_time": "2024-06-18T02:53:30.934Z"
   },
   {
    "duration": 37251,
    "start_time": "2024-06-18T02:53:33.167Z"
   },
   {
    "duration": 1081710,
    "start_time": "2024-06-18T02:54:15.136Z"
   },
   {
    "duration": 7977,
    "start_time": "2024-06-18T03:12:20.247Z"
   },
   {
    "duration": 69,
    "start_time": "2024-06-18T03:12:31.680Z"
   },
   {
    "duration": 37,
    "start_time": "2024-06-18T03:13:21.326Z"
   },
   {
    "duration": 594,
    "start_time": "2024-06-18T03:13:34.610Z"
   },
   {
    "duration": 4,
    "start_time": "2024-06-18T03:13:41.639Z"
   },
   {
    "duration": 8849,
    "start_time": "2024-06-18T15:12:00.117Z"
   },
   {
    "duration": 16,
    "start_time": "2024-06-18T15:12:08.971Z"
   },
   {
    "duration": 4,
    "start_time": "2024-06-18T15:12:08.990Z"
   },
   {
    "duration": 1070,
    "start_time": "2024-06-18T15:12:08.997Z"
   },
   {
    "duration": 52,
    "start_time": "2024-06-18T15:12:10.072Z"
   },
   {
    "duration": 31,
    "start_time": "2024-06-18T15:12:10.128Z"
   },
   {
    "duration": 90,
    "start_time": "2024-06-18T15:12:10.162Z"
   },
   {
    "duration": 250,
    "start_time": "2024-06-18T15:12:10.255Z"
   },
   {
    "duration": 194,
    "start_time": "2024-06-18T15:12:10.507Z"
   },
   {
    "duration": 19,
    "start_time": "2024-06-18T15:12:10.704Z"
   },
   {
    "duration": 19,
    "start_time": "2024-06-18T15:12:10.727Z"
   },
   {
    "duration": 211,
    "start_time": "2024-06-18T15:12:10.749Z"
   },
   {
    "duration": 1124,
    "start_time": "2024-06-18T15:12:10.963Z"
   },
   {
    "duration": 11,
    "start_time": "2024-06-18T15:12:12.095Z"
   },
   {
    "duration": 151,
    "start_time": "2024-06-18T15:12:12.112Z"
   },
   {
    "duration": 35,
    "start_time": "2024-06-18T15:12:12.266Z"
   },
   {
    "duration": 477,
    "start_time": "2024-06-18T15:12:12.303Z"
   },
   {
    "duration": 2232,
    "start_time": "2024-06-18T15:12:12.783Z"
   },
   {
    "duration": 5259,
    "start_time": "2024-06-18T15:12:15.024Z"
   },
   {
    "duration": 1128,
    "start_time": "2024-06-18T15:12:20.286Z"
   },
   {
    "duration": 16,
    "start_time": "2024-06-18T15:12:21.423Z"
   },
   {
    "duration": 40,
    "start_time": "2024-06-18T15:12:21.442Z"
   },
   {
    "duration": 55,
    "start_time": "2024-06-18T15:12:21.485Z"
   },
   {
    "duration": 19,
    "start_time": "2024-06-18T15:12:21.545Z"
   },
   {
    "duration": 8,
    "start_time": "2024-06-18T15:12:21.567Z"
   },
   {
    "duration": 4,
    "start_time": "2024-06-18T15:12:21.579Z"
   },
   {
    "duration": 2581,
    "start_time": "2024-06-18T15:12:21.624Z"
   },
   {
    "duration": 15,
    "start_time": "2024-06-18T15:12:24.208Z"
   },
   {
    "duration": 2599,
    "start_time": "2024-06-18T15:12:24.227Z"
   },
   {
    "duration": 10,
    "start_time": "2024-06-18T15:12:26.830Z"
   },
   {
    "duration": 39,
    "start_time": "2024-06-18T15:12:26.844Z"
   },
   {
    "duration": 86,
    "start_time": "2024-06-18T15:12:26.887Z"
   },
   {
    "duration": 6,
    "start_time": "2024-06-18T15:12:26.977Z"
   },
   {
    "duration": 6,
    "start_time": "2024-06-18T15:12:26.987Z"
   },
   {
    "duration": 77225,
    "start_time": "2024-06-18T15:12:26.999Z"
   },
   {
    "duration": 864,
    "start_time": "2024-06-18T15:13:44.230Z"
   },
   {
    "duration": 0,
    "start_time": "2024-06-18T15:13:45.096Z"
   },
   {
    "duration": 0,
    "start_time": "2024-06-18T15:13:45.099Z"
   },
   {
    "duration": 0,
    "start_time": "2024-06-18T15:13:45.102Z"
   },
   {
    "duration": 0,
    "start_time": "2024-06-18T15:13:45.104Z"
   },
   {
    "duration": 71,
    "start_time": "2024-06-18T15:13:59.927Z"
   },
   {
    "duration": 870,
    "start_time": "2024-06-18T15:14:13.381Z"
   },
   {
    "duration": 4,
    "start_time": "2024-06-18T15:14:15.132Z"
   },
   {
    "duration": 15045,
    "start_time": "2024-06-18T15:14:16.079Z"
   },
   {
    "duration": 0,
    "start_time": "2024-06-18T15:14:31.131Z"
   },
   {
    "duration": 0,
    "start_time": "2024-06-18T15:14:31.133Z"
   },
   {
    "duration": 650181,
    "start_time": "2024-06-18T15:14:39.256Z"
   },
   {
    "duration": 618,
    "start_time": "2024-06-18T15:25:43.108Z"
   },
   {
    "duration": 5,
    "start_time": "2024-06-18T15:25:46.489Z"
   },
   {
    "duration": 1052317,
    "start_time": "2024-06-18T15:25:50.441Z"
   },
   {
    "duration": 6528,
    "start_time": "2024-06-18T15:46:02.407Z"
   },
   {
    "duration": 67,
    "start_time": "2024-06-18T15:46:11.402Z"
   },
   {
    "duration": 33,
    "start_time": "2024-06-18T15:56:05.892Z"
   },
   {
    "duration": 7,
    "start_time": "2024-06-18T17:44:37.258Z"
   },
   {
    "duration": 4,
    "start_time": "2024-06-18T17:44:47.218Z"
   },
   {
    "duration": 2090,
    "start_time": "2024-06-18T17:44:52.423Z"
   },
   {
    "duration": 9,
    "start_time": "2024-06-18T17:48:48.112Z"
   },
   {
    "duration": 6,
    "start_time": "2024-06-18T17:49:25.583Z"
   },
   {
    "duration": 9,
    "start_time": "2024-06-18T17:54:27.169Z"
   },
   {
    "duration": 50,
    "start_time": "2024-06-18T17:56:05.802Z"
   },
   {
    "duration": 23,
    "start_time": "2024-06-18T17:57:07.033Z"
   },
   {
    "duration": 4,
    "start_time": "2024-06-18T18:00:25.357Z"
   },
   {
    "duration": 3296,
    "start_time": "2024-06-18T18:00:29.708Z"
   },
   {
    "duration": 6,
    "start_time": "2024-06-18T18:00:34.091Z"
   },
   {
    "duration": 12,
    "start_time": "2024-06-18T18:00:43.826Z"
   },
   {
    "duration": 36,
    "start_time": "2024-06-18T18:05:15.268Z"
   },
   {
    "duration": 37,
    "start_time": "2024-06-18T18:05:46.308Z"
   },
   {
    "duration": 9,
    "start_time": "2024-06-18T18:06:12.972Z"
   },
   {
    "duration": 26463,
    "start_time": "2024-06-18T18:08:22.262Z"
   },
   {
    "duration": 7,
    "start_time": "2024-06-18T18:18:00.241Z"
   },
   {
    "duration": 32,
    "start_time": "2024-06-18T18:18:02.780Z"
   },
   {
    "duration": 4,
    "start_time": "2024-06-18T18:23:03.453Z"
   },
   {
    "duration": 34,
    "start_time": "2024-06-18T18:23:07.847Z"
   },
   {
    "duration": 77,
    "start_time": "2024-06-18T18:28:20.410Z"
   },
   {
    "duration": 9,
    "start_time": "2024-06-18T18:31:36.414Z"
   },
   {
    "duration": 36,
    "start_time": "2024-06-18T18:31:41.024Z"
   },
   {
    "duration": 4895,
    "start_time": "2024-06-18T18:44:47.048Z"
   },
   {
    "duration": 18,
    "start_time": "2024-06-18T18:44:51.948Z"
   },
   {
    "duration": 6,
    "start_time": "2024-06-18T18:44:51.968Z"
   },
   {
    "duration": 987,
    "start_time": "2024-06-18T18:44:51.978Z"
   },
   {
    "duration": 40,
    "start_time": "2024-06-18T18:44:52.969Z"
   },
   {
    "duration": 34,
    "start_time": "2024-06-18T18:44:53.024Z"
   },
   {
    "duration": 95,
    "start_time": "2024-06-18T18:44:53.062Z"
   },
   {
    "duration": 242,
    "start_time": "2024-06-18T18:44:53.162Z"
   },
   {
    "duration": 190,
    "start_time": "2024-06-18T18:44:53.407Z"
   },
   {
    "duration": 22,
    "start_time": "2024-06-18T18:44:53.600Z"
   },
   {
    "duration": 17,
    "start_time": "2024-06-18T18:44:53.626Z"
   },
   {
    "duration": 208,
    "start_time": "2024-06-18T18:44:53.646Z"
   },
   {
    "duration": 1286,
    "start_time": "2024-06-18T18:44:53.857Z"
   },
   {
    "duration": 7,
    "start_time": "2024-06-18T18:44:55.151Z"
   },
   {
    "duration": 157,
    "start_time": "2024-06-18T18:44:55.162Z"
   },
   {
    "duration": 35,
    "start_time": "2024-06-18T18:44:55.323Z"
   },
   {
    "duration": 439,
    "start_time": "2024-06-18T18:44:55.362Z"
   },
   {
    "duration": 2219,
    "start_time": "2024-06-18T18:44:55.804Z"
   },
   {
    "duration": 5136,
    "start_time": "2024-06-18T18:44:58.026Z"
   },
   {
    "duration": 1357,
    "start_time": "2024-06-18T18:45:03.165Z"
   },
   {
    "duration": 15,
    "start_time": "2024-06-18T18:45:04.526Z"
   },
   {
    "duration": 36,
    "start_time": "2024-06-18T18:45:04.544Z"
   },
   {
    "duration": 51,
    "start_time": "2024-06-18T18:45:04.583Z"
   },
   {
    "duration": 20,
    "start_time": "2024-06-18T18:45:04.636Z"
   },
   {
    "duration": 9,
    "start_time": "2024-06-18T18:45:04.660Z"
   },
   {
    "duration": 5,
    "start_time": "2024-06-18T18:45:04.672Z"
   },
   {
    "duration": 3270,
    "start_time": "2024-06-18T18:45:04.681Z"
   },
   {
    "duration": 6,
    "start_time": "2024-06-18T18:45:07.954Z"
   },
   {
    "duration": 3317,
    "start_time": "2024-06-18T18:45:07.964Z"
   },
   {
    "duration": 8,
    "start_time": "2024-06-18T18:45:11.285Z"
   },
   {
    "duration": 57,
    "start_time": "2024-06-18T18:45:11.296Z"
   },
   {
    "duration": 50,
    "start_time": "2024-06-18T18:45:11.356Z"
   },
   {
    "duration": 17,
    "start_time": "2024-06-18T18:45:11.408Z"
   },
   {
    "duration": 5,
    "start_time": "2024-06-18T18:45:11.429Z"
   },
   {
    "duration": 76192,
    "start_time": "2024-06-18T18:45:11.437Z"
   },
   {
    "duration": 144,
    "start_time": "2024-06-18T18:46:27.637Z"
   },
   {
    "duration": 872,
    "start_time": "2024-06-18T18:46:27.784Z"
   },
   {
    "duration": 4,
    "start_time": "2024-06-18T18:46:28.659Z"
   },
   {
    "duration": 1042092,
    "start_time": "2024-06-18T18:48:14.113Z"
   },
   {
    "duration": 6932,
    "start_time": "2024-06-18T19:05:36.209Z"
   },
   {
    "duration": 242,
    "start_time": "2024-06-18T19:05:43.145Z"
   },
   {
    "duration": 823,
    "start_time": "2024-06-18T19:07:54.174Z"
   },
   {
    "duration": 3,
    "start_time": "2024-06-18T19:08:01.525Z"
   },
   {
    "duration": 65584,
    "start_time": "2024-06-18T19:08:03.426Z"
   },
   {
    "duration": 3492,
    "start_time": "2024-06-18T19:09:09.013Z"
   },
   {
    "duration": 32,
    "start_time": "2024-06-18T20:22:53.408Z"
   },
   {
    "duration": 33,
    "start_time": "2024-06-18T20:23:07.065Z"
   },
   {
    "duration": 9,
    "start_time": "2024-06-18T20:28:33.598Z"
   },
   {
    "duration": 3624,
    "start_time": "2024-06-18T20:29:13.236Z"
   },
   {
    "duration": 33,
    "start_time": "2024-06-18T20:30:32.374Z"
   },
   {
    "duration": 9,
    "start_time": "2024-06-18T20:32:58.766Z"
   },
   {
    "duration": 3388,
    "start_time": "2024-06-18T20:33:07.304Z"
   },
   {
    "duration": 6,
    "start_time": "2024-06-18T20:33:26.701Z"
   },
   {
    "duration": 52,
    "start_time": "2024-06-18T20:33:29.733Z"
   },
   {
    "duration": 11,
    "start_time": "2024-06-18T20:33:32.644Z"
   },
   {
    "duration": 482,
    "start_time": "2024-06-18T20:33:35.320Z"
   },
   {
    "duration": 4,
    "start_time": "2024-06-18T20:36:21.394Z"
   },
   {
    "duration": 11,
    "start_time": "2024-06-18T20:36:26.398Z"
   },
   {
    "duration": 9,
    "start_time": "2024-06-18T20:36:33.270Z"
   },
   {
    "duration": 9,
    "start_time": "2024-06-18T20:37:58.696Z"
   },
   {
    "duration": 35,
    "start_time": "2024-06-18T20:38:59.292Z"
   },
   {
    "duration": 37,
    "start_time": "2024-06-18T20:40:35.510Z"
   },
   {
    "duration": 16,
    "start_time": "2024-06-18T20:40:49.707Z"
   },
   {
    "duration": 38,
    "start_time": "2024-06-18T20:41:31.461Z"
   },
   {
    "duration": 36,
    "start_time": "2024-06-18T20:41:38.539Z"
   },
   {
    "duration": 39,
    "start_time": "2024-06-18T20:41:48.308Z"
   },
   {
    "duration": 10,
    "start_time": "2024-06-18T20:42:54.575Z"
   },
   {
    "duration": 36,
    "start_time": "2024-06-18T21:39:56.361Z"
   },
   {
    "duration": 984,
    "start_time": "2024-06-18T21:42:18.951Z"
   },
   {
    "duration": 4142,
    "start_time": "2024-06-18T21:42:22.768Z"
   },
   {
    "duration": 7,
    "start_time": "2024-06-18T21:46:33.234Z"
   },
   {
    "duration": 157027,
    "start_time": "2024-06-18T21:52:20.111Z"
   },
   {
    "duration": 5,
    "start_time": "2024-06-18T21:57:14.062Z"
   },
   {
    "duration": 8171,
    "start_time": "2024-06-18T21:57:16.151Z"
   },
   {
    "duration": 8593,
    "start_time": "2024-06-19T16:01:43.319Z"
   },
   {
    "duration": 15,
    "start_time": "2024-06-19T16:01:51.919Z"
   },
   {
    "duration": 3,
    "start_time": "2024-06-19T16:01:51.938Z"
   },
   {
    "duration": 1002,
    "start_time": "2024-06-19T16:01:51.945Z"
   },
   {
    "duration": 38,
    "start_time": "2024-06-19T16:01:52.951Z"
   },
   {
    "duration": 29,
    "start_time": "2024-06-19T16:01:53.003Z"
   },
   {
    "duration": 87,
    "start_time": "2024-06-19T16:01:53.038Z"
   },
   {
    "duration": 252,
    "start_time": "2024-06-19T16:01:53.129Z"
   },
   {
    "duration": 192,
    "start_time": "2024-06-19T16:01:53.384Z"
   },
   {
    "duration": 24,
    "start_time": "2024-06-19T16:01:53.579Z"
   },
   {
    "duration": 17,
    "start_time": "2024-06-19T16:01:53.606Z"
   },
   {
    "duration": 211,
    "start_time": "2024-06-19T16:01:53.626Z"
   },
   {
    "duration": 1119,
    "start_time": "2024-06-19T16:01:53.839Z"
   },
   {
    "duration": 8,
    "start_time": "2024-06-19T16:01:54.965Z"
   },
   {
    "duration": 161,
    "start_time": "2024-06-19T16:01:54.977Z"
   },
   {
    "duration": 38,
    "start_time": "2024-06-19T16:01:55.141Z"
   },
   {
    "duration": 474,
    "start_time": "2024-06-19T16:01:55.182Z"
   },
   {
    "duration": 2279,
    "start_time": "2024-06-19T16:01:55.659Z"
   },
   {
    "duration": 5343,
    "start_time": "2024-06-19T16:01:57.941Z"
   },
   {
    "duration": 1104,
    "start_time": "2024-06-19T16:02:03.287Z"
   },
   {
    "duration": 20,
    "start_time": "2024-06-19T16:02:04.394Z"
   },
   {
    "duration": 39,
    "start_time": "2024-06-19T16:02:04.417Z"
   },
   {
    "duration": 52,
    "start_time": "2024-06-19T16:02:04.460Z"
   },
   {
    "duration": 20,
    "start_time": "2024-06-19T16:02:04.516Z"
   },
   {
    "duration": 11,
    "start_time": "2024-06-19T16:02:04.539Z"
   },
   {
    "duration": 6,
    "start_time": "2024-06-19T16:02:04.553Z"
   },
   {
    "duration": 3314,
    "start_time": "2024-06-19T16:02:04.603Z"
   },
   {
    "duration": 6,
    "start_time": "2024-06-19T16:02:07.919Z"
   },
   {
    "duration": 3285,
    "start_time": "2024-06-19T16:02:07.930Z"
   },
   {
    "duration": 10,
    "start_time": "2024-06-19T16:02:11.218Z"
   },
   {
    "duration": 45,
    "start_time": "2024-06-19T16:02:11.231Z"
   },
   {
    "duration": 70,
    "start_time": "2024-06-19T16:02:11.278Z"
   },
   {
    "duration": 5,
    "start_time": "2024-06-19T16:02:11.352Z"
   },
   {
    "duration": 4,
    "start_time": "2024-06-19T16:02:11.362Z"
   },
   {
    "duration": 77357,
    "start_time": "2024-06-19T16:02:11.369Z"
   },
   {
    "duration": 228,
    "start_time": "2024-06-19T16:03:28.729Z"
   },
   {
    "duration": 734,
    "start_time": "2024-06-19T16:03:28.961Z"
   },
   {
    "duration": 5,
    "start_time": "2024-06-19T16:03:29.698Z"
   },
   {
    "duration": 1060978,
    "start_time": "2024-06-19T16:03:29.707Z"
   },
   {
    "duration": 9333,
    "start_time": "2024-06-19T16:21:10.688Z"
   },
   {
    "duration": 146,
    "start_time": "2024-06-19T16:21:20.106Z"
   },
   {
    "duration": 4,
    "start_time": "2024-06-19T16:21:20.256Z"
   },
   {
    "duration": 65860,
    "start_time": "2024-06-19T16:21:20.263Z"
   },
   {
    "duration": 3791,
    "start_time": "2024-06-19T16:22:26.126Z"
   },
   {
    "duration": 1081,
    "start_time": "2024-06-19T16:22:29.920Z"
   },
   {
    "duration": 4216,
    "start_time": "2024-06-19T16:22:31.005Z"
   },
   {
    "duration": 156511,
    "start_time": "2024-06-19T16:22:35.224Z"
   },
   {
    "duration": 5,
    "start_time": "2024-06-19T16:25:11.738Z"
   },
   {
    "duration": 8160,
    "start_time": "2024-06-19T16:25:11.746Z"
   },
   {
    "duration": 4,
    "start_time": "2024-06-19T16:25:19.910Z"
   },
   {
    "duration": 842,
    "start_time": "2024-06-19T16:25:19.918Z"
   },
   {
    "duration": 0,
    "start_time": "2024-06-19T16:25:20.763Z"
   },
   {
    "duration": 0,
    "start_time": "2024-06-19T16:25:20.765Z"
   },
   {
    "duration": 0,
    "start_time": "2024-06-19T16:25:20.767Z"
   },
   {
    "duration": 0,
    "start_time": "2024-06-19T16:25:20.770Z"
   },
   {
    "duration": 0,
    "start_time": "2024-06-19T16:25:20.772Z"
   },
   {
    "duration": 45,
    "start_time": "2024-06-19T16:25:39.233Z"
   },
   {
    "duration": 0,
    "start_time": "2024-06-19T16:25:39.282Z"
   },
   {
    "duration": 0,
    "start_time": "2024-06-19T16:25:39.284Z"
   },
   {
    "duration": 0,
    "start_time": "2024-06-19T16:25:39.286Z"
   },
   {
    "duration": 0,
    "start_time": "2024-06-19T16:25:39.288Z"
   },
   {
    "duration": 0,
    "start_time": "2024-06-19T16:25:39.290Z"
   },
   {
    "duration": 6,
    "start_time": "2024-06-19T16:25:46.796Z"
   },
   {
    "duration": 51,
    "start_time": "2024-06-19T16:25:49.139Z"
   },
   {
    "duration": 6,
    "start_time": "2024-06-19T16:25:55.790Z"
   },
   {
    "duration": 10,
    "start_time": "2024-06-19T16:25:58.876Z"
   },
   {
    "duration": 11,
    "start_time": "2024-06-19T16:26:01.727Z"
   },
   {
    "duration": 11,
    "start_time": "2024-06-19T16:26:03.591Z"
   },
   {
    "duration": 12,
    "start_time": "2024-06-19T16:26:05.694Z"
   },
   {
    "duration": 155,
    "start_time": "2024-06-19T16:27:42.942Z"
   },
   {
    "duration": 14,
    "start_time": "2024-06-19T16:28:10.112Z"
   },
   {
    "duration": 15,
    "start_time": "2024-06-19T16:28:26.455Z"
   },
   {
    "duration": 23,
    "start_time": "2024-06-19T16:29:00.834Z"
   },
   {
    "duration": 9,
    "start_time": "2024-06-19T16:45:32.807Z"
   },
   {
    "duration": 9,
    "start_time": "2024-06-19T16:45:42.998Z"
   },
   {
    "duration": 10,
    "start_time": "2024-06-19T16:46:11.594Z"
   },
   {
    "duration": 29,
    "start_time": "2024-06-19T16:46:32.865Z"
   },
   {
    "duration": 31,
    "start_time": "2024-06-19T16:47:32.929Z"
   },
   {
    "duration": 529,
    "start_time": "2024-06-19T17:22:38.180Z"
   },
   {
    "duration": 404,
    "start_time": "2024-06-19T17:23:29.310Z"
   },
   {
    "duration": 337,
    "start_time": "2024-06-19T17:23:50.592Z"
   },
   {
    "duration": 550,
    "start_time": "2024-06-19T17:28:23.698Z"
   },
   {
    "duration": 19,
    "start_time": "2024-06-19T17:29:33.907Z"
   },
   {
    "duration": 1695,
    "start_time": "2024-06-19T17:31:00.415Z"
   },
   {
    "duration": 586,
    "start_time": "2024-06-19T17:31:43.254Z"
   },
   {
    "duration": 217,
    "start_time": "2024-06-19T17:32:38.005Z"
   },
   {
    "duration": 186,
    "start_time": "2024-06-19T17:34:00.599Z"
   },
   {
    "duration": 208,
    "start_time": "2024-06-19T17:34:10.220Z"
   },
   {
    "duration": 16,
    "start_time": "2024-06-19T17:34:34.397Z"
   },
   {
    "duration": 40,
    "start_time": "2024-06-19T17:36:53.179Z"
   },
   {
    "duration": 8,
    "start_time": "2024-06-19T17:37:50.554Z"
   },
   {
    "duration": 20,
    "start_time": "2024-06-19T17:37:53.180Z"
   },
   {
    "duration": 18,
    "start_time": "2024-06-19T17:39:31.629Z"
   },
   {
    "duration": 6,
    "start_time": "2024-06-19T17:39:47.658Z"
   },
   {
    "duration": 402,
    "start_time": "2024-06-19T17:41:15.410Z"
   },
   {
    "duration": 1109,
    "start_time": "2024-06-19T17:42:17.794Z"
   },
   {
    "duration": 199,
    "start_time": "2024-06-19T17:43:23.735Z"
   },
   {
    "duration": 377,
    "start_time": "2024-06-19T17:46:35.248Z"
   },
   {
    "duration": 367,
    "start_time": "2024-06-19T17:48:22.824Z"
   },
   {
    "duration": 15,
    "start_time": "2024-06-19T17:48:58.101Z"
   },
   {
    "duration": 328,
    "start_time": "2024-06-19T17:51:57.689Z"
   },
   {
    "duration": 381,
    "start_time": "2024-06-19T17:53:55.740Z"
   },
   {
    "duration": 396,
    "start_time": "2024-06-19T17:56:38.308Z"
   },
   {
    "duration": 652,
    "start_time": "2024-06-19T17:56:46.985Z"
   },
   {
    "duration": 373,
    "start_time": "2024-06-19T17:56:51.743Z"
   },
   {
    "duration": 368,
    "start_time": "2024-06-19T18:00:05.037Z"
   },
   {
    "duration": 398,
    "start_time": "2024-06-19T18:00:26.534Z"
   },
   {
    "duration": 5,
    "start_time": "2024-06-19T18:02:15.403Z"
   },
   {
    "duration": 6,
    "start_time": "2024-06-19T18:02:24.504Z"
   },
   {
    "duration": 5,
    "start_time": "2024-06-19T18:03:06.694Z"
   },
   {
    "duration": 4,
    "start_time": "2024-06-19T18:03:23.529Z"
   },
   {
    "duration": 4,
    "start_time": "2024-06-19T18:03:34.139Z"
   },
   {
    "duration": 22,
    "start_time": "2024-06-19T18:03:56.986Z"
   },
   {
    "duration": 6,
    "start_time": "2024-06-19T18:04:16.055Z"
   },
   {
    "duration": 20,
    "start_time": "2024-06-19T18:04:21.484Z"
   },
   {
    "duration": 22,
    "start_time": "2024-06-19T18:04:37.363Z"
   },
   {
    "duration": 24,
    "start_time": "2024-06-19T18:04:46.763Z"
   },
   {
    "duration": 351,
    "start_time": "2024-06-19T18:08:31.866Z"
   },
   {
    "duration": 343,
    "start_time": "2024-06-19T18:08:40.438Z"
   },
   {
    "duration": 331,
    "start_time": "2024-06-19T18:08:47.579Z"
   },
   {
    "duration": 356,
    "start_time": "2024-06-19T18:08:55.766Z"
   },
   {
    "duration": 377,
    "start_time": "2024-06-19T18:09:07.821Z"
   },
   {
    "duration": 367,
    "start_time": "2024-06-19T18:10:43.058Z"
   },
   {
    "duration": 239,
    "start_time": "2024-06-19T18:12:51.288Z"
   },
   {
    "duration": 374,
    "start_time": "2024-06-19T18:13:30.899Z"
   },
   {
    "duration": 211,
    "start_time": "2024-06-19T18:14:45.250Z"
   },
   {
    "duration": 16,
    "start_time": "2024-06-19T18:15:38.489Z"
   },
   {
    "duration": 207,
    "start_time": "2024-06-19T18:16:44.070Z"
   },
   {
    "duration": 224,
    "start_time": "2024-06-19T18:17:53.501Z"
   },
   {
    "duration": 414,
    "start_time": "2024-06-19T18:18:15.936Z"
   },
   {
    "duration": 384,
    "start_time": "2024-06-19T18:19:03.372Z"
   },
   {
    "duration": 371,
    "start_time": "2024-06-19T18:19:17.666Z"
   },
   {
    "duration": 425,
    "start_time": "2024-06-19T18:19:27.926Z"
   },
   {
    "duration": 386,
    "start_time": "2024-06-19T18:19:40.306Z"
   },
   {
    "duration": 422,
    "start_time": "2024-06-19T18:19:56.139Z"
   },
   {
    "duration": 376,
    "start_time": "2024-06-19T18:20:24.891Z"
   },
   {
    "duration": 402,
    "start_time": "2024-06-19T18:23:51.757Z"
   },
   {
    "duration": 385,
    "start_time": "2024-06-19T18:24:18.872Z"
   },
   {
    "duration": 1415,
    "start_time": "2024-06-19T18:24:29.052Z"
   },
   {
    "duration": 381,
    "start_time": "2024-06-19T18:24:52.905Z"
   },
   {
    "duration": 389,
    "start_time": "2024-06-19T18:25:00.505Z"
   },
   {
    "duration": 375,
    "start_time": "2024-06-19T18:25:30.469Z"
   },
   {
    "duration": 380,
    "start_time": "2024-06-19T18:25:52.251Z"
   },
   {
    "duration": 385,
    "start_time": "2024-06-19T18:26:01.555Z"
   },
   {
    "duration": 8,
    "start_time": "2024-06-19T18:28:02.363Z"
   },
   {
    "duration": 9,
    "start_time": "2024-06-19T18:29:02.154Z"
   },
   {
    "duration": 256,
    "start_time": "2024-06-19T18:52:52.850Z"
   },
   {
    "duration": 532,
    "start_time": "2024-06-19T18:56:07.927Z"
   },
   {
    "duration": 125,
    "start_time": "2024-06-19T18:56:20.082Z"
   },
   {
    "duration": 7,
    "start_time": "2024-06-19T18:56:28.371Z"
   },
   {
    "duration": 12,
    "start_time": "2024-06-19T18:56:30.869Z"
   },
   {
    "duration": 9,
    "start_time": "2024-06-19T18:56:34.404Z"
   },
   {
    "duration": 8,
    "start_time": "2024-06-19T18:56:36.666Z"
   },
   {
    "duration": 6,
    "start_time": "2024-06-19T18:59:50.747Z"
   },
   {
    "duration": 79586,
    "start_time": "2024-06-19T19:00:01.817Z"
   },
   {
    "duration": 67,
    "start_time": "2024-06-19T19:02:05.343Z"
   },
   {
    "duration": 7,
    "start_time": "2024-06-19T19:02:44.775Z"
   },
   {
    "duration": 69,
    "start_time": "2024-06-19T19:03:16.904Z"
   },
   {
    "duration": 5,
    "start_time": "2024-06-19T19:10:37.033Z"
   },
   {
    "duration": 5,
    "start_time": "2024-06-19T19:10:42.045Z"
   },
   {
    "duration": 4965,
    "start_time": "2024-06-19T19:13:13.029Z"
   },
   {
    "duration": 17,
    "start_time": "2024-06-19T19:13:17.997Z"
   },
   {
    "duration": 4,
    "start_time": "2024-06-19T19:13:18.017Z"
   },
   {
    "duration": 1000,
    "start_time": "2024-06-19T19:13:18.025Z"
   },
   {
    "duration": 40,
    "start_time": "2024-06-19T19:13:19.027Z"
   },
   {
    "duration": 54,
    "start_time": "2024-06-19T19:13:19.070Z"
   },
   {
    "duration": 85,
    "start_time": "2024-06-19T19:13:19.127Z"
   },
   {
    "duration": 261,
    "start_time": "2024-06-19T19:13:19.215Z"
   },
   {
    "duration": 188,
    "start_time": "2024-06-19T19:13:19.479Z"
   },
   {
    "duration": 12,
    "start_time": "2024-06-19T19:13:19.673Z"
   },
   {
    "duration": 19,
    "start_time": "2024-06-19T19:13:19.703Z"
   },
   {
    "duration": 210,
    "start_time": "2024-06-19T19:13:19.725Z"
   },
   {
    "duration": 1212,
    "start_time": "2024-06-19T19:13:19.938Z"
   },
   {
    "duration": 9,
    "start_time": "2024-06-19T19:13:21.153Z"
   },
   {
    "duration": 150,
    "start_time": "2024-06-19T19:13:21.165Z"
   },
   {
    "duration": 36,
    "start_time": "2024-06-19T19:13:21.318Z"
   },
   {
    "duration": 420,
    "start_time": "2024-06-19T19:13:21.357Z"
   },
   {
    "duration": 2259,
    "start_time": "2024-06-19T19:13:21.780Z"
   },
   {
    "duration": 5484,
    "start_time": "2024-06-19T19:13:24.041Z"
   },
   {
    "duration": 1382,
    "start_time": "2024-06-19T19:13:29.529Z"
   },
   {
    "duration": 14,
    "start_time": "2024-06-19T19:13:30.916Z"
   },
   {
    "duration": 38,
    "start_time": "2024-06-19T19:13:30.933Z"
   },
   {
    "duration": 49,
    "start_time": "2024-06-19T19:13:30.974Z"
   },
   {
    "duration": 21,
    "start_time": "2024-06-19T19:13:31.026Z"
   },
   {
    "duration": 10,
    "start_time": "2024-06-19T19:13:31.050Z"
   },
   {
    "duration": 5,
    "start_time": "2024-06-19T19:13:31.101Z"
   },
   {
    "duration": 3316,
    "start_time": "2024-06-19T19:13:31.110Z"
   },
   {
    "duration": 12,
    "start_time": "2024-06-19T19:13:34.437Z"
   },
   {
    "duration": 3354,
    "start_time": "2024-06-19T19:13:34.453Z"
   },
   {
    "duration": 9,
    "start_time": "2024-06-19T19:13:37.811Z"
   },
   {
    "duration": 38,
    "start_time": "2024-06-19T19:13:37.823Z"
   },
   {
    "duration": 84,
    "start_time": "2024-06-19T19:13:37.864Z"
   },
   {
    "duration": 6,
    "start_time": "2024-06-19T19:13:37.953Z"
   },
   {
    "duration": 77443,
    "start_time": "2024-06-19T19:13:37.962Z"
   },
   {
    "duration": 152,
    "start_time": "2024-06-19T19:14:55.412Z"
   },
   {
    "duration": 968,
    "start_time": "2024-06-19T19:14:55.568Z"
   },
   {
    "duration": 5,
    "start_time": "2024-06-19T19:14:56.539Z"
   },
   {
    "duration": 1062262,
    "start_time": "2024-06-19T19:14:56.548Z"
   },
   {
    "duration": 8612,
    "start_time": "2024-06-19T19:32:38.813Z"
   },
   {
    "duration": 149,
    "start_time": "2024-06-19T19:32:47.503Z"
   },
   {
    "duration": 4,
    "start_time": "2024-06-19T19:32:47.655Z"
   },
   {
    "duration": 67226,
    "start_time": "2024-06-19T19:32:47.663Z"
   },
   {
    "duration": 3445,
    "start_time": "2024-06-19T19:33:54.891Z"
   },
   {
    "duration": 1003,
    "start_time": "2024-06-19T19:33:58.339Z"
   },
   {
    "duration": 4226,
    "start_time": "2024-06-19T19:33:59.345Z"
   },
   {
    "duration": 158619,
    "start_time": "2024-06-19T19:34:03.574Z"
   },
   {
    "duration": 9,
    "start_time": "2024-06-19T19:36:42.195Z"
   },
   {
    "duration": 8190,
    "start_time": "2024-06-19T19:36:42.208Z"
   },
   {
    "duration": 5,
    "start_time": "2024-06-19T19:36:50.406Z"
   },
   {
    "duration": 10,
    "start_time": "2024-06-19T19:36:50.415Z"
   },
   {
    "duration": 24,
    "start_time": "2024-06-19T19:36:50.429Z"
   },
   {
    "duration": 61,
    "start_time": "2024-06-19T19:36:50.457Z"
   },
   {
    "duration": 416,
    "start_time": "2024-06-19T19:36:50.521Z"
   },
   {
    "duration": 380,
    "start_time": "2024-06-19T19:36:50.940Z"
   },
   {
    "duration": 411,
    "start_time": "2024-06-19T19:36:51.324Z"
   },
   {
    "duration": 7,
    "start_time": "2024-06-19T19:36:51.738Z"
   },
   {
    "duration": 12,
    "start_time": "2024-06-19T19:36:51.748Z"
   },
   {
    "duration": 39,
    "start_time": "2024-06-19T19:36:51.763Z"
   },
   {
    "duration": 9,
    "start_time": "2024-06-19T19:36:51.805Z"
   },
   {
    "duration": 10,
    "start_time": "2024-06-19T19:36:51.817Z"
   },
   {
    "duration": 12,
    "start_time": "2024-06-19T19:36:51.829Z"
   },
   {
    "duration": 69,
    "start_time": "2024-06-19T19:36:51.844Z"
   },
   {
    "duration": 31,
    "start_time": "2024-06-19T19:36:51.916Z"
   },
   {
    "duration": 19,
    "start_time": "2024-06-19T19:39:01.325Z"
   },
   {
    "duration": 9,
    "start_time": "2024-06-19T19:40:29.202Z"
   },
   {
    "duration": 12,
    "start_time": "2024-06-19T19:40:36.194Z"
   },
   {
    "duration": 21,
    "start_time": "2024-06-19T19:40:47.352Z"
   },
   {
    "duration": 11,
    "start_time": "2024-06-19T19:40:55.348Z"
   },
   {
    "duration": 9,
    "start_time": "2024-06-19T19:41:27.813Z"
   },
   {
    "duration": 10,
    "start_time": "2024-06-19T19:41:42.727Z"
   },
   {
    "duration": 10,
    "start_time": "2024-06-19T19:41:53.656Z"
   },
   {
    "duration": 11,
    "start_time": "2024-06-19T19:42:18.015Z"
   },
   {
    "duration": 11,
    "start_time": "2024-06-19T19:42:48.759Z"
   },
   {
    "duration": 22,
    "start_time": "2024-06-19T19:43:10.243Z"
   },
   {
    "duration": 31,
    "start_time": "2024-06-19T19:43:26.968Z"
   },
   {
    "duration": 22,
    "start_time": "2024-06-19T19:45:53.696Z"
   },
   {
    "duration": 19,
    "start_time": "2024-06-19T19:55:30.151Z"
   },
   {
    "duration": 20,
    "start_time": "2024-06-19T19:55:36.505Z"
   },
   {
    "duration": 324,
    "start_time": "2024-06-22T21:15:14.419Z"
   },
   {
    "duration": 8567,
    "start_time": "2024-06-22T21:15:19.925Z"
   },
   {
    "duration": 18,
    "start_time": "2024-06-22T21:15:28.495Z"
   },
   {
    "duration": 5,
    "start_time": "2024-06-22T21:15:28.516Z"
   },
   {
    "duration": 1040,
    "start_time": "2024-06-22T21:15:28.523Z"
   },
   {
    "duration": 47,
    "start_time": "2024-06-22T21:15:29.567Z"
   },
   {
    "duration": 31,
    "start_time": "2024-06-22T21:15:29.617Z"
   },
   {
    "duration": 94,
    "start_time": "2024-06-22T21:15:29.651Z"
   },
   {
    "duration": 239,
    "start_time": "2024-06-22T21:15:29.748Z"
   },
   {
    "duration": 188,
    "start_time": "2024-06-22T21:15:29.990Z"
   },
   {
    "duration": 25,
    "start_time": "2024-06-22T21:15:30.181Z"
   },
   {
    "duration": 20,
    "start_time": "2024-06-22T21:15:30.210Z"
   },
   {
    "duration": 210,
    "start_time": "2024-06-22T21:15:30.234Z"
   },
   {
    "duration": 1332,
    "start_time": "2024-06-22T21:15:30.447Z"
   },
   {
    "duration": 8,
    "start_time": "2024-06-22T21:15:31.785Z"
   },
   {
    "duration": 146,
    "start_time": "2024-06-22T21:15:31.795Z"
   },
   {
    "duration": 34,
    "start_time": "2024-06-22T21:15:31.944Z"
   },
   {
    "duration": 494,
    "start_time": "2024-06-22T21:15:31.982Z"
   },
   {
    "duration": 2215,
    "start_time": "2024-06-22T21:15:32.479Z"
   },
   {
    "duration": 5129,
    "start_time": "2024-06-22T21:15:34.697Z"
   },
   {
    "duration": 1423,
    "start_time": "2024-06-22T21:15:39.830Z"
   },
   {
    "duration": 16,
    "start_time": "2024-06-22T21:15:41.255Z"
   },
   {
    "duration": 65,
    "start_time": "2024-06-22T21:15:41.275Z"
   },
   {
    "duration": 29,
    "start_time": "2024-06-22T21:15:41.343Z"
   },
   {
    "duration": 43,
    "start_time": "2024-06-22T21:15:41.376Z"
   },
   {
    "duration": 11,
    "start_time": "2024-06-22T21:15:41.423Z"
   },
   {
    "duration": 5,
    "start_time": "2024-06-22T21:15:41.437Z"
   },
   {
    "duration": 3313,
    "start_time": "2024-06-22T21:15:41.446Z"
   },
   {
    "duration": 6,
    "start_time": "2024-06-22T21:15:44.762Z"
   },
   {
    "duration": 3315,
    "start_time": "2024-06-22T21:15:44.771Z"
   },
   {
    "duration": 8,
    "start_time": "2024-06-22T21:16:30.209Z"
   },
   {
    "duration": 37,
    "start_time": "2024-06-22T21:16:32.546Z"
   }
  ],
  "kernelspec": {
   "display_name": "Python 3 (ipykernel)",
   "language": "python",
   "name": "python3"
  },
  "language_info": {
   "codemirror_mode": {
    "name": "ipython",
    "version": 3
   },
   "file_extension": ".py",
   "mimetype": "text/x-python",
   "name": "python",
   "nbconvert_exporter": "python",
   "pygments_lexer": "ipython3",
   "version": "3.12.5"
  },
  "toc": {
   "base_numbering": 1,
   "nav_menu": {},
   "number_sections": true,
   "sideBar": true,
   "skip_h1_title": true,
   "title_cell": "Table of Contents",
   "title_sidebar": "Contents",
   "toc_cell": false,
   "toc_position": {
    "height": "calc(100% - 180px)",
    "left": "10px",
    "top": "150px",
    "width": "322.222px"
   },
   "toc_section_display": true,
   "toc_window_display": true
  },
  "vscode": {
   "interpreter": {
    "hash": "ac629f305345b17df6668bc9b17021b4f12075c260532782c34ed55a489bc20f"
   }
  }
 },
 "nbformat": 4,
 "nbformat_minor": 4
}
